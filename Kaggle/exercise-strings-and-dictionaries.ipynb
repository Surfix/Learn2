{
 "cells": [
  {
   "cell_type": "markdown",
   "id": "72d8fb33",
   "metadata": {
    "papermill": {
     "duration": 0.018104,
     "end_time": "2021-08-08T16:23:05.303569",
     "exception": false,
     "start_time": "2021-08-08T16:23:05.285465",
     "status": "completed"
    },
    "tags": []
   },
   "source": [
    "**This notebook is an exercise in the [Python](https://www.kaggle.com/learn/python) course.  You can reference the tutorial at [this link](https://www.kaggle.com/colinmorris/strings-and-dictionaries).**\n",
    "\n",
    "---\n"
   ]
  },
  {
   "cell_type": "markdown",
   "id": "fc33da45",
   "metadata": {
    "papermill": {
     "duration": 0.018869,
     "end_time": "2021-08-08T16:23:05.339741",
     "exception": false,
     "start_time": "2021-08-08T16:23:05.320872",
     "status": "completed"
    },
    "tags": []
   },
   "source": [
    "You are almost done with the course. Nice job!\n",
    "\n",
    "We have a couple more interesting problems for you before you go. \n",
    "\n",
    "As always, run the setup code below before working on the questions."
   ]
  },
  {
   "cell_type": "code",
   "execution_count": 1,
   "id": "7058e6f7",
   "metadata": {
    "execution": {
     "iopub.execute_input": "2021-08-08T16:23:05.386377Z",
     "iopub.status.busy": "2021-08-08T16:23:05.385644Z",
     "iopub.status.idle": "2021-08-08T16:23:05.525684Z",
     "shell.execute_reply": "2021-08-08T16:23:05.524832Z",
     "shell.execute_reply.started": "2021-08-08T16:12:18.518275Z"
    },
    "papermill": {
     "duration": 0.168901,
     "end_time": "2021-08-08T16:23:05.525866",
     "exception": false,
     "start_time": "2021-08-08T16:23:05.356965",
     "status": "completed"
    },
    "tags": []
   },
   "outputs": [
    {
     "name": "stdout",
     "output_type": "stream",
     "text": [
      "Setup complete.\n"
     ]
    }
   ],
   "source": [
    "from learntools.core import binder; binder.bind(globals())\n",
    "from learntools.python.ex6 import *\n",
    "print('Setup complete.')"
   ]
  },
  {
   "cell_type": "markdown",
   "id": "0c793dcb",
   "metadata": {
    "papermill": {
     "duration": 0.016239,
     "end_time": "2021-08-08T16:23:05.560002",
     "exception": false,
     "start_time": "2021-08-08T16:23:05.543763",
     "status": "completed"
    },
    "tags": []
   },
   "source": [
    "Let's start with a string lightning round to warm up. What are the lengths of the strings below?\n",
    "\n",
    "For each of the five strings below, predict what `len()` would return when passed that string. Use the variable `length` to record your answer, then run the cell to check whether you were right.  \n",
    "\n",
    "# 0a."
   ]
  },
  {
   "cell_type": "code",
   "execution_count": 2,
   "id": "727ca556",
   "metadata": {
    "execution": {
     "iopub.execute_input": "2021-08-08T16:23:05.601122Z",
     "iopub.status.busy": "2021-08-08T16:23:05.600368Z",
     "iopub.status.idle": "2021-08-08T16:23:05.607517Z",
     "shell.execute_reply": "2021-08-08T16:23:05.607989Z",
     "shell.execute_reply.started": "2021-08-08T16:12:26.623331Z"
    },
    "papermill": {
     "duration": 0.03054,
     "end_time": "2021-08-08T16:23:05.608166",
     "exception": false,
     "start_time": "2021-08-08T16:23:05.577626",
     "status": "completed"
    },
    "tags": []
   },
   "outputs": [
    {
     "data": {
      "application/javascript": [
       "parent.postMessage({\"jupyterEvent\": \"custom.exercise_interaction\", \"data\": {\"outcomeType\": 1, \"valueTowardsCompletion\": 0.3333333333333333, \"interactionType\": 1, \"questionType\": 1, \"questionId\": \"0.1_ZA\", \"learnToolsVersion\": \"0.3.4\", \"failureMessage\": \"\", \"exceptionClass\": \"\", \"trace\": \"\"}}, \"*\")"
      ],
      "text/plain": [
       "<IPython.core.display.Javascript object>"
      ]
     },
     "metadata": {},
     "output_type": "display_data"
    },
    {
     "data": {
      "text/markdown": [
       "<span style=\"color:#33cc33\">Correct:</span> \n",
       "\n",
       "The empty string has length zero. Note that the empty string is also the only string that Python considers as False when converting to boolean."
      ],
      "text/plain": [
       "Correct: \n",
       "\n",
       "The empty string has length zero. Note that the empty string is also the only string that Python considers as False when converting to boolean."
      ]
     },
     "metadata": {},
     "output_type": "display_data"
    }
   ],
   "source": [
    "a = \"\"\n",
    "length = len(a)\n",
    "q0.a.check()"
   ]
  },
  {
   "cell_type": "markdown",
   "id": "7873f59b",
   "metadata": {
    "papermill": {
     "duration": 0.018228,
     "end_time": "2021-08-08T16:23:05.644279",
     "exception": false,
     "start_time": "2021-08-08T16:23:05.626051",
     "status": "completed"
    },
    "tags": []
   },
   "source": [
    "# 0b."
   ]
  },
  {
   "cell_type": "code",
   "execution_count": 3,
   "id": "51400e7e",
   "metadata": {
    "execution": {
     "iopub.execute_input": "2021-08-08T16:23:05.687807Z",
     "iopub.status.busy": "2021-08-08T16:23:05.686743Z",
     "iopub.status.idle": "2021-08-08T16:23:05.695566Z",
     "shell.execute_reply": "2021-08-08T16:23:05.696090Z",
     "shell.execute_reply.started": "2021-08-08T16:12:49.296251Z"
    },
    "papermill": {
     "duration": 0.031443,
     "end_time": "2021-08-08T16:23:05.696265",
     "exception": false,
     "start_time": "2021-08-08T16:23:05.664822",
     "status": "completed"
    },
    "tags": []
   },
   "outputs": [
    {
     "data": {
      "application/javascript": [
       "parent.postMessage({\"jupyterEvent\": \"custom.exercise_interaction\", \"data\": {\"outcomeType\": 1, \"valueTowardsCompletion\": 0.3333333333333333, \"interactionType\": 1, \"questionType\": 1, \"questionId\": \"0.2_ZB\", \"learnToolsVersion\": \"0.3.4\", \"failureMessage\": \"\", \"exceptionClass\": \"\", \"trace\": \"\"}}, \"*\")"
      ],
      "text/plain": [
       "<IPython.core.display.Javascript object>"
      ]
     },
     "metadata": {},
     "output_type": "display_data"
    },
    {
     "data": {
      "text/markdown": [
       "<span style=\"color:#33cc33\">Correct:</span> \n",
       "\n",
       "Keep in mind Python includes spaces (and punctuation) when counting string length."
      ],
      "text/plain": [
       "Correct: \n",
       "\n",
       "Keep in mind Python includes spaces (and punctuation) when counting string length."
      ]
     },
     "metadata": {},
     "output_type": "display_data"
    }
   ],
   "source": [
    "b = \"it's ok\"\n",
    "length = len(b)\n",
    "q0.b.check()"
   ]
  },
  {
   "cell_type": "markdown",
   "id": "27333f19",
   "metadata": {
    "papermill": {
     "duration": 0.020198,
     "end_time": "2021-08-08T16:23:05.734999",
     "exception": false,
     "start_time": "2021-08-08T16:23:05.714801",
     "status": "completed"
    },
    "tags": []
   },
   "source": [
    "# 0c."
   ]
  },
  {
   "cell_type": "code",
   "execution_count": 4,
   "id": "0563a0c5",
   "metadata": {
    "execution": {
     "iopub.execute_input": "2021-08-08T16:23:05.779609Z",
     "iopub.status.busy": "2021-08-08T16:23:05.778479Z",
     "iopub.status.idle": "2021-08-08T16:23:05.787014Z",
     "shell.execute_reply": "2021-08-08T16:23:05.787554Z",
     "shell.execute_reply.started": "2021-08-08T16:13:13.682531Z"
    },
    "papermill": {
     "duration": 0.033602,
     "end_time": "2021-08-08T16:23:05.787743",
     "exception": false,
     "start_time": "2021-08-08T16:23:05.754141",
     "status": "completed"
    },
    "tags": []
   },
   "outputs": [
    {
     "data": {
      "application/javascript": [
       "parent.postMessage({\"jupyterEvent\": \"custom.exercise_interaction\", \"data\": {\"outcomeType\": 1, \"valueTowardsCompletion\": 0.3333333333333333, \"interactionType\": 1, \"questionType\": 1, \"questionId\": \"0.3_ZC\", \"learnToolsVersion\": \"0.3.4\", \"failureMessage\": \"\", \"exceptionClass\": \"\", \"trace\": \"\"}}, \"*\")"
      ],
      "text/plain": [
       "<IPython.core.display.Javascript object>"
      ]
     },
     "metadata": {},
     "output_type": "display_data"
    },
    {
     "data": {
      "text/markdown": [
       "<span style=\"color:#33cc33\">Correct:</span> \n",
       "\n",
       "Even though we use different syntax to create it, the string `c` is identical to `b`. In particular, note that the backslash is not part of the string, so it doesn't contribute to its length."
      ],
      "text/plain": [
       "Correct: \n",
       "\n",
       "Even though we use different syntax to create it, the string `c` is identical to `b`. In particular, note that the backslash is not part of the string, so it doesn't contribute to its length."
      ]
     },
     "metadata": {},
     "output_type": "display_data"
    }
   ],
   "source": [
    "c = 'it\\'s ok'\n",
    "length = len(c)\n",
    "q0.c.check()"
   ]
  },
  {
   "cell_type": "markdown",
   "id": "ebeaa35f",
   "metadata": {
    "papermill": {
     "duration": 0.023187,
     "end_time": "2021-08-08T16:23:05.832388",
     "exception": false,
     "start_time": "2021-08-08T16:23:05.809201",
     "status": "completed"
    },
    "tags": []
   },
   "source": [
    "# 0d."
   ]
  },
  {
   "cell_type": "code",
   "execution_count": 5,
   "id": "7536c09f",
   "metadata": {
    "execution": {
     "iopub.execute_input": "2021-08-08T16:23:05.878775Z",
     "iopub.status.busy": "2021-08-08T16:23:05.877598Z",
     "iopub.status.idle": "2021-08-08T16:23:05.886387Z",
     "shell.execute_reply": "2021-08-08T16:23:05.886851Z",
     "shell.execute_reply.started": "2021-08-08T16:13:33.198806Z"
    },
    "papermill": {
     "duration": 0.034998,
     "end_time": "2021-08-08T16:23:05.887069",
     "exception": false,
     "start_time": "2021-08-08T16:23:05.852071",
     "status": "completed"
    },
    "tags": []
   },
   "outputs": [
    {
     "data": {
      "application/javascript": [
       "parent.postMessage({\"jupyterEvent\": \"custom.exercise_interaction\", \"data\": {\"outcomeType\": 1, \"valueTowardsCompletion\": 0.3333333333333333, \"interactionType\": 1, \"questionType\": 1, \"questionId\": \"0.4_ZD\", \"learnToolsVersion\": \"0.3.4\", \"failureMessage\": \"\", \"exceptionClass\": \"\", \"trace\": \"\"}}, \"*\")"
      ],
      "text/plain": [
       "<IPython.core.display.Javascript object>"
      ]
     },
     "metadata": {},
     "output_type": "display_data"
    },
    {
     "data": {
      "text/markdown": [
       "<span style=\"color:#33cc33\">Correct:</span> \n",
       "\n",
       "The fact that this string was created using triple-quote syntax doesn't make any difference in terms of its content or length. This string is exactly the same as `'hey'`."
      ],
      "text/plain": [
       "Correct: \n",
       "\n",
       "The fact that this string was created using triple-quote syntax doesn't make any difference in terms of its content or length. This string is exactly the same as `'hey'`."
      ]
     },
     "metadata": {},
     "output_type": "display_data"
    }
   ],
   "source": [
    "d = \"\"\"hey\"\"\"\n",
    "length = len(d)\n",
    "q0.d.check()"
   ]
  },
  {
   "cell_type": "markdown",
   "id": "ee35fd2e",
   "metadata": {
    "papermill": {
     "duration": 0.022092,
     "end_time": "2021-08-08T16:23:05.930960",
     "exception": false,
     "start_time": "2021-08-08T16:23:05.908868",
     "status": "completed"
    },
    "tags": []
   },
   "source": [
    "# 0e."
   ]
  },
  {
   "cell_type": "code",
   "execution_count": 6,
   "id": "aeef5bfa",
   "metadata": {
    "execution": {
     "iopub.execute_input": "2021-08-08T16:23:05.977768Z",
     "iopub.status.busy": "2021-08-08T16:23:05.976703Z",
     "iopub.status.idle": "2021-08-08T16:23:05.985089Z",
     "shell.execute_reply": "2021-08-08T16:23:05.985558Z",
     "shell.execute_reply.started": "2021-08-08T16:13:49.794921Z"
    },
    "papermill": {
     "duration": 0.032634,
     "end_time": "2021-08-08T16:23:05.985737",
     "exception": false,
     "start_time": "2021-08-08T16:23:05.953103",
     "status": "completed"
    },
    "tags": []
   },
   "outputs": [
    {
     "data": {
      "application/javascript": [
       "parent.postMessage({\"jupyterEvent\": \"custom.exercise_interaction\", \"data\": {\"outcomeType\": 1, \"valueTowardsCompletion\": 0.3333333333333333, \"interactionType\": 1, \"questionType\": 1, \"questionId\": \"0.5_ZE\", \"learnToolsVersion\": \"0.3.4\", \"failureMessage\": \"\", \"exceptionClass\": \"\", \"trace\": \"\"}}, \"*\")"
      ],
      "text/plain": [
       "<IPython.core.display.Javascript object>"
      ]
     },
     "metadata": {},
     "output_type": "display_data"
    },
    {
     "data": {
      "text/markdown": [
       "<span style=\"color:#33cc33\">Correct:</span> \n",
       "\n",
       "The newline character is just a single character! (Even though we represent it to Python using a combination of two characters.)"
      ],
      "text/plain": [
       "Correct: \n",
       "\n",
       "The newline character is just a single character! (Even though we represent it to Python using a combination of two characters.)"
      ]
     },
     "metadata": {},
     "output_type": "display_data"
    }
   ],
   "source": [
    "e = '\\n'\n",
    "length = len(e)\n",
    "q0.e.check()"
   ]
  },
  {
   "cell_type": "markdown",
   "id": "974929a3",
   "metadata": {
    "papermill": {
     "duration": 0.022411,
     "end_time": "2021-08-08T16:23:06.030970",
     "exception": false,
     "start_time": "2021-08-08T16:23:06.008559",
     "status": "completed"
    },
    "tags": []
   },
   "source": [
    "# 1.\n",
    "\n",
    "There is a saying that \"Data scientists spend 80% of their time cleaning data, and 20% of their time complaining about cleaning data.\" Let's see if you can write a function to help clean US zip code data. Given a string, it should return whether or not that string represents a valid zip code. For our purposes, a valid zip code is any string consisting of exactly 5 digits.\n",
    "\n",
    "HINT: `str` has a method that will be useful here. Use `help(str)` to review a list of string methods."
   ]
  },
  {
   "cell_type": "code",
   "execution_count": 7,
   "id": "f2203b06",
   "metadata": {
    "execution": {
     "iopub.execute_input": "2021-08-08T16:23:06.080475Z",
     "iopub.status.busy": "2021-08-08T16:23:06.079457Z",
     "iopub.status.idle": "2021-08-08T16:23:06.089506Z",
     "shell.execute_reply": "2021-08-08T16:23:06.088977Z",
     "shell.execute_reply.started": "2021-08-08T16:16:58.015729Z"
    },
    "papermill": {
     "duration": 0.035414,
     "end_time": "2021-08-08T16:23:06.089672",
     "exception": false,
     "start_time": "2021-08-08T16:23:06.054258",
     "status": "completed"
    },
    "tags": []
   },
   "outputs": [
    {
     "data": {
      "application/javascript": [
       "parent.postMessage({\"jupyterEvent\": \"custom.exercise_interaction\", \"data\": {\"outcomeType\": 1, \"valueTowardsCompletion\": 0.3333333333333333, \"interactionType\": 1, \"questionType\": 2, \"questionId\": \"1_ZipValidator\", \"learnToolsVersion\": \"0.3.4\", \"failureMessage\": \"\", \"exceptionClass\": \"\", \"trace\": \"\"}}, \"*\")"
      ],
      "text/plain": [
       "<IPython.core.display.Javascript object>"
      ]
     },
     "metadata": {},
     "output_type": "display_data"
    },
    {
     "data": {
      "text/markdown": [
       "<span style=\"color:#33cc33\">Correct</span>"
      ],
      "text/plain": [
       "Correct"
      ]
     },
     "metadata": {},
     "output_type": "display_data"
    }
   ],
   "source": [
    "def is_valid_zip(zip_code):\n",
    "    \"\"\"Returns whether the input string is a valid (5 digit) zip code\n",
    "    \"\"\"\n",
    "    return (len(zip_code) == 5 and zip_code.isdigit())\n",
    "\n",
    "# Check your answer\n",
    "q1.check()"
   ]
  },
  {
   "cell_type": "code",
   "execution_count": 8,
   "id": "873a1344",
   "metadata": {
    "execution": {
     "iopub.execute_input": "2021-08-08T16:23:06.143067Z",
     "iopub.status.busy": "2021-08-08T16:23:06.142253Z",
     "iopub.status.idle": "2021-08-08T16:23:06.149145Z",
     "shell.execute_reply": "2021-08-08T16:23:06.148615Z",
     "shell.execute_reply.started": "2021-08-08T16:16:09.268702Z"
    },
    "papermill": {
     "duration": 0.035243,
     "end_time": "2021-08-08T16:23:06.149303",
     "exception": false,
     "start_time": "2021-08-08T16:23:06.114060",
     "status": "completed"
    },
    "tags": []
   },
   "outputs": [
    {
     "data": {
      "application/javascript": [
       "parent.postMessage({\"jupyterEvent\": \"custom.exercise_interaction\", \"data\": {\"interactionType\": 3, \"questionType\": 2, \"questionId\": \"1_ZipValidator\", \"learnToolsVersion\": \"0.3.4\", \"valueTowardsCompletion\": 0.0, \"failureMessage\": \"\", \"exceptionClass\": \"\", \"trace\": \"\", \"outcomeType\": 4}}, \"*\")"
      ],
      "text/plain": [
       "<IPython.core.display.Javascript object>"
      ]
     },
     "metadata": {},
     "output_type": "display_data"
    },
    {
     "data": {
      "text/markdown": [
       "<span style=\"color:#33cc99\">Solution:</span> \n",
       "```python\n",
       "def is_valid_zip(zip_str):\n",
       "    return len(zip_str) == 5 and zip_str.isdigit()\n",
       "```"
      ],
      "text/plain": [
       "Solution: \n",
       "```python\n",
       "def is_valid_zip(zip_str):\n",
       "    return len(zip_str) == 5 and zip_str.isdigit()\n",
       "```"
      ]
     },
     "metadata": {},
     "output_type": "display_data"
    }
   ],
   "source": [
    "#q1.hint()\n",
    "q1.solution()"
   ]
  },
  {
   "cell_type": "markdown",
   "id": "47f9fac9",
   "metadata": {
    "papermill": {
     "duration": 0.023986,
     "end_time": "2021-08-08T16:23:06.198021",
     "exception": false,
     "start_time": "2021-08-08T16:23:06.174035",
     "status": "completed"
    },
    "tags": []
   },
   "source": [
    "# 2.\n",
    "\n",
    "A researcher has gathered thousands of news articles. But she wants to focus her attention on articles including a specific word. Complete the function below to help her filter her list of articles.\n",
    "\n",
    "Your function should meet the following criteria:\n",
    "\n",
    "- Do not include documents where the keyword string shows up only as a part of a larger word. For example, if she were looking for the keyword “closed”, you would not include the string “enclosed.” \n",
    "- She does not want you to distinguish upper case from lower case letters. So the phrase “Closed the case.” would be included when the keyword is “closed”\n",
    "- Do not let periods or commas affect what is matched. “It is closed.” would be included when the keyword is “closed”. But you can assume there are no other types of punctuation."
   ]
  },
  {
   "cell_type": "code",
   "execution_count": 9,
   "id": "95a7ef10",
   "metadata": {
    "execution": {
     "iopub.execute_input": "2021-08-08T16:23:06.257453Z",
     "iopub.status.busy": "2021-08-08T16:23:06.256675Z",
     "iopub.status.idle": "2021-08-08T16:23:06.262530Z",
     "shell.execute_reply": "2021-08-08T16:23:06.261874Z",
     "shell.execute_reply.started": "2021-08-08T16:21:19.332357Z"
    },
    "papermill": {
     "duration": 0.039788,
     "end_time": "2021-08-08T16:23:06.262673",
     "exception": false,
     "start_time": "2021-08-08T16:23:06.222885",
     "status": "completed"
    },
    "tags": []
   },
   "outputs": [
    {
     "data": {
      "application/javascript": [
       "parent.postMessage({\"jupyterEvent\": \"custom.exercise_interaction\", \"data\": {\"outcomeType\": 1, \"valueTowardsCompletion\": 0.3333333333333333, \"interactionType\": 1, \"questionType\": 2, \"questionId\": \"2_WordSearch\", \"learnToolsVersion\": \"0.3.4\", \"failureMessage\": \"\", \"exceptionClass\": \"\", \"trace\": \"\"}}, \"*\")"
      ],
      "text/plain": [
       "<IPython.core.display.Javascript object>"
      ]
     },
     "metadata": {},
     "output_type": "display_data"
    },
    {
     "data": {
      "text/markdown": [
       "<span style=\"color:#33cc33\">Correct</span>"
      ],
      "text/plain": [
       "Correct"
      ]
     },
     "metadata": {},
     "output_type": "display_data"
    }
   ],
   "source": [
    "def word_search(doc_list, keyword):\n",
    "    \"\"\"\n",
    "    Takes a list of documents (each document is a string) and a keyword. \n",
    "    Returns list of the index values into the original list for all documents \n",
    "    containing the keyword.\n",
    "\n",
    "    Example:\n",
    "    doc_list = [\"The Learn Python Challenge Casino.\", \"They bought a car\", \"Casinoville\"]\n",
    "    >>> word_search(doc_list, 'casino')\n",
    "    >>> [0]\n",
    "    \"\"\"\n",
    "    # list to hold the indices of matching documents\n",
    "    indices = [] \n",
    "    # Iterate through the indices (i) and elements (doc) of documents\n",
    "    for i, doc in enumerate(doc_list):\n",
    "        # Split the string doc into a list of words (according to whitespace)\n",
    "        tokens = doc.split()\n",
    "        # Make a transformed list where we 'normalize' each word to facilitate matching.\n",
    "        # Periods and commas are removed from the end of each word, and it's set to all lowercase.\n",
    "        normalized = [token.rstrip('.,').lower() for token in tokens]\n",
    "        # Is there a match? If so, update the list of matching indices.\n",
    "        if keyword.lower() in normalized:\n",
    "            indices.append(i)\n",
    "    return indices\n",
    "\n",
    "# Check your answer\n",
    "q2.check()"
   ]
  },
  {
   "cell_type": "code",
   "execution_count": 10,
   "id": "4e3a58b1",
   "metadata": {
    "execution": {
     "iopub.execute_input": "2021-08-08T16:23:06.320489Z",
     "iopub.status.busy": "2021-08-08T16:23:06.319710Z",
     "iopub.status.idle": "2021-08-08T16:23:06.327609Z",
     "shell.execute_reply": "2021-08-08T16:23:06.326060Z",
     "shell.execute_reply.started": "2021-08-08T16:18:36.698929Z"
    },
    "papermill": {
     "duration": 0.039592,
     "end_time": "2021-08-08T16:23:06.327797",
     "exception": false,
     "start_time": "2021-08-08T16:23:06.288205",
     "status": "completed"
    },
    "tags": []
   },
   "outputs": [
    {
     "data": {
      "application/javascript": [
       "parent.postMessage({\"jupyterEvent\": \"custom.exercise_interaction\", \"data\": {\"interactionType\": 3, \"questionType\": 2, \"questionId\": \"2_WordSearch\", \"learnToolsVersion\": \"0.3.4\", \"valueTowardsCompletion\": 0.0, \"failureMessage\": \"\", \"exceptionClass\": \"\", \"trace\": \"\", \"outcomeType\": 4}}, \"*\")"
      ],
      "text/plain": [
       "<IPython.core.display.Javascript object>"
      ]
     },
     "metadata": {},
     "output_type": "display_data"
    },
    {
     "data": {
      "text/markdown": [
       "<span style=\"color:#33cc99\">Solution:</span> \n",
       "```python\n",
       "def word_search(documents, keyword):\n",
       "    # list to hold the indices of matching documents\n",
       "    indices = [] \n",
       "    # Iterate through the indices (i) and elements (doc) of documents\n",
       "    for i, doc in enumerate(documents):\n",
       "        # Split the string doc into a list of words (according to whitespace)\n",
       "        tokens = doc.split()\n",
       "        # Make a transformed list where we 'normalize' each word to facilitate matching.\n",
       "        # Periods and commas are removed from the end of each word, and it's set to all lowercase.\n",
       "        normalized = [token.rstrip('.,').lower() for token in tokens]\n",
       "        # Is there a match? If so, update the list of matching indices.\n",
       "        if keyword.lower() in normalized:\n",
       "            indices.append(i)\n",
       "    return indices\n",
       "```"
      ],
      "text/plain": [
       "Solution: \n",
       "```python\n",
       "def word_search(documents, keyword):\n",
       "    # list to hold the indices of matching documents\n",
       "    indices = [] \n",
       "    # Iterate through the indices (i) and elements (doc) of documents\n",
       "    for i, doc in enumerate(documents):\n",
       "        # Split the string doc into a list of words (according to whitespace)\n",
       "        tokens = doc.split()\n",
       "        # Make a transformed list where we 'normalize' each word to facilitate matching.\n",
       "        # Periods and commas are removed from the end of each word, and it's set to all lowercase.\n",
       "        normalized = [token.rstrip('.,').lower() for token in tokens]\n",
       "        # Is there a match? If so, update the list of matching indices.\n",
       "        if keyword.lower() in normalized:\n",
       "            indices.append(i)\n",
       "    return indices\n",
       "```"
      ]
     },
     "metadata": {},
     "output_type": "display_data"
    }
   ],
   "source": [
    "#q2.hint()\n",
    "q2.solution()"
   ]
  },
  {
   "cell_type": "markdown",
   "id": "c38966e3",
   "metadata": {
    "papermill": {
     "duration": 0.027902,
     "end_time": "2021-08-08T16:23:06.383486",
     "exception": false,
     "start_time": "2021-08-08T16:23:06.355584",
     "status": "completed"
    },
    "tags": []
   },
   "source": [
    "# 3.\n",
    "\n",
    "Now the researcher wants to supply multiple keywords to search for. Complete the function below to help her.\n",
    "\n",
    "(You're encouraged to use the `word_search` function you just wrote when implementing this function. Reusing code in this way makes your programs more robust and readable - and it saves typing!)"
   ]
  },
  {
   "cell_type": "code",
   "execution_count": 11,
   "id": "57fb5b87",
   "metadata": {
    "execution": {
     "iopub.execute_input": "2021-08-08T16:23:06.444048Z",
     "iopub.status.busy": "2021-08-08T16:23:06.443265Z",
     "iopub.status.idle": "2021-08-08T16:23:06.451566Z",
     "shell.execute_reply": "2021-08-08T16:23:06.451024Z",
     "shell.execute_reply.started": "2021-08-08T16:22:33.046007Z"
    },
    "papermill": {
     "duration": 0.041385,
     "end_time": "2021-08-08T16:23:06.451733",
     "exception": false,
     "start_time": "2021-08-08T16:23:06.410348",
     "status": "completed"
    },
    "tags": []
   },
   "outputs": [
    {
     "data": {
      "application/javascript": [
       "parent.postMessage({\"jupyterEvent\": \"custom.exercise_interaction\", \"data\": {\"outcomeType\": 1, \"valueTowardsCompletion\": 0.3333333333333333, \"interactionType\": 1, \"questionType\": 2, \"questionId\": \"3_MultiWordSearch\", \"learnToolsVersion\": \"0.3.4\", \"failureMessage\": \"\", \"exceptionClass\": \"\", \"trace\": \"\"}}, \"*\")"
      ],
      "text/plain": [
       "<IPython.core.display.Javascript object>"
      ]
     },
     "metadata": {},
     "output_type": "display_data"
    },
    {
     "data": {
      "text/markdown": [
       "<span style=\"color:#33cc33\">Correct</span>"
      ],
      "text/plain": [
       "Correct"
      ]
     },
     "metadata": {},
     "output_type": "display_data"
    }
   ],
   "source": [
    "def multi_word_search(doc_list, keywords):\n",
    "    \"\"\"\n",
    "    Takes list of documents (each document is a string) and a list of keywords.  \n",
    "    Returns a dictionary where each key is a keyword, and the value is a list of indices\n",
    "    (from doc_list) of the documents containing that keyword\n",
    "\n",
    "    >>> doc_list = [\"The Learn Python Challenge Casino.\", \"They bought a car and a casino\", \"Casinoville\"]\n",
    "    >>> keywords = ['casino', 'they']\n",
    "    >>> multi_word_search(doc_list, keywords)\n",
    "    {'casino': [0, 1], 'they': [1]}\n",
    "    \"\"\"\n",
    "    keyword_to_indices = {}\n",
    "    for keyword in keywords:\n",
    "        keyword_to_indices[keyword] = word_search(doc_list, keyword)\n",
    "    return keyword_to_indices\n",
    "\n",
    "# Check your answer\n",
    "q3.check()"
   ]
  },
  {
   "cell_type": "code",
   "execution_count": 12,
   "id": "3d129cea",
   "metadata": {
    "execution": {
     "iopub.execute_input": "2021-08-08T16:23:06.512114Z",
     "iopub.status.busy": "2021-08-08T16:23:06.511301Z",
     "iopub.status.idle": "2021-08-08T16:23:06.517825Z",
     "shell.execute_reply": "2021-08-08T16:23:06.517193Z",
     "shell.execute_reply.started": "2021-08-08T16:21:47.539021Z"
    },
    "papermill": {
     "duration": 0.038147,
     "end_time": "2021-08-08T16:23:06.518028",
     "exception": false,
     "start_time": "2021-08-08T16:23:06.479881",
     "status": "completed"
    },
    "tags": []
   },
   "outputs": [
    {
     "data": {
      "application/javascript": [
       "parent.postMessage({\"jupyterEvent\": \"custom.exercise_interaction\", \"data\": {\"interactionType\": 3, \"questionType\": 2, \"questionId\": \"3_MultiWordSearch\", \"learnToolsVersion\": \"0.3.4\", \"valueTowardsCompletion\": 0.0, \"failureMessage\": \"\", \"exceptionClass\": \"\", \"trace\": \"\", \"outcomeType\": 4}}, \"*\")"
      ],
      "text/plain": [
       "<IPython.core.display.Javascript object>"
      ]
     },
     "metadata": {},
     "output_type": "display_data"
    },
    {
     "data": {
      "text/markdown": [
       "<span style=\"color:#33cc99\">Solution:</span> \n",
       "```python\n",
       "def multi_word_search(documents, keywords):\n",
       "    keyword_to_indices = {}\n",
       "    for keyword in keywords:\n",
       "        keyword_to_indices[keyword] = word_search(documents, keyword)\n",
       "    return keyword_to_indices\n",
       "```"
      ],
      "text/plain": [
       "Solution: \n",
       "```python\n",
       "def multi_word_search(documents, keywords):\n",
       "    keyword_to_indices = {}\n",
       "    for keyword in keywords:\n",
       "        keyword_to_indices[keyword] = word_search(documents, keyword)\n",
       "    return keyword_to_indices\n",
       "```"
      ]
     },
     "metadata": {},
     "output_type": "display_data"
    }
   ],
   "source": [
    "q3.solution()"
   ]
  },
  {
   "cell_type": "markdown",
   "id": "0a77ab5d",
   "metadata": {
    "papermill": {
     "duration": 0.027385,
     "end_time": "2021-08-08T16:23:06.574380",
     "exception": false,
     "start_time": "2021-08-08T16:23:06.546995",
     "status": "completed"
    },
    "tags": []
   },
   "source": [
    "# Keep Going\n",
    "\n",
    "You've learned a lot. But even the best programmers rely heavily on \"libraries\" of code from other programmers. You'll learn about that in **[the last lesson](https://www.kaggle.com/colinmorris/working-with-external-libraries)**.\n"
   ]
  },
  {
   "cell_type": "markdown",
   "id": "520fd43f",
   "metadata": {
    "papermill": {
     "duration": 0.027534,
     "end_time": "2021-08-08T16:23:06.630603",
     "exception": false,
     "start_time": "2021-08-08T16:23:06.603069",
     "status": "completed"
    },
    "tags": []
   },
   "source": [
    "---\n",
    "\n",
    "\n",
    "\n",
    "\n",
    "*Have questions or comments? Visit the [Learn Discussion forum](https://www.kaggle.com/learn-forum/161283) to chat with other Learners.*"
   ]
  }
 ],
 "metadata": {
  "kernelspec": {
   "display_name": "Python 3",
   "language": "python",
   "name": "python3"
  },
  "language_info": {
   "codemirror_mode": {
    "name": "ipython",
    "version": 3
   },
   "file_extension": ".py",
   "mimetype": "text/x-python",
   "name": "python",
   "nbconvert_exporter": "python",
   "pygments_lexer": "ipython3",
   "version": "3.7.10"
  },
  "papermill": {
   "default_parameters": {},
   "duration": 12.943206,
   "end_time": "2021-08-08T16:23:08.346406",
   "environment_variables": {},
   "exception": null,
   "input_path": "__notebook__.ipynb",
   "output_path": "__notebook__.ipynb",
   "parameters": {},
   "start_time": "2021-08-08T16:22:55.403200",
   "version": "2.3.3"
  }
 },
 "nbformat": 4,
 "nbformat_minor": 5
}

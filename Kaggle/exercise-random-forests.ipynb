{
 "cells": [
  {
   "cell_type": "markdown",
   "id": "0a4f0ed2",
   "metadata": {
    "papermill": {
     "duration": 0.0091,
     "end_time": "2021-08-13T16:31:41.085854",
     "exception": false,
     "start_time": "2021-08-13T16:31:41.076754",
     "status": "completed"
    },
    "tags": []
   },
   "source": [
    "**This notebook is an exercise in the [Introduction to Machine Learning](https://www.kaggle.com/learn/intRandomForestRegressoro-machine-learning) course.  You can reference the tutorial at [this link](https://www.kaggle.com/dansbecker/random-forests).**\n",
    "\n",
    "---\n"
   ]
  },
  {
   "cell_type": "markdown",
   "id": "bf2ebe43",
   "metadata": {
    "papermill": {
     "duration": 0.006862,
     "end_time": "2021-08-13T16:31:41.101469",
     "exception": false,
     "start_time": "2021-08-13T16:31:41.094607",
     "status": "completed"
    },
    "tags": []
   },
   "source": [
    "## Recap\n",
    "Here's the code you've written so far."
   ]
  },
  {
   "cell_type": "code",
   "execution_count": 1,
   "id": "257f9cb0",
   "metadata": {
    "execution": {
     "iopub.execute_input": "2021-08-13T16:31:41.138223Z",
     "iopub.status.busy": "2021-08-13T16:31:41.137258Z",
     "iopub.status.idle": "2021-08-13T16:31:42.480227Z",
     "shell.execute_reply": "2021-08-13T16:31:42.480862Z",
     "shell.execute_reply.started": "2021-08-13T16:27:30.902561Z"
    },
    "papermill": {
     "duration": 1.37153,
     "end_time": "2021-08-13T16:31:42.481302",
     "exception": false,
     "start_time": "2021-08-13T16:31:41.109772",
     "status": "completed"
    },
    "tags": []
   },
   "outputs": [
    {
     "name": "stdout",
     "output_type": "stream",
     "text": [
      "Validation MAE when not specifying max_leaf_nodes: 29,653\n",
      "Validation MAE for best value of max_leaf_nodes: 27,283\n",
      "\n",
      "Setup complete\n"
     ]
    }
   ],
   "source": [
    "# Code you have previously used to load data\n",
    "import pandas as pd\n",
    "from sklearn.metrics import mean_absolute_error\n",
    "from sklearn.model_selection import train_test_split\n",
    "from sklearn.tree import DecisionTreeRegressor\n",
    "\n",
    "\n",
    "# Path of the file to read\n",
    "iowa_file_path = '../input/home-data-for-ml-course/train.csv'\n",
    "\n",
    "home_data = pd.read_csv(iowa_file_path)\n",
    "# Create target object and call it y\n",
    "y = home_data.SalePrice\n",
    "# Create X\n",
    "features = ['LotArea', 'YearBuilt', '1stFlrSF', '2ndFlrSF', 'FullBath', 'BedroomAbvGr', 'TotRmsAbvGrd']\n",
    "X = home_data[features]\n",
    "\n",
    "# Split into validation and training data\n",
    "train_X, val_X, train_y, val_y = train_test_split(X, y, random_state=1)\n",
    "\n",
    "# Specify Model\n",
    "iowa_model = DecisionTreeRegressor(random_state=1)\n",
    "# Fit Model\n",
    "iowa_model.fit(train_X, train_y)\n",
    "\n",
    "# Make validation predictions and calculate mean absolute error\n",
    "val_predictions = iowa_model.predict(val_X)\n",
    "val_mae = mean_absolute_error(val_predictions, val_y)\n",
    "print(\"Validation MAE when not specifying max_leaf_nodes: {:,.0f}\".format(val_mae))\n",
    "\n",
    "# Using best value for max_leaf_nodes\n",
    "iowa_model = DecisionTreeRegressor(max_leaf_nodes=100, random_state=1)\n",
    "iowa_model.fit(train_X, train_y)\n",
    "val_predictions = iowa_model.predict(val_X)\n",
    "val_mae = mean_absolute_error(val_predictions, val_y)\n",
    "print(\"Validation MAE for best value of max_leaf_nodes: {:,.0f}\".format(val_mae))\n",
    "\n",
    "\n",
    "# Set up code checking\n",
    "from learntools.core import binder\n",
    "binder.bind(globals())\n",
    "from learntools.machine_learning.ex6 import *\n",
    "print(\"\\nSetup complete\")"
   ]
  },
  {
   "cell_type": "markdown",
   "id": "d4df740c",
   "metadata": {
    "papermill": {
     "duration": 0.007902,
     "end_time": "2021-08-13T16:31:42.497463",
     "exception": false,
     "start_time": "2021-08-13T16:31:42.489561",
     "status": "completed"
    },
    "tags": []
   },
   "source": [
    "# Exercises\n",
    "Data science isn't always this easy. But replacing the decision tree with a Random Forest is going to be an easy win."
   ]
  },
  {
   "cell_type": "markdown",
   "id": "6dccd09c",
   "metadata": {
    "papermill": {
     "duration": 0.007084,
     "end_time": "2021-08-13T16:31:42.513594",
     "exception": false,
     "start_time": "2021-08-13T16:31:42.506510",
     "status": "completed"
    },
    "tags": []
   },
   "source": [
    "## Step 1: Use a Random Forest"
   ]
  },
  {
   "cell_type": "code",
   "execution_count": 2,
   "id": "1a2c98fb",
   "metadata": {
    "execution": {
     "iopub.execute_input": "2021-08-13T16:31:42.537907Z",
     "iopub.status.busy": "2021-08-13T16:31:42.536725Z",
     "iopub.status.idle": "2021-08-13T16:31:43.155264Z",
     "shell.execute_reply": "2021-08-13T16:31:43.154596Z",
     "shell.execute_reply.started": "2021-08-13T16:31:10.143008Z"
    },
    "papermill": {
     "duration": 0.63368,
     "end_time": "2021-08-13T16:31:43.155443",
     "exception": false,
     "start_time": "2021-08-13T16:31:42.521763",
     "status": "completed"
    },
    "tags": []
   },
   "outputs": [
    {
     "name": "stdout",
     "output_type": "stream",
     "text": [
      "Validation MAE for Random Forest Model: 21857.15912981083\n"
     ]
    },
    {
     "data": {
      "application/javascript": [
       "parent.postMessage({\"jupyterEvent\": \"custom.exercise_interaction\", \"data\": {\"outcomeType\": 1, \"valueTowardsCompletion\": 1.0, \"interactionType\": 1, \"questionType\": 2, \"questionId\": \"1_CheckRfScore\", \"learnToolsVersion\": \"0.3.4\", \"failureMessage\": \"\", \"exceptionClass\": \"\", \"trace\": \"\"}}, \"*\")"
      ],
      "text/plain": [
       "<IPython.core.display.Javascript object>"
      ]
     },
     "metadata": {},
     "output_type": "display_data"
    },
    {
     "data": {
      "text/markdown": [
       "<span style=\"color:#33cc33\">Correct</span>"
      ],
      "text/plain": [
       "Correct"
      ]
     },
     "metadata": {},
     "output_type": "display_data"
    }
   ],
   "source": [
    "from sklearn.ensemble import RandomForestRegressor\n",
    "\n",
    "# Define the model. Set random_state to 1\n",
    "rf_model = RandomForestRegressor(random_state=1)\n",
    "\n",
    "# fit your model\n",
    "rf_model.fit(train_X, train_y)\n",
    "\n",
    "# Calculate the mean absolute error of your Random Forest model on the validation data\n",
    "rf_val_mae = mean_absolute_error( rf_model.predict(val_X), val_y)\n",
    "\n",
    "print(\"Validation MAE for Random Forest Model: {}\".format(rf_val_mae))\n",
    "\n",
    "# Check your answer\n",
    "step_1.check()"
   ]
  },
  {
   "cell_type": "code",
   "execution_count": 3,
   "id": "5e51b7d4",
   "metadata": {
    "execution": {
     "iopub.execute_input": "2021-08-13T16:31:43.179900Z",
     "iopub.status.busy": "2021-08-13T16:31:43.179188Z",
     "iopub.status.idle": "2021-08-13T16:31:43.182654Z",
     "shell.execute_reply": "2021-08-13T16:31:43.181994Z"
    },
    "papermill": {
     "duration": 0.017426,
     "end_time": "2021-08-13T16:31:43.182821",
     "exception": false,
     "start_time": "2021-08-13T16:31:43.165395",
     "status": "completed"
    },
    "tags": []
   },
   "outputs": [],
   "source": [
    "# The lines below will show you a hint or the solution.\n",
    "# step_1.hint() \n",
    "# step_1.solution()\n"
   ]
  },
  {
   "cell_type": "markdown",
   "id": "a0cd2a59",
   "metadata": {
    "papermill": {
     "duration": 0.009466,
     "end_time": "2021-08-13T16:31:43.202821",
     "exception": false,
     "start_time": "2021-08-13T16:31:43.193355",
     "status": "completed"
    },
    "tags": []
   },
   "source": [
    "So far, you have followed specific instructions at each step of your project. This helped learn key ideas and build your first model, but now you know enough to try things on your own. \n",
    "\n",
    "Machine Learning competitions are a great way to try your own ideas and learn more as you independently navigate a machine learning project. \n",
    "\n",
    "# Keep Going\n",
    "\n",
    "You are ready for **[Machine Learning Competitions](https://www.kaggle.com/alexisbcook/machine-learning-competitions).**\n"
   ]
  },
  {
   "cell_type": "markdown",
   "id": "3f095243",
   "metadata": {
    "papermill": {
     "duration": 0.01028,
     "end_time": "2021-08-13T16:31:43.222874",
     "exception": false,
     "start_time": "2021-08-13T16:31:43.212594",
     "status": "completed"
    },
    "tags": []
   },
   "source": [
    "---\n",
    "\n",
    "\n",
    "\n",
    "\n",
    "*Have questions or comments? Visit the [Learn Discussion forum](https://www.kaggle.com/learn-forum/161285) to chat with other Learners.*"
   ]
  }
 ],
 "metadata": {
  "kernelspec": {
   "display_name": "Python 3",
   "language": "python",
   "name": "python3"
  },
  "language_info": {
   "codemirror_mode": {
    "name": "ipython",
    "version": 3
   },
   "file_extension": ".py",
   "mimetype": "text/x-python",
   "name": "python",
   "nbconvert_exporter": "python",
   "pygments_lexer": "ipython3",
   "version": "3.7.10"
  },
  "papermill": {
   "default_parameters": {},
   "duration": 12.868529,
   "end_time": "2021-08-13T16:31:44.668430",
   "environment_variables": {},
   "exception": null,
   "input_path": "__notebook__.ipynb",
   "output_path": "__notebook__.ipynb",
   "parameters": {},
   "start_time": "2021-08-13T16:31:31.799901",
   "version": "2.3.3"
  }
 },
 "nbformat": 4,
 "nbformat_minor": 5
}

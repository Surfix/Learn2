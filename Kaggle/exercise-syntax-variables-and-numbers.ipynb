{
 "cells": [
  {
   "cell_type": "markdown",
   "id": "bd7b3551",
   "metadata": {
    "papermill": {
     "duration": 0.023063,
     "end_time": "2021-08-04T01:10:41.185246",
     "exception": false,
     "start_time": "2021-08-04T01:10:41.162183",
     "status": "completed"
    },
    "tags": []
   },
   "source": [
    "**This notebook is an exercise in the [Python](https://www.kaggle.com/learn/python) course.  You can reference the tutorial at [this link](https://www.kaggle.com/colinmorris/hello-python).**\n",
    "\n",
    "---\n"
   ]
  },
  {
   "cell_type": "markdown",
   "id": "f9cce7ea",
   "metadata": {
    "papermill": {
     "duration": 0.021282,
     "end_time": "2021-08-04T01:10:41.229238",
     "exception": false,
     "start_time": "2021-08-04T01:10:41.207956",
     "status": "completed"
    },
    "tags": []
   },
   "source": [
    "Welcome to your first set of Python coding problems.  If this is your first time using Kaggle Notebooks, welcome! \n",
    "\n",
    "Notebooks are composed of blocks (called \"cells\") of text and code. Each of these is editable, though you'll mainly be editing the code cells to answer some questions.\n",
    "\n",
    "To get started, try running the code cell below (by pressing the ► button, or clicking on the cell and pressing ctrl+enter on your keyboard)."
   ]
  },
  {
   "cell_type": "code",
   "execution_count": 1,
   "id": "dee73a77",
   "metadata": {
    "execution": {
     "iopub.execute_input": "2021-08-04T01:10:41.284703Z",
     "iopub.status.busy": "2021-08-04T01:10:41.283763Z",
     "iopub.status.idle": "2021-08-04T01:10:41.288543Z",
     "shell.execute_reply": "2021-08-04T01:10:41.287892Z",
     "shell.execute_reply.started": "2021-08-04T00:53:08.909132Z"
    },
    "papermill": {
     "duration": 0.037846,
     "end_time": "2021-08-04T01:10:41.288708",
     "exception": false,
     "start_time": "2021-08-04T01:10:41.250862",
     "status": "completed"
    },
    "tags": []
   },
   "outputs": [
    {
     "name": "stdout",
     "output_type": "stream",
     "text": [
      "You've successfully run some Python code\n",
      "Congratulations!\n",
      "another line of code\n"
     ]
    }
   ],
   "source": [
    "print(\"You've successfully run some Python code\")\n",
    "print(\"Congratulations!\")\n",
    "print ('another line of code')"
   ]
  },
  {
   "cell_type": "markdown",
   "id": "aaef6d43",
   "metadata": {
    "papermill": {
     "duration": 0.021758,
     "end_time": "2021-08-04T01:10:41.332888",
     "exception": false,
     "start_time": "2021-08-04T01:10:41.311130",
     "status": "completed"
    },
    "tags": []
   },
   "source": [
    "Try adding another line of code in the cell above and re-running it. \n",
    "\n",
    "Now let's get a little fancier:  Add a new code cell by clicking on an existing code cell, hitting the escape key, and then hitting the `a` or `b` key.  The `a` key will add a cell above the current cell, and `b` adds a cell below.\n",
    "\n",
    "Great! Now you know how to use Notebooks.\n",
    "\n",
    "Each hands-on exercise starts by setting up our feedback and code checking mechanism. Run the code cell below to do that. Then you'll be ready to move on to question 0."
   ]
  },
  {
   "cell_type": "code",
   "execution_count": null,
   "id": "c36e63ce",
   "metadata": {
    "papermill": {
     "duration": 0.02161,
     "end_time": "2021-08-04T01:10:41.376597",
     "exception": false,
     "start_time": "2021-08-04T01:10:41.354987",
     "status": "completed"
    },
    "tags": []
   },
   "outputs": [],
   "source": []
  },
  {
   "cell_type": "code",
   "execution_count": 2,
   "id": "163a9a3d",
   "metadata": {
    "_kg_hide-input": true,
    "_kg_hide-output": true,
    "execution": {
     "iopub.execute_input": "2021-08-04T01:10:41.425561Z",
     "iopub.status.busy": "2021-08-04T01:10:41.424766Z",
     "iopub.status.idle": "2021-08-04T01:10:41.565994Z",
     "shell.execute_reply": "2021-08-04T01:10:41.565402Z",
     "shell.execute_reply.started": "2021-08-04T00:54:07.206251Z"
    },
    "papermill": {
     "duration": 0.167847,
     "end_time": "2021-08-04T01:10:41.566151",
     "exception": false,
     "start_time": "2021-08-04T01:10:41.398304",
     "status": "completed"
    },
    "tags": []
   },
   "outputs": [
    {
     "name": "stdout",
     "output_type": "stream",
     "text": [
      "Setup complete! You're ready to start question 0.\n"
     ]
    }
   ],
   "source": [
    "from learntools.core import binder; binder.bind(globals())\n",
    "from learntools.python.ex1 import *\n",
    "print(\"Setup complete! You're ready to start question 0.\")"
   ]
  },
  {
   "cell_type": "markdown",
   "id": "e7f69ab3",
   "metadata": {
    "papermill": {
     "duration": 0.025372,
     "end_time": "2021-08-04T01:10:41.613845",
     "exception": false,
     "start_time": "2021-08-04T01:10:41.588473",
     "status": "completed"
    },
    "tags": []
   },
   "source": [
    "# 0.\n",
    "\n",
    "*This is a silly question intended as an introduction to the format we use for hands-on exercises throughout all Kaggle courses.*\n",
    "\n",
    "**What is your favorite color? **\n",
    "\n",
    "To complete this question, create a variable called `color` in the cell below with an appropriate value. The function call `q0.check()` (which we've already provided in the cell below) will check your answer."
   ]
  },
  {
   "cell_type": "code",
   "execution_count": 3,
   "id": "274a2730",
   "metadata": {
    "execution": {
     "iopub.execute_input": "2021-08-04T01:10:41.673097Z",
     "iopub.status.busy": "2021-08-04T01:10:41.671805Z",
     "iopub.status.idle": "2021-08-04T01:10:41.676411Z",
     "shell.execute_reply": "2021-08-04T01:10:41.675558Z",
     "shell.execute_reply.started": "2021-08-04T00:54:44.450321Z"
    },
    "papermill": {
     "duration": 0.035091,
     "end_time": "2021-08-04T01:10:41.676628",
     "exception": false,
     "start_time": "2021-08-04T01:10:41.641537",
     "status": "completed"
    },
    "tags": []
   },
   "outputs": [],
   "source": [
    "color ='blue'"
   ]
  },
  {
   "cell_type": "code",
   "execution_count": 4,
   "id": "c6e375da",
   "metadata": {
    "execution": {
     "iopub.execute_input": "2021-08-04T01:10:41.738473Z",
     "iopub.status.busy": "2021-08-04T01:10:41.737717Z",
     "iopub.status.idle": "2021-08-04T01:10:41.750469Z",
     "shell.execute_reply": "2021-08-04T01:10:41.749714Z",
     "shell.execute_reply.started": "2021-08-04T00:54:58.347129Z"
    },
    "papermill": {
     "duration": 0.043403,
     "end_time": "2021-08-04T01:10:41.750615",
     "exception": false,
     "start_time": "2021-08-04T01:10:41.707212",
     "status": "completed"
    },
    "tags": []
   },
   "outputs": [
    {
     "data": {
      "application/javascript": [
       "parent.postMessage({\"jupyterEvent\": \"custom.exercise_interaction\", \"data\": {\"outcomeType\": 1, \"valueTowardsCompletion\": 0.25, \"interactionType\": 1, \"questionType\": 2, \"questionId\": \"0_ExerciseFormatTutorial\", \"learnToolsVersion\": \"0.3.4\", \"failureMessage\": \"\", \"exceptionClass\": \"\", \"trace\": \"\"}}, \"*\")"
      ],
      "text/plain": [
       "<IPython.core.display.Javascript object>"
      ]
     },
     "metadata": {},
     "output_type": "display_data"
    },
    {
     "data": {
      "text/markdown": [
       "<span style=\"color:#33cc33\">Correct:</span> What?! You got it right without needing a hint or anything? Drats. Well hey, you should still continue to the next step to get some practice asking for a hint and checking solutions. (Even though you obviously don't need any help here.)"
      ],
      "text/plain": [
       "Correct: What?! You got it right without needing a hint or anything? Drats. Well hey, you should still continue to the next step to get some practice asking for a hint and checking solutions. (Even though you obviously don't need any help here.)"
      ]
     },
     "metadata": {},
     "output_type": "display_data"
    }
   ],
   "source": [
    "# create a variable called color with an appropriate value on the line below\n",
    "# (Remember, strings in Python must be enclosed in 'single' or \"double\" quotes)\n",
    "____\n",
    "\n",
    "# Check your answer\n",
    "q0.check()"
   ]
  },
  {
   "cell_type": "markdown",
   "id": "22c0543f",
   "metadata": {
    "papermill": {
     "duration": 0.023826,
     "end_time": "2021-08-04T01:10:41.799990",
     "exception": false,
     "start_time": "2021-08-04T01:10:41.776164",
     "status": "completed"
    },
    "tags": []
   },
   "source": [
    "Didn't get the right answer? How do you not even know your own favorite color?!\n",
    "\n",
    "Delete the `#` in the line below to make one of the lines run. You can choose between getting a hint or the full answer by choosing which line to remove the `#` from. \n",
    "\n",
    "Removing the `#` is called uncommenting, because it changes that line from a \"comment\" which Python doesn't run to code, which Python does run."
   ]
  },
  {
   "cell_type": "code",
   "execution_count": 5,
   "id": "8efa46de",
   "metadata": {
    "execution": {
     "iopub.execute_input": "2021-08-04T01:10:41.850727Z",
     "iopub.status.busy": "2021-08-04T01:10:41.849703Z",
     "iopub.status.idle": "2021-08-04T01:10:41.862153Z",
     "shell.execute_reply": "2021-08-04T01:10:41.861436Z",
     "shell.execute_reply.started": "2021-08-04T00:56:48.961512Z"
    },
    "papermill": {
     "duration": 0.038912,
     "end_time": "2021-08-04T01:10:41.862304",
     "exception": false,
     "start_time": "2021-08-04T01:10:41.823392",
     "status": "completed"
    },
    "tags": []
   },
   "outputs": [
    {
     "data": {
      "application/javascript": [
       "parent.postMessage({\"jupyterEvent\": \"custom.exercise_interaction\", \"data\": {\"interactionType\": 2, \"questionType\": 2, \"questionId\": \"0_ExerciseFormatTutorial\", \"learnToolsVersion\": \"0.3.4\", \"valueTowardsCompletion\": 0.0, \"failureMessage\": \"\", \"exceptionClass\": \"\", \"trace\": \"\", \"outcomeType\": 4}}, \"*\")"
      ],
      "text/plain": [
       "<IPython.core.display.Javascript object>"
      ]
     },
     "metadata": {},
     "output_type": "display_data"
    },
    {
     "data": {
      "text/markdown": [
       "<span style=\"color:#3366cc\">Hint:</span> Your favorite color rhymes with *glue*."
      ],
      "text/plain": [
       "Hint: Your favorite color rhymes with *glue*."
      ]
     },
     "metadata": {},
     "output_type": "display_data"
    },
    {
     "data": {
      "application/javascript": [
       "parent.postMessage({\"jupyterEvent\": \"custom.exercise_interaction\", \"data\": {\"interactionType\": 3, \"questionType\": 2, \"questionId\": \"0_ExerciseFormatTutorial\", \"learnToolsVersion\": \"0.3.4\", \"valueTowardsCompletion\": 0.0, \"failureMessage\": \"\", \"exceptionClass\": \"\", \"trace\": \"\", \"outcomeType\": 4}}, \"*\")"
      ],
      "text/plain": [
       "<IPython.core.display.Javascript object>"
      ]
     },
     "metadata": {},
     "output_type": "display_data"
    },
    {
     "data": {
      "text/markdown": [
       "<span style=\"color:#33cc99\">Solution:</span> \n",
       "```python\n",
       "color = \"blue\"\n",
       "```"
      ],
      "text/plain": [
       "Solution: \n",
       "```python\n",
       "color = \"blue\"\n",
       "```"
      ]
     },
     "metadata": {},
     "output_type": "display_data"
    }
   ],
   "source": [
    "q0.hint()\n",
    "q0.solution()"
   ]
  },
  {
   "cell_type": "markdown",
   "id": "448d5cd9",
   "metadata": {
    "papermill": {
     "duration": 0.024934,
     "end_time": "2021-08-04T01:10:41.912793",
     "exception": false,
     "start_time": "2021-08-04T01:10:41.887859",
     "status": "completed"
    },
    "tags": []
   },
   "source": [
    "The upcoming questions work the same way. The only thing that will change are the question numbers. For the next question, you'll call `q1.check()`, `q1.hint()`, `q1.solution()`, for question 2, you'll call `q2.check()`, and so on."
   ]
  },
  {
   "cell_type": "markdown",
   "id": "572926c0",
   "metadata": {
    "papermill": {
     "duration": 0.024864,
     "end_time": "2021-08-04T01:10:41.963319",
     "exception": false,
     "start_time": "2021-08-04T01:10:41.938455",
     "status": "completed"
    },
    "tags": []
   },
   "source": [
    "<hr/>\n",
    "\n",
    "# 1.\n",
    "\n",
    "Complete the code below. In case it's helpful, here is the table of available arithmetic operations:\n",
    "\n",
    "\n",
    "\n",
    "| Operator     | Name           | Description                                            |\n",
    "|--------------|----------------|--------------------------------------------------------|\n",
    "| ``a + b``    | Addition       | Sum of ``a`` and ``b``                                 |\n",
    "| ``a - b``    | Subtraction    | Difference of ``a`` and ``b``                          |\n",
    "| ``a * b``    | Multiplication | Product of ``a`` and ``b``                             |\n",
    "| ``a / b``    | True division  | Quotient of ``a`` and ``b``                            |\n",
    "| ``a // b``   | Floor division | Quotient of ``a`` and ``b``, removing fractional parts |\n",
    "| ``a % b``    | Modulus        | Integer remainder after division of ``a`` by ``b``     |\n",
    "| ``a ** b``   | Exponentiation | ``a`` raised to the power of ``b``                     |\n",
    "| ``-a``       | Negation       | The negative of ``a``                                  |\n",
    "\n",
    "<span style=\"display:none\"></span>\n"
   ]
  },
  {
   "cell_type": "code",
   "execution_count": 6,
   "id": "36d57efb",
   "metadata": {
    "execution": {
     "iopub.execute_input": "2021-08-04T01:10:42.017056Z",
     "iopub.status.busy": "2021-08-04T01:10:42.016376Z",
     "iopub.status.idle": "2021-08-04T01:10:42.023608Z",
     "shell.execute_reply": "2021-08-04T01:10:42.024205Z",
     "shell.execute_reply.started": "2021-08-04T00:59:39.977868Z"
    },
    "papermill": {
     "duration": 0.035536,
     "end_time": "2021-08-04T01:10:42.024382",
     "exception": false,
     "start_time": "2021-08-04T01:10:41.988846",
     "status": "completed"
    },
    "tags": []
   },
   "outputs": [
    {
     "data": {
      "application/javascript": [
       "parent.postMessage({\"jupyterEvent\": \"custom.exercise_interaction\", \"data\": {\"outcomeType\": 1, \"valueTowardsCompletion\": 0.25, \"interactionType\": 1, \"questionType\": 1, \"questionId\": \"1_CircleArea\", \"learnToolsVersion\": \"0.3.4\", \"failureMessage\": \"\", \"exceptionClass\": \"\", \"trace\": \"\"}}, \"*\")"
      ],
      "text/plain": [
       "<IPython.core.display.Javascript object>"
      ]
     },
     "metadata": {},
     "output_type": "display_data"
    },
    {
     "data": {
      "text/markdown": [
       "<span style=\"color:#33cc33\">Correct</span>"
      ],
      "text/plain": [
       "Correct"
      ]
     },
     "metadata": {},
     "output_type": "display_data"
    }
   ],
   "source": [
    "pi = 3.14159 # approximate\n",
    "diameter = 3\n",
    "\n",
    "# Create a variable called 'radius' equal to half the diameter\n",
    "radius = diameter * 0.5\n",
    "\n",
    "# Create a variable called 'area', using the formula for the area of a circle: pi times the radius squared\n",
    "area = pi * (radius ** 2)\n",
    "\n",
    "# Check your answer\n",
    "q1.check()"
   ]
  },
  {
   "cell_type": "code",
   "execution_count": 7,
   "id": "d673b864",
   "metadata": {
    "execution": {
     "iopub.execute_input": "2021-08-04T01:10:42.080691Z",
     "iopub.status.busy": "2021-08-04T01:10:42.079828Z",
     "iopub.status.idle": "2021-08-04T01:10:42.091854Z",
     "shell.execute_reply": "2021-08-04T01:10:42.091327Z",
     "shell.execute_reply.started": "2021-08-04T01:00:23.295519Z"
    },
    "papermill": {
     "duration": 0.041289,
     "end_time": "2021-08-04T01:10:42.092016",
     "exception": false,
     "start_time": "2021-08-04T01:10:42.050727",
     "status": "completed"
    },
    "tags": []
   },
   "outputs": [
    {
     "data": {
      "application/javascript": [
       "parent.postMessage({\"jupyterEvent\": \"custom.exercise_interaction\", \"data\": {\"interactionType\": 2, \"questionType\": 1, \"questionId\": \"1_CircleArea\", \"learnToolsVersion\": \"0.3.4\", \"valueTowardsCompletion\": 0.0, \"failureMessage\": \"\", \"exceptionClass\": \"\", \"trace\": \"\", \"outcomeType\": 4}}, \"*\")"
      ],
      "text/plain": [
       "<IPython.core.display.Javascript object>"
      ]
     },
     "metadata": {},
     "output_type": "display_data"
    },
    {
     "data": {
      "text/markdown": [
       "<span style=\"color:#3366cc\">Hint:</span> The syntax to raise a to the b'th power is `a ** b`"
      ],
      "text/plain": [
       "Hint: The syntax to raise a to the b'th power is `a ** b`"
      ]
     },
     "metadata": {},
     "output_type": "display_data"
    },
    {
     "data": {
      "application/javascript": [
       "parent.postMessage({\"jupyterEvent\": \"custom.exercise_interaction\", \"data\": {\"interactionType\": 3, \"questionType\": 1, \"questionId\": \"1_CircleArea\", \"learnToolsVersion\": \"0.3.4\", \"valueTowardsCompletion\": 0.0, \"failureMessage\": \"\", \"exceptionClass\": \"\", \"trace\": \"\", \"outcomeType\": 4}}, \"*\")"
      ],
      "text/plain": [
       "<IPython.core.display.Javascript object>"
      ]
     },
     "metadata": {},
     "output_type": "display_data"
    },
    {
     "data": {
      "text/markdown": [
       "<span style=\"color:#33cc99\">Solution:</span> \n",
       "```python\n",
       "radius = diameter / 2\n",
       "area = pi * radius ** 2\n",
       "```"
      ],
      "text/plain": [
       "Solution: \n",
       "```python\n",
       "radius = diameter / 2\n",
       "area = pi * radius ** 2\n",
       "```"
      ]
     },
     "metadata": {},
     "output_type": "display_data"
    }
   ],
   "source": [
    "# Uncomment and run the lines below if you need help.\n",
    "q1.hint()\n",
    "q1.solution()"
   ]
  },
  {
   "cell_type": "markdown",
   "id": "d7cf2763",
   "metadata": {
    "papermill": {
     "duration": 0.028621,
     "end_time": "2021-08-04T01:10:42.148878",
     "exception": false,
     "start_time": "2021-08-04T01:10:42.120257",
     "status": "completed"
    },
    "tags": []
   },
   "source": [
    "<hr/>\n",
    "\n",
    "# 2.\n",
    "\n",
    "Add code to the following cell to swap variables `a` and `b` (so that `a` refers to the object previously referred to by `b` and vice versa)."
   ]
  },
  {
   "cell_type": "code",
   "execution_count": 8,
   "id": "fa3363c1",
   "metadata": {
    "execution": {
     "iopub.execute_input": "2021-08-04T01:10:42.211823Z",
     "iopub.status.busy": "2021-08-04T01:10:42.211118Z",
     "iopub.status.idle": "2021-08-04T01:10:42.215637Z",
     "shell.execute_reply": "2021-08-04T01:10:42.216253Z",
     "shell.execute_reply.started": "2021-08-04T01:01:18.416972Z"
    },
    "papermill": {
     "duration": 0.039299,
     "end_time": "2021-08-04T01:10:42.216439",
     "exception": false,
     "start_time": "2021-08-04T01:10:42.177140",
     "status": "completed"
    },
    "tags": []
   },
   "outputs": [
    {
     "data": {
      "application/javascript": [
       "parent.postMessage({\"jupyterEvent\": \"custom.exercise_interaction\", \"data\": {\"outcomeType\": 1, \"valueTowardsCompletion\": 0.25, \"interactionType\": 1, \"questionType\": 2, \"questionId\": \"2_VariableSwap\", \"learnToolsVersion\": \"0.3.4\", \"failureMessage\": \"\", \"exceptionClass\": \"\", \"trace\": \"\"}}, \"*\")"
      ],
      "text/plain": [
       "<IPython.core.display.Javascript object>"
      ]
     },
     "metadata": {},
     "output_type": "display_data"
    },
    {
     "data": {
      "text/markdown": [
       "<span style=\"color:#33cc33\">Correct:</span> \n",
       "\n",
       "The most straightforward solution is to use a third variable to temporarily store one of the old values. e.g.:\n",
       "\n",
       "    tmp = a\n",
       "    a = b\n",
       "    b = tmp\n",
       "\n",
       "If you've read lots of Python code, you might have seen the following trick to swap two variables in one line:\n",
       "\n",
       "    a, b = b, a\n",
       "\n",
       "We'll demystify this bit of Python magic later when we talk about *tuples*."
      ],
      "text/plain": [
       "Correct: \n",
       "\n",
       "The most straightforward solution is to use a third variable to temporarily store one of the old values. e.g.:\n",
       "\n",
       "    tmp = a\n",
       "    a = b\n",
       "    b = tmp\n",
       "\n",
       "If you've read lots of Python code, you might have seen the following trick to swap two variables in one line:\n",
       "\n",
       "    a, b = b, a\n",
       "\n",
       "We'll demystify this bit of Python magic later when we talk about *tuples*."
      ]
     },
     "metadata": {},
     "output_type": "display_data"
    }
   ],
   "source": [
    "########### Setup code - don't touch this part ######################\n",
    "# If you're curious, these are examples of lists. We'll talk about \n",
    "# them in depth a few lessons from now. For now, just know that they're\n",
    "# yet another type of Python object, like int or float.\n",
    "a = [1, 2, 3]\n",
    "b = [3, 2, 1]\n",
    "q2.store_original_ids()\n",
    "######################################################################\n",
    "\n",
    "a , b = b, a\n",
    "\n",
    "######################################################################\n",
    "\n",
    "# Check your answer\n",
    "q2.check()"
   ]
  },
  {
   "cell_type": "code",
   "execution_count": 9,
   "id": "05006cdc",
   "metadata": {
    "execution": {
     "iopub.execute_input": "2021-08-04T01:10:42.278156Z",
     "iopub.status.busy": "2021-08-04T01:10:42.277479Z",
     "iopub.status.idle": "2021-08-04T01:10:42.281223Z",
     "shell.execute_reply": "2021-08-04T01:10:42.281854Z"
    },
    "papermill": {
     "duration": 0.03644,
     "end_time": "2021-08-04T01:10:42.282052",
     "exception": false,
     "start_time": "2021-08-04T01:10:42.245612",
     "status": "completed"
    },
    "tags": []
   },
   "outputs": [],
   "source": [
    "#q2.hint()"
   ]
  },
  {
   "cell_type": "code",
   "execution_count": 10,
   "id": "04c4058d",
   "metadata": {
    "execution": {
     "iopub.execute_input": "2021-08-04T01:10:42.344928Z",
     "iopub.status.busy": "2021-08-04T01:10:42.344261Z",
     "iopub.status.idle": "2021-08-04T01:10:42.352077Z",
     "shell.execute_reply": "2021-08-04T01:10:42.351507Z",
     "shell.execute_reply.started": "2021-08-04T01:00:03.141594Z"
    },
    "papermill": {
     "duration": 0.040866,
     "end_time": "2021-08-04T01:10:42.352216",
     "exception": false,
     "start_time": "2021-08-04T01:10:42.311350",
     "status": "completed"
    },
    "tags": []
   },
   "outputs": [
    {
     "data": {
      "application/javascript": [
       "parent.postMessage({\"jupyterEvent\": \"custom.exercise_interaction\", \"data\": {\"interactionType\": 3, \"questionType\": 2, \"questionId\": \"2_VariableSwap\", \"learnToolsVersion\": \"0.3.4\", \"valueTowardsCompletion\": 0.0, \"failureMessage\": \"\", \"exceptionClass\": \"\", \"trace\": \"\", \"outcomeType\": 4}}, \"*\")"
      ],
      "text/plain": [
       "<IPython.core.display.Javascript object>"
      ]
     },
     "metadata": {},
     "output_type": "display_data"
    },
    {
     "data": {
      "text/markdown": [
       "<span style=\"color:#33cc99\">Solution:</span> The most straightforward solution is to use a third variable to temporarily store one of the old values. e.g.:\n",
       "\n",
       "    tmp = a\n",
       "    a = b\n",
       "    b = tmp\n",
       "\n",
       "If you've read lots of Python code, you might have seen the following trick to swap two variables in one line:\n",
       "\n",
       "    a, b = b, a\n",
       "\n",
       "We'll demystify this bit of Python magic later when we talk about *tuples*."
      ],
      "text/plain": [
       "Solution: The most straightforward solution is to use a third variable to temporarily store one of the old values. e.g.:\n",
       "\n",
       "    tmp = a\n",
       "    a = b\n",
       "    b = tmp\n",
       "\n",
       "If you've read lots of Python code, you might have seen the following trick to swap two variables in one line:\n",
       "\n",
       "    a, b = b, a\n",
       "\n",
       "We'll demystify this bit of Python magic later when we talk about *tuples*."
      ]
     },
     "metadata": {},
     "output_type": "display_data"
    }
   ],
   "source": [
    "q2.solution()"
   ]
  },
  {
   "cell_type": "markdown",
   "id": "0004846a",
   "metadata": {
    "papermill": {
     "duration": 0.029995,
     "end_time": "2021-08-04T01:10:42.412546",
     "exception": false,
     "start_time": "2021-08-04T01:10:42.382551",
     "status": "completed"
    },
    "tags": []
   },
   "source": [
    "<hr/>\n",
    "\n",
    "# 3a.\n",
    "\n",
    "Add parentheses to the following expression so that it evaluates to 1."
   ]
  },
  {
   "cell_type": "code",
   "execution_count": 11,
   "id": "d6956ab5",
   "metadata": {
    "execution": {
     "iopub.execute_input": "2021-08-04T01:10:42.478751Z",
     "iopub.status.busy": "2021-08-04T01:10:42.477804Z",
     "iopub.status.idle": "2021-08-04T01:10:42.481417Z",
     "shell.execute_reply": "2021-08-04T01:10:42.481902Z",
     "shell.execute_reply.started": "2021-08-04T01:02:39.039415Z"
    },
    "papermill": {
     "duration": 0.039147,
     "end_time": "2021-08-04T01:10:42.482092",
     "exception": false,
     "start_time": "2021-08-04T01:10:42.442945",
     "status": "completed"
    },
    "tags": []
   },
   "outputs": [
    {
     "data": {
      "text/plain": [
       "1"
      ]
     },
     "execution_count": 11,
     "metadata": {},
     "output_type": "execute_result"
    }
   ],
   "source": [
    "(5 - 3) // 2"
   ]
  },
  {
   "cell_type": "code",
   "execution_count": 12,
   "id": "6cae9c93",
   "metadata": {
    "execution": {
     "iopub.execute_input": "2021-08-04T01:10:42.548267Z",
     "iopub.status.busy": "2021-08-04T01:10:42.547429Z",
     "iopub.status.idle": "2021-08-04T01:10:42.550751Z",
     "shell.execute_reply": "2021-08-04T01:10:42.550179Z"
    },
    "papermill": {
     "duration": 0.038254,
     "end_time": "2021-08-04T01:10:42.550890",
     "exception": false,
     "start_time": "2021-08-04T01:10:42.512636",
     "status": "completed"
    },
    "tags": []
   },
   "outputs": [],
   "source": [
    "#q3.a.hint()"
   ]
  },
  {
   "cell_type": "code",
   "execution_count": 13,
   "id": "97bb3fc7",
   "metadata": {
    "execution": {
     "iopub.execute_input": "2021-08-04T01:10:42.618477Z",
     "iopub.status.busy": "2021-08-04T01:10:42.617714Z",
     "iopub.status.idle": "2021-08-04T01:10:42.624307Z",
     "shell.execute_reply": "2021-08-04T01:10:42.623736Z",
     "shell.execute_reply.started": "2021-08-04T01:02:51.728073Z"
    },
    "papermill": {
     "duration": 0.04257,
     "end_time": "2021-08-04T01:10:42.624450",
     "exception": false,
     "start_time": "2021-08-04T01:10:42.581880",
     "status": "completed"
    },
    "tags": []
   },
   "outputs": [
    {
     "data": {
      "application/javascript": [
       "parent.postMessage({\"jupyterEvent\": \"custom.exercise_interaction\", \"data\": {\"interactionType\": 3, \"questionType\": 4, \"questionId\": \"3.1_ArithmeticParensEasy\", \"learnToolsVersion\": \"0.3.4\", \"valueTowardsCompletion\": 0.0, \"failureMessage\": \"\", \"exceptionClass\": \"\", \"trace\": \"\", \"outcomeType\": 4}}, \"*\")"
      ],
      "text/plain": [
       "<IPython.core.display.Javascript object>"
      ]
     },
     "metadata": {},
     "output_type": "display_data"
    },
    {
     "data": {
      "text/markdown": [
       "<span style=\"color:#33cc99\">Solution:</span> \n",
       "```python\n",
       "(5 - 3) // 2\n",
       "```"
      ],
      "text/plain": [
       "Solution: \n",
       "```python\n",
       "(5 - 3) // 2\n",
       "```"
      ]
     },
     "metadata": {},
     "output_type": "display_data"
    }
   ],
   "source": [
    "# Check your answer (Run this code cell to receive credit!)\n",
    "q3.a.solution()"
   ]
  },
  {
   "cell_type": "markdown",
   "id": "22bdba29",
   "metadata": {
    "papermill": {
     "duration": 0.031254,
     "end_time": "2021-08-04T01:10:42.687446",
     "exception": false,
     "start_time": "2021-08-04T01:10:42.656192",
     "status": "completed"
    },
    "tags": []
   },
   "source": [
    "# 3b.  <span title=\"A bit spicy\" style=\"color: darkgreen \">🌶️</span>\n",
    "\n",
    "<small>Questions, like this one, marked a spicy pepper are a bit harder.</small>\n",
    "\n",
    "Add parentheses to the following expression so that it evaluates to 0."
   ]
  },
  {
   "cell_type": "code",
   "execution_count": 14,
   "id": "b05caa8c",
   "metadata": {
    "execution": {
     "iopub.execute_input": "2021-08-04T01:10:42.757136Z",
     "iopub.status.busy": "2021-08-04T01:10:42.756130Z",
     "iopub.status.idle": "2021-08-04T01:10:42.760084Z",
     "shell.execute_reply": "2021-08-04T01:10:42.760546Z",
     "shell.execute_reply.started": "2021-08-04T01:03:39.807359Z"
    },
    "papermill": {
     "duration": 0.041687,
     "end_time": "2021-08-04T01:10:42.760716",
     "exception": false,
     "start_time": "2021-08-04T01:10:42.719029",
     "status": "completed"
    },
    "tags": []
   },
   "outputs": [
    {
     "data": {
      "text/plain": [
       "0"
      ]
     },
     "execution_count": 14,
     "metadata": {},
     "output_type": "execute_result"
    }
   ],
   "source": [
    "8 - (3 * 2) - (1 + 1)"
   ]
  },
  {
   "cell_type": "code",
   "execution_count": 15,
   "id": "1500151b",
   "metadata": {
    "execution": {
     "iopub.execute_input": "2021-08-04T01:10:42.829682Z",
     "iopub.status.busy": "2021-08-04T01:10:42.829022Z",
     "iopub.status.idle": "2021-08-04T01:10:42.832347Z",
     "shell.execute_reply": "2021-08-04T01:10:42.831710Z"
    },
    "papermill": {
     "duration": 0.039658,
     "end_time": "2021-08-04T01:10:42.832482",
     "exception": false,
     "start_time": "2021-08-04T01:10:42.792824",
     "status": "completed"
    },
    "tags": []
   },
   "outputs": [],
   "source": [
    "#q3.b.hint()"
   ]
  },
  {
   "cell_type": "code",
   "execution_count": 16,
   "id": "c58a8d68",
   "metadata": {
    "execution": {
     "iopub.execute_input": "2021-08-04T01:10:42.901864Z",
     "iopub.status.busy": "2021-08-04T01:10:42.901217Z",
     "iopub.status.idle": "2021-08-04T01:10:42.906810Z",
     "shell.execute_reply": "2021-08-04T01:10:42.906149Z",
     "shell.execute_reply.started": "2021-08-04T01:03:45.140727Z"
    },
    "papermill": {
     "duration": 0.042402,
     "end_time": "2021-08-04T01:10:42.906966",
     "exception": false,
     "start_time": "2021-08-04T01:10:42.864564",
     "status": "completed"
    },
    "tags": []
   },
   "outputs": [
    {
     "data": {
      "application/javascript": [
       "parent.postMessage({\"jupyterEvent\": \"custom.exercise_interaction\", \"data\": {\"interactionType\": 3, \"questionType\": 4, \"questionId\": \"3.2_ArithmeticParensHard\", \"learnToolsVersion\": \"0.3.4\", \"valueTowardsCompletion\": 0.0, \"failureMessage\": \"\", \"exceptionClass\": \"\", \"trace\": \"\", \"outcomeType\": 4}}, \"*\")"
      ],
      "text/plain": [
       "<IPython.core.display.Javascript object>"
      ]
     },
     "metadata": {},
     "output_type": "display_data"
    },
    {
     "data": {
      "text/markdown": [
       "<span style=\"color:#33cc99\">Solution:</span> `(8 - 3) * (2 - (1 + 1))` is one solution. There may be others."
      ],
      "text/plain": [
       "Solution: `(8 - 3) * (2 - (1 + 1))` is one solution. There may be others."
      ]
     },
     "metadata": {},
     "output_type": "display_data"
    }
   ],
   "source": [
    "# Check your answer (Run this code cell to receive credit!)\n",
    "q3.b.solution()"
   ]
  },
  {
   "cell_type": "markdown",
   "id": "0b1436cb",
   "metadata": {
    "papermill": {
     "duration": 0.032825,
     "end_time": "2021-08-04T01:10:42.973453",
     "exception": false,
     "start_time": "2021-08-04T01:10:42.940628",
     "status": "completed"
    },
    "tags": []
   },
   "source": [
    "<hr/>\n",
    "\n",
    "# 4. \n",
    "Alice, Bob and Carol have agreed to pool their Halloween candy and split it evenly among themselves.\n",
    "For the sake of their friendship, any candies left over will be smashed. For example, if they collectively\n",
    "bring home 91 candies, they'll take 30 each and smash 1.\n",
    "\n",
    "Write an arithmetic expression below to calculate how many candies they must smash for a given haul."
   ]
  },
  {
   "cell_type": "code",
   "execution_count": 17,
   "id": "9cb488d2",
   "metadata": {
    "execution": {
     "iopub.execute_input": "2021-08-04T01:10:43.046589Z",
     "iopub.status.busy": "2021-08-04T01:10:43.045519Z",
     "iopub.status.idle": "2021-08-04T01:10:43.051668Z",
     "shell.execute_reply": "2021-08-04T01:10:43.051145Z",
     "shell.execute_reply.started": "2021-08-04T01:10:10.588631Z"
    },
    "papermill": {
     "duration": 0.04538,
     "end_time": "2021-08-04T01:10:43.051810",
     "exception": false,
     "start_time": "2021-08-04T01:10:43.006430",
     "status": "completed"
    },
    "tags": []
   },
   "outputs": [
    {
     "data": {
      "application/javascript": [
       "parent.postMessage({\"jupyterEvent\": \"custom.exercise_interaction\", \"data\": {\"outcomeType\": 1, \"valueTowardsCompletion\": 0.25, \"interactionType\": 1, \"questionType\": 1, \"questionId\": \"4_CandySplitting\", \"learnToolsVersion\": \"0.3.4\", \"failureMessage\": \"\", \"exceptionClass\": \"\", \"trace\": \"\"}}, \"*\")"
      ],
      "text/plain": [
       "<IPython.core.display.Javascript object>"
      ]
     },
     "metadata": {},
     "output_type": "display_data"
    },
    {
     "data": {
      "text/markdown": [
       "<span style=\"color:#33cc33\">Correct</span>"
      ],
      "text/plain": [
       "Correct"
      ]
     },
     "metadata": {},
     "output_type": "display_data"
    }
   ],
   "source": [
    "# Variables representing the number of candies collected by alice, bob, and carol\n",
    "alice_candies = 121\n",
    "bob_candies = 77\n",
    "carol_candies = 109\n",
    "\n",
    "# Your code goes here! Replace the right-hand side of this assignment with an expression\n",
    "# involving alice_candies, bob_candies, and carol_candies\n",
    "Total = alice_candies + bob_candies + carol_candies\n",
    "to_smash = Total % 3\n",
    "\n",
    "# Check your answer\n",
    "q4.check()"
   ]
  },
  {
   "cell_type": "code",
   "execution_count": 18,
   "id": "b8e71bee",
   "metadata": {
    "execution": {
     "iopub.execute_input": "2021-08-04T01:10:43.127888Z",
     "iopub.status.busy": "2021-08-04T01:10:43.126894Z",
     "iopub.status.idle": "2021-08-04T01:10:43.132654Z",
     "shell.execute_reply": "2021-08-04T01:10:43.133115Z",
     "shell.execute_reply.started": "2021-08-04T01:10:15.348115Z"
    },
    "papermill": {
     "duration": 0.045305,
     "end_time": "2021-08-04T01:10:43.133295",
     "exception": false,
     "start_time": "2021-08-04T01:10:43.087990",
     "status": "completed"
    },
    "tags": []
   },
   "outputs": [
    {
     "data": {
      "application/javascript": [
       "parent.postMessage({\"jupyterEvent\": \"custom.exercise_interaction\", \"data\": {\"interactionType\": 2, \"questionType\": 1, \"questionId\": \"4_CandySplitting\", \"learnToolsVersion\": \"0.3.4\", \"valueTowardsCompletion\": 0.0, \"failureMessage\": \"\", \"exceptionClass\": \"\", \"trace\": \"\", \"outcomeType\": 4}}, \"*\")"
      ],
      "text/plain": [
       "<IPython.core.display.Javascript object>"
      ]
     },
     "metadata": {},
     "output_type": "display_data"
    },
    {
     "data": {
      "text/markdown": [
       "<span style=\"color:#3366cc\">Hint 1:</span> You'll probably want to use the modulo operator, `%`.\n",
       "(For another hint, call `.hint(2)`)"
      ],
      "text/plain": [
       "Hint 1: You'll probably want to use the modulo operator, `%`.\n",
       "(For another hint, call `.hint(2)`)"
      ]
     },
     "metadata": {},
     "output_type": "display_data"
    }
   ],
   "source": [
    "q4.hint()\n",
    "#q4.solution()"
   ]
  },
  {
   "cell_type": "markdown",
   "id": "61c418d2",
   "metadata": {
    "papermill": {
     "duration": 0.034863,
     "end_time": "2021-08-04T01:10:43.203379",
     "exception": false,
     "start_time": "2021-08-04T01:10:43.168516",
     "status": "completed"
    },
    "tags": []
   },
   "source": [
    "# Keep Going\n",
    "\n",
    "Next up, you'll **[learn to write new functions and understand functions others write](https://www.kaggle.com/colinmorris/functions-and-getting-help)**. This will make you at least 10 times more productive as a Python programmer. "
   ]
  },
  {
   "cell_type": "markdown",
   "id": "8a615f09",
   "metadata": {
    "papermill": {
     "duration": 0.035122,
     "end_time": "2021-08-04T01:10:43.273572",
     "exception": false,
     "start_time": "2021-08-04T01:10:43.238450",
     "status": "completed"
    },
    "tags": []
   },
   "source": [
    "---\n",
    "\n",
    "\n",
    "\n",
    "\n",
    "*Have questions or comments? Visit the [Learn Discussion forum](https://www.kaggle.com/learn-forum/161283) to chat with other Learners.*"
   ]
  }
 ],
 "metadata": {
  "kernelspec": {
   "display_name": "Python 3",
   "language": "python",
   "name": "python3"
  },
  "language_info": {
   "codemirror_mode": {
    "name": "ipython",
    "version": 3
   },
   "file_extension": ".py",
   "mimetype": "text/x-python",
   "name": "python",
   "nbconvert_exporter": "python",
   "pygments_lexer": "ipython3",
   "version": "3.7.10"
  },
  "papermill": {
   "default_parameters": {},
   "duration": 11.857982,
   "end_time": "2021-08-04T01:10:44.740510",
   "environment_variables": {},
   "exception": null,
   "input_path": "__notebook__.ipynb",
   "output_path": "__notebook__.ipynb",
   "parameters": {},
   "start_time": "2021-08-04T01:10:32.882528",
   "version": "2.3.3"
  }
 },
 "nbformat": 4,
 "nbformat_minor": 5
}

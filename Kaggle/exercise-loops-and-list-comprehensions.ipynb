{
 "cells": [
  {
   "cell_type": "markdown",
   "id": "f1a7ec23",
   "metadata": {
    "papermill": {
     "duration": 0.018916,
     "end_time": "2021-08-08T04:45:20.618952",
     "exception": false,
     "start_time": "2021-08-08T04:45:20.600036",
     "status": "completed"
    },
    "tags": []
   },
   "source": [
    "**This notebook is an exercise in the [Python](https://www.kaggle.com/learn/python) course.  You can reference the tutorial at [this link](https://www.kaggle.com/colinmorris/loops-and-list-comprehensions).**\n",
    "\n",
    "---\n"
   ]
  },
  {
   "cell_type": "markdown",
   "id": "e494001d",
   "metadata": {
    "papermill": {
     "duration": 0.017061,
     "end_time": "2021-08-08T04:45:20.654365",
     "exception": false,
     "start_time": "2021-08-08T04:45:20.637304",
     "status": "completed"
    },
    "tags": []
   },
   "source": [
    "With all you've learned, you can start writing much more interesting programs. See if you can solve the problems below.\n",
    "\n",
    "As always, run the setup code below before working on the questions."
   ]
  },
  {
   "cell_type": "code",
   "execution_count": 1,
   "id": "10b9c72a",
   "metadata": {
    "execution": {
     "iopub.execute_input": "2021-08-08T04:45:20.701420Z",
     "iopub.status.busy": "2021-08-08T04:45:20.700600Z",
     "iopub.status.idle": "2021-08-08T04:45:20.747659Z",
     "shell.execute_reply": "2021-08-08T04:45:20.748325Z",
     "shell.execute_reply.started": "2021-08-08T03:55:05.107607Z"
    },
    "papermill": {
     "duration": 0.076861,
     "end_time": "2021-08-08T04:45:20.748656",
     "exception": false,
     "start_time": "2021-08-08T04:45:20.671795",
     "status": "completed"
    },
    "tags": []
   },
   "outputs": [
    {
     "name": "stdout",
     "output_type": "stream",
     "text": [
      "Setup complete.\n"
     ]
    }
   ],
   "source": [
    "from learntools.core import binder; binder.bind(globals())\n",
    "from learntools.python.ex5 import *\n",
    "print('Setup complete.')\n"
   ]
  },
  {
   "cell_type": "markdown",
   "id": "d97d53cb",
   "metadata": {
    "papermill": {
     "duration": 0.018221,
     "end_time": "2021-08-08T04:45:20.785332",
     "exception": false,
     "start_time": "2021-08-08T04:45:20.767111",
     "status": "completed"
    },
    "tags": []
   },
   "source": [
    "# 1.\n",
    "\n",
    "Have you ever felt debugging involved a bit of luck? The following program has a bug. Try to identify the bug and fix it."
   ]
  },
  {
   "cell_type": "code",
   "execution_count": 2,
   "id": "58984357",
   "metadata": {
    "execution": {
     "iopub.execute_input": "2021-08-08T04:45:20.823902Z",
     "iopub.status.busy": "2021-08-08T04:45:20.823273Z",
     "iopub.status.idle": "2021-08-08T04:45:20.919444Z",
     "shell.execute_reply": "2021-08-08T04:45:20.918840Z",
     "shell.execute_reply.started": "2021-08-08T03:12:50.836177Z"
    },
    "papermill": {
     "duration": 0.116382,
     "end_time": "2021-08-08T04:45:20.919601",
     "exception": false,
     "start_time": "2021-08-08T04:45:20.803219",
     "status": "completed"
    },
    "tags": []
   },
   "outputs": [],
   "source": [
    "def has_lucky_number(nums):\n",
    "    \"\"\"Return whether the given list of numbers is lucky. A lucky list contains\n",
    "    at least one number divisible by 7.\n",
    "    \"\"\"\n",
    "    for num in nums:\n",
    "        print('iteration')\n",
    "        if num % 7 == 0:\n",
    "            return True\n",
    "        #else:\n",
    "            #return False"
   ]
  },
  {
   "cell_type": "code",
   "execution_count": 3,
   "id": "54edbf99",
   "metadata": {
    "execution": {
     "iopub.execute_input": "2021-08-08T04:45:20.965835Z",
     "iopub.status.busy": "2021-08-08T04:45:20.964935Z",
     "iopub.status.idle": "2021-08-08T04:45:20.970059Z",
     "shell.execute_reply": "2021-08-08T04:45:20.970530Z",
     "shell.execute_reply.started": "2021-08-08T03:12:54.956848Z"
    },
    "papermill": {
     "duration": 0.032358,
     "end_time": "2021-08-08T04:45:20.970704",
     "exception": false,
     "start_time": "2021-08-08T04:45:20.938346",
     "status": "completed"
    },
    "tags": []
   },
   "outputs": [
    {
     "name": "stdout",
     "output_type": "stream",
     "text": [
      "iteration\n",
      "iteration\n",
      "iteration\n",
      "iteration\n"
     ]
    },
    {
     "data": {
      "text/plain": [
       "True"
      ]
     },
     "execution_count": 3,
     "metadata": {},
     "output_type": "execute_result"
    }
   ],
   "source": [
    "has_lucky_number([3,5,8,7])"
   ]
  },
  {
   "cell_type": "markdown",
   "id": "81971ca6",
   "metadata": {
    "papermill": {
     "duration": 0.018259,
     "end_time": "2021-08-08T04:45:21.007525",
     "exception": false,
     "start_time": "2021-08-08T04:45:20.989266",
     "status": "completed"
    },
    "tags": []
   },
   "source": [
    "Try to identify the bug and fix it in the cell below:"
   ]
  },
  {
   "cell_type": "code",
   "execution_count": 4,
   "id": "9f0933af",
   "metadata": {
    "execution": {
     "iopub.execute_input": "2021-08-08T04:45:21.052099Z",
     "iopub.status.busy": "2021-08-08T04:45:21.051381Z",
     "iopub.status.idle": "2021-08-08T04:45:21.055423Z",
     "shell.execute_reply": "2021-08-08T04:45:21.055897Z",
     "shell.execute_reply.started": "2021-08-08T03:14:54.247696Z"
    },
    "papermill": {
     "duration": 0.029238,
     "end_time": "2021-08-08T04:45:21.056087",
     "exception": false,
     "start_time": "2021-08-08T04:45:21.026849",
     "status": "completed"
    },
    "tags": []
   },
   "outputs": [
    {
     "data": {
      "application/javascript": [
       "parent.postMessage({\"jupyterEvent\": \"custom.exercise_interaction\", \"data\": {\"outcomeType\": 1, \"valueTowardsCompletion\": 0.25, \"interactionType\": 1, \"questionType\": 2, \"questionId\": \"1_EarlyExitDebugging\", \"learnToolsVersion\": \"0.3.4\", \"failureMessage\": \"\", \"exceptionClass\": \"\", \"trace\": \"\"}}, \"*\")"
      ],
      "text/plain": [
       "<IPython.core.display.Javascript object>"
      ]
     },
     "metadata": {},
     "output_type": "display_data"
    },
    {
     "data": {
      "text/markdown": [
       "<span style=\"color:#33cc33\">Correct:</span> \n",
       "\n",
       "Remember that `return` causes a function to exit immediately. So our original implementation always ran for just one iteration. We can only return `False` if we've looked at every element of the list (and confirmed that none of them are lucky). Though we can return early if the answer is `True`:\n",
       "\n",
       "```python\n",
       "def has_lucky_number(nums):\n",
       "    for num in nums:\n",
       "        if num % 7 == 0:\n",
       "            return True\n",
       "    # We've exhausted the list without finding a lucky number\n",
       "    return False\n",
       "```\n",
       "\n",
       "Here's a one-line version using a list comprehension with Python's `any` function (you can read about what it does by calling `help(any)`):\n",
       "\n",
       "```python\n",
       "def has_lucky_number(nums):\n",
       "    return any([num % 7 == 0 for num in nums])\n",
       "```\n"
      ],
      "text/plain": [
       "Correct: \n",
       "\n",
       "Remember that `return` causes a function to exit immediately. So our original implementation always ran for just one iteration. We can only return `False` if we've looked at every element of the list (and confirmed that none of them are lucky). Though we can return early if the answer is `True`:\n",
       "\n",
       "```python\n",
       "def has_lucky_number(nums):\n",
       "    for num in nums:\n",
       "        if num % 7 == 0:\n",
       "            return True\n",
       "    # We've exhausted the list without finding a lucky number\n",
       "    return False\n",
       "```\n",
       "\n",
       "Here's a one-line version using a list comprehension with Python's `any` function (you can read about what it does by calling `help(any)`):\n",
       "\n",
       "```python\n",
       "def has_lucky_number(nums):\n",
       "    return any([num % 7 == 0 for num in nums])\n",
       "```"
      ]
     },
     "metadata": {},
     "output_type": "display_data"
    }
   ],
   "source": [
    "def has_lucky_number(nums):\n",
    "    \"\"\"Return whether the given list of numbers is lucky. A lucky list contains\n",
    "    at least one number divisible by 7.\n",
    "    \"\"\"\n",
    "    for num in nums:\n",
    "        if num % 7 == 0:\n",
    "            return True\n",
    "    \n",
    "    return False\n",
    "\n",
    "# Check your answer\n",
    "q1.check()"
   ]
  },
  {
   "cell_type": "code",
   "execution_count": 5,
   "id": "c4a0277a",
   "metadata": {
    "execution": {
     "iopub.execute_input": "2021-08-08T04:45:21.100173Z",
     "iopub.status.busy": "2021-08-08T04:45:21.099452Z",
     "iopub.status.idle": "2021-08-08T04:45:21.108396Z",
     "shell.execute_reply": "2021-08-08T04:45:21.108976Z",
     "shell.execute_reply.started": "2021-08-08T03:09:10.031299Z"
    },
    "papermill": {
     "duration": 0.032801,
     "end_time": "2021-08-08T04:45:21.109156",
     "exception": false,
     "start_time": "2021-08-08T04:45:21.076355",
     "status": "completed"
    },
    "tags": []
   },
   "outputs": [
    {
     "data": {
      "application/javascript": [
       "parent.postMessage({\"jupyterEvent\": \"custom.exercise_interaction\", \"data\": {\"interactionType\": 2, \"questionType\": 2, \"questionId\": \"1_EarlyExitDebugging\", \"learnToolsVersion\": \"0.3.4\", \"valueTowardsCompletion\": 0.0, \"failureMessage\": \"\", \"exceptionClass\": \"\", \"trace\": \"\", \"outcomeType\": 4}}, \"*\")"
      ],
      "text/plain": [
       "<IPython.core.display.Javascript object>"
      ]
     },
     "metadata": {},
     "output_type": "display_data"
    },
    {
     "data": {
      "text/markdown": [
       "<span style=\"color:#3366cc\">Hint:</span> How many times does the body of the loop run for a list of length n? (If you're not sure, try adding a `print()` call on the line before the `if`.)"
      ],
      "text/plain": [
       "Hint: How many times does the body of the loop run for a list of length n? (If you're not sure, try adding a `print()` call on the line before the `if`.)"
      ]
     },
     "metadata": {},
     "output_type": "display_data"
    },
    {
     "data": {
      "application/javascript": [
       "parent.postMessage({\"jupyterEvent\": \"custom.exercise_interaction\", \"data\": {\"interactionType\": 3, \"questionType\": 2, \"questionId\": \"1_EarlyExitDebugging\", \"learnToolsVersion\": \"0.3.4\", \"valueTowardsCompletion\": 0.0, \"failureMessage\": \"\", \"exceptionClass\": \"\", \"trace\": \"\", \"outcomeType\": 4}}, \"*\")"
      ],
      "text/plain": [
       "<IPython.core.display.Javascript object>"
      ]
     },
     "metadata": {},
     "output_type": "display_data"
    },
    {
     "data": {
      "text/markdown": [
       "<span style=\"color:#33cc99\">Solution:</span> Remember that `return` causes a function to exit immediately. So our original implementation always ran for just one iteration. We can only return `False` if we've looked at every element of the list (and confirmed that none of them are lucky). Though we can return early if the answer is `True`:\n",
       "\n",
       "```python\n",
       "def has_lucky_number(nums):\n",
       "    for num in nums:\n",
       "        if num % 7 == 0:\n",
       "            return True\n",
       "    # We've exhausted the list without finding a lucky number\n",
       "    return False\n",
       "```\n",
       "\n",
       "Here's a one-line version using a list comprehension with Python's `any` function (you can read about what it does by calling `help(any)`):\n",
       "\n",
       "```python\n",
       "def has_lucky_number(nums):\n",
       "    return any([num % 7 == 0 for num in nums])\n",
       "```\n"
      ],
      "text/plain": [
       "Solution: Remember that `return` causes a function to exit immediately. So our original implementation always ran for just one iteration. We can only return `False` if we've looked at every element of the list (and confirmed that none of them are lucky). Though we can return early if the answer is `True`:\n",
       "\n",
       "```python\n",
       "def has_lucky_number(nums):\n",
       "    for num in nums:\n",
       "        if num % 7 == 0:\n",
       "            return True\n",
       "    # We've exhausted the list without finding a lucky number\n",
       "    return False\n",
       "```\n",
       "\n",
       "Here's a one-line version using a list comprehension with Python's `any` function (you can read about what it does by calling `help(any)`):\n",
       "\n",
       "```python\n",
       "def has_lucky_number(nums):\n",
       "    return any([num % 7 == 0 for num in nums])\n",
       "```"
      ]
     },
     "metadata": {},
     "output_type": "display_data"
    }
   ],
   "source": [
    "q1.hint()\n",
    "q1.solution()"
   ]
  },
  {
   "cell_type": "markdown",
   "id": "36e3b1fa",
   "metadata": {
    "papermill": {
     "duration": 0.021419,
     "end_time": "2021-08-08T04:45:21.152223",
     "exception": false,
     "start_time": "2021-08-08T04:45:21.130804",
     "status": "completed"
    },
    "tags": []
   },
   "source": [
    "# 2.\n",
    "Look at the Python expression below. What do you think we'll get when we run it? When you've made your prediction, uncomment the code and run the cell to see if you were right."
   ]
  },
  {
   "cell_type": "code",
   "execution_count": 6,
   "id": "0b1969f4",
   "metadata": {
    "execution": {
     "iopub.execute_input": "2021-08-08T04:45:21.199026Z",
     "iopub.status.busy": "2021-08-08T04:45:21.198377Z",
     "iopub.status.idle": "2021-08-08T04:45:21.264766Z",
     "shell.execute_reply": "2021-08-08T04:45:21.264089Z",
     "shell.execute_reply.started": "2021-08-08T03:15:59.272215Z"
    },
    "papermill": {
     "duration": 0.090792,
     "end_time": "2021-08-08T04:45:21.265065",
     "exception": true,
     "start_time": "2021-08-08T04:45:21.174273",
     "status": "failed"
    },
    "tags": []
   },
   "outputs": [
    {
     "ename": "TypeError",
     "evalue": "'>' not supported between instances of 'list' and 'int'",
     "output_type": "error",
     "traceback": [
      "\u001b[0;31m---------------------------------------------------------------------------\u001b[0m",
      "\u001b[0;31mTypeError\u001b[0m                                 Traceback (most recent call last)",
      "\u001b[0;32m<ipython-input-6-6f064fcfe2b9>\u001b[0m in \u001b[0;36m<module>\u001b[0;34m\u001b[0m\n\u001b[0;32m----> 1\u001b[0;31m \u001b[0;34m[\u001b[0m\u001b[0;36m1\u001b[0m\u001b[0;34m,\u001b[0m \u001b[0;36m2\u001b[0m\u001b[0;34m,\u001b[0m \u001b[0;36m3\u001b[0m\u001b[0;34m,\u001b[0m \u001b[0;36m4\u001b[0m\u001b[0;34m]\u001b[0m \u001b[0;34m>\u001b[0m \u001b[0;36m2\u001b[0m\u001b[0;34m\u001b[0m\u001b[0;34m\u001b[0m\u001b[0m\n\u001b[0m",
      "\u001b[0;31mTypeError\u001b[0m: '>' not supported between instances of 'list' and 'int'"
     ]
    }
   ],
   "source": [
    "[1, 2, 3, 4] > 2"
   ]
  },
  {
   "cell_type": "markdown",
   "id": "763df57b",
   "metadata": {
    "papermill": {
     "duration": null,
     "end_time": null,
     "exception": null,
     "start_time": null,
     "status": "pending"
    },
    "tags": []
   },
   "source": [
    "R and Python have some libraries (like numpy and pandas) compare each element of the list to 2 (i.e. do an 'element-wise' comparison) and give us a list of booleans like `[False, False, True, True]`. \n",
    "\n",
    "Implement a function that reproduces this behaviour, returning a list of booleans corresponding to whether the corresponding element is greater than n."
   ]
  },
  {
   "cell_type": "code",
   "execution_count": null,
   "id": "3e101815",
   "metadata": {
    "execution": {
     "iopub.execute_input": "2021-08-08T03:18:19.325908Z",
     "iopub.status.busy": "2021-08-08T03:18:19.325537Z",
     "iopub.status.idle": "2021-08-08T03:18:19.335905Z",
     "shell.execute_reply": "2021-08-08T03:18:19.334828Z",
     "shell.execute_reply.started": "2021-08-08T03:18:19.325867Z"
    },
    "papermill": {
     "duration": null,
     "end_time": null,
     "exception": null,
     "start_time": null,
     "status": "pending"
    },
    "tags": []
   },
   "outputs": [],
   "source": [
    "def elementwise_greater_than(L, thresh):\n",
    "    \"\"\"Return a list with the same length as L, where the value at index i is \n",
    "    True if L[i] is greater than thresh, and False otherwise.\n",
    "    \n",
    "    >>> elementwise_greater_than([1, 2, 3, 4], 2)\n",
    "    [False, False, True, True]\n",
    "    \"\"\"\n",
    "    return ([num > thresh for num in L])\n",
    "\n",
    "# Check your answer\n",
    "q2.check()"
   ]
  },
  {
   "cell_type": "code",
   "execution_count": null,
   "id": "b446b6a3",
   "metadata": {
    "papermill": {
     "duration": null,
     "end_time": null,
     "exception": null,
     "start_time": null,
     "status": "pending"
    },
    "tags": []
   },
   "outputs": [],
   "source": [
    "#q2.solution()"
   ]
  },
  {
   "cell_type": "markdown",
   "id": "98e6e928",
   "metadata": {
    "papermill": {
     "duration": null,
     "end_time": null,
     "exception": null,
     "start_time": null,
     "status": "pending"
    },
    "tags": []
   },
   "source": [
    "# 3.\n",
    "\n",
    "Complete the body of the function below according to its docstring."
   ]
  },
  {
   "cell_type": "code",
   "execution_count": null,
   "id": "635d2e72",
   "metadata": {
    "execution": {
     "iopub.execute_input": "2021-08-08T04:24:21.031517Z",
     "iopub.status.busy": "2021-08-08T04:24:21.031105Z",
     "iopub.status.idle": "2021-08-08T04:24:21.038028Z",
     "shell.execute_reply": "2021-08-08T04:24:21.036817Z",
     "shell.execute_reply.started": "2021-08-08T04:24:21.031481Z"
    },
    "papermill": {
     "duration": null,
     "end_time": null,
     "exception": null,
     "start_time": null,
     "status": "pending"
    },
    "tags": []
   },
   "outputs": [],
   "source": [
    "lis= [0,1,2]\n",
    "for l in lis:\n",
    "    print(lis.index(l))\n",
    "print (len(lis) -1)"
   ]
  },
  {
   "cell_type": "code",
   "execution_count": null,
   "id": "42de07d5",
   "metadata": {
    "execution": {
     "iopub.execute_input": "2021-08-08T04:27:10.701516Z",
     "iopub.status.busy": "2021-08-08T04:27:10.701112Z",
     "iopub.status.idle": "2021-08-08T04:27:10.711454Z",
     "shell.execute_reply": "2021-08-08T04:27:10.710487Z",
     "shell.execute_reply.started": "2021-08-08T04:27:10.701484Z"
    },
    "papermill": {
     "duration": null,
     "end_time": null,
     "exception": null,
     "start_time": null,
     "status": "pending"
    },
    "tags": []
   },
   "outputs": [],
   "source": [
    "def menu_is_boring(meals):\n",
    "    \"\"\"Given a list of meals served over some period of time, return True if the\n",
    "    same meal has ever been served two days in a row, and False otherwise.\n",
    "    \"\"\"\n",
    "    # Iterate over all indices of the list, except the last one\n",
    "    for i in range(len(meals)-1):\n",
    "        if meals[i] == meals[i+1]:\n",
    "            return True\n",
    "    return False\n",
    "\n",
    "# Check your answer\n",
    "q3.check()"
   ]
  },
  {
   "cell_type": "code",
   "execution_count": null,
   "id": "55523383",
   "metadata": {
    "execution": {
     "iopub.execute_input": "2021-08-08T04:10:36.427148Z",
     "iopub.status.busy": "2021-08-08T04:10:36.426756Z",
     "iopub.status.idle": "2021-08-08T04:10:36.440792Z",
     "shell.execute_reply": "2021-08-08T04:10:36.439696Z",
     "shell.execute_reply.started": "2021-08-08T04:10:36.427116Z"
    },
    "papermill": {
     "duration": null,
     "end_time": null,
     "exception": null,
     "start_time": null,
     "status": "pending"
    },
    "tags": []
   },
   "outputs": [],
   "source": [
    "q3.hint()\n",
    "q3.solution()"
   ]
  },
  {
   "cell_type": "markdown",
   "id": "3c1cd4bb",
   "metadata": {
    "papermill": {
     "duration": null,
     "end_time": null,
     "exception": null,
     "start_time": null,
     "status": "pending"
    },
    "tags": []
   },
   "source": [
    "# 4. <span title=\"A bit spicy\" style=\"color: darkgreen \">🌶️</span>\n",
    "\n",
    "Next to the Blackjack table, the Python Challenge Casino has a slot machine. You can get a result from the slot machine by calling `play_slot_machine()`. The number it returns is your winnings in dollars. Usually it returns 0.  But sometimes you'll get lucky and get a big payday. Try running it below:"
   ]
  },
  {
   "cell_type": "code",
   "execution_count": null,
   "id": "f6167b6f",
   "metadata": {
    "execution": {
     "iopub.execute_input": "2021-08-08T04:38:55.780709Z",
     "iopub.status.busy": "2021-08-08T04:38:55.780347Z",
     "iopub.status.idle": "2021-08-08T04:38:55.786695Z",
     "shell.execute_reply": "2021-08-08T04:38:55.785595Z",
     "shell.execute_reply.started": "2021-08-08T04:38:55.780681Z"
    },
    "papermill": {
     "duration": null,
     "end_time": null,
     "exception": null,
     "start_time": null,
     "status": "pending"
    },
    "tags": []
   },
   "outputs": [],
   "source": [
    "play_slot_machine()"
   ]
  },
  {
   "cell_type": "markdown",
   "id": "5fbfd00c",
   "metadata": {
    "papermill": {
     "duration": null,
     "end_time": null,
     "exception": null,
     "start_time": null,
     "status": "pending"
    },
    "tags": []
   },
   "source": [
    "By the way, did we mention that each play costs $1? Don't worry, we'll send you the bill later.\n",
    "\n",
    "On average, how much money can you expect to gain (or lose) every time you play the machine?  The casino keeps it a secret, but you can estimate the average value of each pull using a technique called the **Monte Carlo method**. To estimate the average outcome, we simulate the scenario many times, and return the average result.\n",
    "\n",
    "Complete the following function to calculate the average value per play of the slot machine."
   ]
  },
  {
   "cell_type": "code",
   "execution_count": null,
   "id": "dfedfa3b",
   "metadata": {
    "execution": {
     "iopub.execute_input": "2021-08-08T04:40:33.332043Z",
     "iopub.status.busy": "2021-08-08T04:40:33.331637Z",
     "iopub.status.idle": "2021-08-08T04:40:33.336029Z",
     "shell.execute_reply": "2021-08-08T04:40:33.335253Z",
     "shell.execute_reply.started": "2021-08-08T04:40:33.332012Z"
    },
    "papermill": {
     "duration": null,
     "end_time": null,
     "exception": null,
     "start_time": null,
     "status": "pending"
    },
    "tags": []
   },
   "outputs": [],
   "source": [
    "def estimate_average_slot_payout(n_runs):\n",
    "    \"\"\"Run the slot machine n_runs times and return the average net profit per run.\n",
    "    Example calls (note that return value is nondeterministic!):\n",
    "    >>> estimate_average_slot_payout(1)\n",
    "    -1\n",
    "    >>> estimate_average_slot_payout(1)\n",
    "    0.5\n",
    "    \"\"\"\n",
    "    pass"
   ]
  },
  {
   "cell_type": "markdown",
   "id": "b9813911",
   "metadata": {
    "papermill": {
     "duration": null,
     "end_time": null,
     "exception": null,
     "start_time": null,
     "status": "pending"
    },
    "tags": []
   },
   "source": [
    "When you think you know the expected value per spin, run the code cell below to view the solution and get credit for answering the question."
   ]
  },
  {
   "cell_type": "code",
   "execution_count": null,
   "id": "03955294",
   "metadata": {
    "execution": {
     "iopub.execute_input": "2021-08-08T04:40:38.675120Z",
     "iopub.status.busy": "2021-08-08T04:40:38.674601Z",
     "iopub.status.idle": "2021-08-08T04:40:38.683205Z",
     "shell.execute_reply": "2021-08-08T04:40:38.682226Z",
     "shell.execute_reply.started": "2021-08-08T04:40:38.675089Z"
    },
    "papermill": {
     "duration": null,
     "end_time": null,
     "exception": null,
     "start_time": null,
     "status": "pending"
    },
    "tags": []
   },
   "outputs": [],
   "source": [
    "# Check your answer (Run this code cell to receive credit!)\n",
    "q4.solution()"
   ]
  },
  {
   "cell_type": "markdown",
   "id": "8e96a71f",
   "metadata": {
    "papermill": {
     "duration": null,
     "end_time": null,
     "exception": null,
     "start_time": null,
     "status": "pending"
    },
    "tags": []
   },
   "source": [
    "# Keep Going\n",
    "\n",
    "Many programmers report that dictionaries are their favorite data structure. You'll get to **[learn about them](https://www.kaggle.com/colinmorris/strings-and-dictionaries)** (as well as strings) in the next lesson."
   ]
  },
  {
   "cell_type": "markdown",
   "id": "631e0dff",
   "metadata": {
    "papermill": {
     "duration": null,
     "end_time": null,
     "exception": null,
     "start_time": null,
     "status": "pending"
    },
    "tags": []
   },
   "source": [
    "---\n",
    "\n",
    "\n",
    "\n",
    "\n",
    "*Have questions or comments? Visit the [Learn Discussion forum](https://www.kaggle.com/learn-forum/161283) to chat with other Learners.*"
   ]
  }
 ],
 "metadata": {
  "kernelspec": {
   "display_name": "Python 3",
   "language": "python",
   "name": "python3"
  },
  "language_info": {
   "codemirror_mode": {
    "name": "ipython",
    "version": 3
   },
   "file_extension": ".py",
   "mimetype": "text/x-python",
   "name": "python",
   "nbconvert_exporter": "python",
   "pygments_lexer": "ipython3",
   "version": "3.7.10"
  },
  "papermill": {
   "default_parameters": {},
   "duration": 10.869801,
   "end_time": "2021-08-08T04:45:22.697045",
   "environment_variables": {},
   "exception": true,
   "input_path": "__notebook__.ipynb",
   "output_path": "__notebook__.ipynb",
   "parameters": {},
   "start_time": "2021-08-08T04:45:11.827244",
   "version": "2.3.3"
  }
 },
 "nbformat": 4,
 "nbformat_minor": 5
}

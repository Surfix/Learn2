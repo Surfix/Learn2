{
 "cells": [
  {
   "cell_type": "markdown",
   "id": "05a998dd",
   "metadata": {
    "papermill": {
     "duration": 0.013551,
     "end_time": "2021-08-11T23:19:51.829297",
     "exception": false,
     "start_time": "2021-08-11T23:19:51.815746",
     "status": "completed"
    },
    "tags": []
   },
   "source": [
    "**This notebook is an exercise in the [Introduction to Machine Learning](https://www.kaggle.com/learn/intro-to-machine-learning) course.  You can reference the tutorial at [this link](https://www.kaggle.com/dansbecker/your-first-machine-learning-model).**\n",
    "\n",
    "---\n"
   ]
  },
  {
   "cell_type": "markdown",
   "id": "68b28b21",
   "metadata": {
    "papermill": {
     "duration": 0.012627,
     "end_time": "2021-08-11T23:19:51.855329",
     "exception": false,
     "start_time": "2021-08-11T23:19:51.842702",
     "status": "completed"
    },
    "tags": []
   },
   "source": [
    "## Recap\n",
    "So far, you have loaded your data and reviewed it with the following code. Run this cell to set up your coding environment where the previous step left off."
   ]
  },
  {
   "cell_type": "code",
   "execution_count": 1,
   "id": "0aa6e2fd",
   "metadata": {
    "execution": {
     "iopub.execute_input": "2021-08-11T23:19:51.891012Z",
     "iopub.status.busy": "2021-08-11T23:19:51.890494Z",
     "iopub.status.idle": "2021-08-11T23:19:52.913216Z",
     "shell.execute_reply": "2021-08-11T23:19:52.911906Z",
     "shell.execute_reply.started": "2021-08-11T22:59:15.938290Z"
    },
    "papermill": {
     "duration": 1.04556,
     "end_time": "2021-08-11T23:19:52.913425",
     "exception": false,
     "start_time": "2021-08-11T23:19:51.867865",
     "status": "completed"
    },
    "tags": []
   },
   "outputs": [
    {
     "name": "stdout",
     "output_type": "stream",
     "text": [
      "Setup Complete\n"
     ]
    }
   ],
   "source": [
    "# Code you have previously used to load data\n",
    "import pandas as pd\n",
    "\n",
    "# Path of the file to read\n",
    "iowa_file_path = '../input/home-data-for-ml-course/train.csv'\n",
    "\n",
    "home_data = pd.read_csv(iowa_file_path)\n",
    "\n",
    "# Set up code checking\n",
    "from learntools.core import binder\n",
    "binder.bind(globals())\n",
    "from learntools.machine_learning.ex3 import *\n",
    "\n",
    "print(\"Setup Complete\")"
   ]
  },
  {
   "cell_type": "markdown",
   "id": "ab1319cc",
   "metadata": {
    "papermill": {
     "duration": 0.012492,
     "end_time": "2021-08-11T23:19:52.940747",
     "exception": false,
     "start_time": "2021-08-11T23:19:52.928255",
     "status": "completed"
    },
    "tags": []
   },
   "source": [
    "# Exercises\n",
    "\n",
    "## Step 1: Specify Prediction Target\n",
    "Select the target variable, which corresponds to the sales price. Save this to a new variable called `y`. You'll need to print a list of the columns to find the name of the column you need.\n"
   ]
  },
  {
   "cell_type": "code",
   "execution_count": 2,
   "id": "80053d91",
   "metadata": {
    "execution": {
     "iopub.execute_input": "2021-08-11T23:19:52.973695Z",
     "iopub.status.busy": "2021-08-11T23:19:52.972927Z",
     "iopub.status.idle": "2021-08-11T23:19:52.976069Z",
     "shell.execute_reply": "2021-08-11T23:19:52.976471Z",
     "shell.execute_reply.started": "2021-08-11T22:59:17.394287Z"
    },
    "papermill": {
     "duration": 0.022723,
     "end_time": "2021-08-11T23:19:52.976595",
     "exception": false,
     "start_time": "2021-08-11T23:19:52.953872",
     "status": "completed"
    },
    "tags": []
   },
   "outputs": [
    {
     "data": {
      "text/plain": [
       "Index(['Id', 'MSSubClass', 'MSZoning', 'LotFrontage', 'LotArea', 'Street',\n",
       "       'Alley', 'LotShape', 'LandContour', 'Utilities', 'LotConfig',\n",
       "       'LandSlope', 'Neighborhood', 'Condition1', 'Condition2', 'BldgType',\n",
       "       'HouseStyle', 'OverallQual', 'OverallCond', 'YearBuilt', 'YearRemodAdd',\n",
       "       'RoofStyle', 'RoofMatl', 'Exterior1st', 'Exterior2nd', 'MasVnrType',\n",
       "       'MasVnrArea', 'ExterQual', 'ExterCond', 'Foundation', 'BsmtQual',\n",
       "       'BsmtCond', 'BsmtExposure', 'BsmtFinType1', 'BsmtFinSF1',\n",
       "       'BsmtFinType2', 'BsmtFinSF2', 'BsmtUnfSF', 'TotalBsmtSF', 'Heating',\n",
       "       'HeatingQC', 'CentralAir', 'Electrical', '1stFlrSF', '2ndFlrSF',\n",
       "       'LowQualFinSF', 'GrLivArea', 'BsmtFullBath', 'BsmtHalfBath', 'FullBath',\n",
       "       'HalfBath', 'BedroomAbvGr', 'KitchenAbvGr', 'KitchenQual',\n",
       "       'TotRmsAbvGrd', 'Functional', 'Fireplaces', 'FireplaceQu', 'GarageType',\n",
       "       'GarageYrBlt', 'GarageFinish', 'GarageCars', 'GarageArea', 'GarageQual',\n",
       "       'GarageCond', 'PavedDrive', 'WoodDeckSF', 'OpenPorchSF',\n",
       "       'EnclosedPorch', '3SsnPorch', 'ScreenPorch', 'PoolArea', 'PoolQC',\n",
       "       'Fence', 'MiscFeature', 'MiscVal', 'MoSold', 'YrSold', 'SaleType',\n",
       "       'SaleCondition', 'SalePrice'],\n",
       "      dtype='object')"
      ]
     },
     "execution_count": 2,
     "metadata": {},
     "output_type": "execute_result"
    }
   ],
   "source": [
    "# print the list of columns in the dataset to find the name of the prediction target\n",
    "home_data.columns"
   ]
  },
  {
   "cell_type": "code",
   "execution_count": 3,
   "id": "afdc7a50",
   "metadata": {
    "execution": {
     "iopub.execute_input": "2021-08-11T23:19:53.012921Z",
     "iopub.status.busy": "2021-08-11T23:19:53.012092Z",
     "iopub.status.idle": "2021-08-11T23:19:53.016710Z",
     "shell.execute_reply": "2021-08-11T23:19:53.017092Z",
     "shell.execute_reply.started": "2021-08-11T22:59:44.340090Z"
    },
    "papermill": {
     "duration": 0.027317,
     "end_time": "2021-08-11T23:19:53.017207",
     "exception": false,
     "start_time": "2021-08-11T23:19:52.989890",
     "status": "completed"
    },
    "tags": []
   },
   "outputs": [
    {
     "data": {
      "application/javascript": [
       "parent.postMessage({\"jupyterEvent\": \"custom.exercise_interaction\", \"data\": {\"outcomeType\": 1, \"valueTowardsCompletion\": 0.25, \"interactionType\": 1, \"questionType\": 2, \"questionId\": \"1_SetTarget\", \"learnToolsVersion\": \"0.3.4\", \"failureMessage\": \"\", \"exceptionClass\": \"\", \"trace\": \"\"}}, \"*\")"
      ],
      "text/plain": [
       "<IPython.core.display.Javascript object>"
      ]
     },
     "metadata": {},
     "output_type": "display_data"
    },
    {
     "data": {
      "text/markdown": [
       "<span style=\"color:#33cc33\">Correct</span>"
      ],
      "text/plain": [
       "Correct"
      ]
     },
     "metadata": {},
     "output_type": "display_data"
    }
   ],
   "source": [
    "y = home_data.SalePrice\n",
    "\n",
    "# Check your answer\n",
    "step_1.check()"
   ]
  },
  {
   "cell_type": "code",
   "execution_count": 4,
   "id": "dd3be9c9",
   "metadata": {
    "execution": {
     "iopub.execute_input": "2021-08-11T23:19:53.048463Z",
     "iopub.status.busy": "2021-08-11T23:19:53.047915Z",
     "iopub.status.idle": "2021-08-11T23:19:53.051967Z",
     "shell.execute_reply": "2021-08-11T23:19:53.051504Z",
     "shell.execute_reply.started": "2021-08-11T22:59:45.930110Z"
    },
    "papermill": {
     "duration": 0.020938,
     "end_time": "2021-08-11T23:19:53.052065",
     "exception": false,
     "start_time": "2021-08-11T23:19:53.031127",
     "status": "completed"
    },
    "tags": []
   },
   "outputs": [
    {
     "data": {
      "application/javascript": [
       "parent.postMessage({\"jupyterEvent\": \"custom.exercise_interaction\", \"data\": {\"interactionType\": 3, \"questionType\": 2, \"questionId\": \"1_SetTarget\", \"learnToolsVersion\": \"0.3.4\", \"valueTowardsCompletion\": 0.0, \"failureMessage\": \"\", \"exceptionClass\": \"\", \"trace\": \"\", \"outcomeType\": 4}}, \"*\")"
      ],
      "text/plain": [
       "<IPython.core.display.Javascript object>"
      ]
     },
     "metadata": {},
     "output_type": "display_data"
    },
    {
     "data": {
      "text/markdown": [
       "<span style=\"color:#33cc99\">Solution:</span> \n",
       "```python\n",
       "y = home_data.SalePrice\n",
       "```"
      ],
      "text/plain": [
       "Solution: \n",
       "```python\n",
       "y = home_data.SalePrice\n",
       "```"
      ]
     },
     "metadata": {},
     "output_type": "display_data"
    }
   ],
   "source": [
    "# The lines below will show you a hint or the solution.\n",
    "# step_1.hint() \n",
    "step_1.solution()"
   ]
  },
  {
   "cell_type": "markdown",
   "id": "af6af291",
   "metadata": {
    "papermill": {
     "duration": 0.014721,
     "end_time": "2021-08-11T23:19:53.081344",
     "exception": false,
     "start_time": "2021-08-11T23:19:53.066623",
     "status": "completed"
    },
    "tags": []
   },
   "source": [
    "## Step 2: Create X\n",
    "Now you will create a DataFrame called `X` holding the predictive features.\n",
    "\n",
    "Since you want only some columns from the original data, you'll first create a list with the names of the columns you want in `X`.\n",
    "\n",
    "You'll use just the following columns in the list (you can copy and paste the whole list to save some typing, though you'll still need to add quotes):\n",
    "    * LotArea\n",
    "    * YearBuilt\n",
    "    * 1stFlrSF\n",
    "    * 2ndFlrSF\n",
    "    * FullBath\n",
    "    * BedroomAbvGr\n",
    "    * TotRmsAbvGrd\n",
    "\n",
    "After you've created that list of features, use it to create the DataFrame that you'll use to fit the model."
   ]
  },
  {
   "cell_type": "code",
   "execution_count": 5,
   "id": "92aa5546",
   "metadata": {
    "execution": {
     "iopub.execute_input": "2021-08-11T23:19:53.117823Z",
     "iopub.status.busy": "2021-08-11T23:19:53.117327Z",
     "iopub.status.idle": "2021-08-11T23:19:53.121139Z",
     "shell.execute_reply": "2021-08-11T23:19:53.120670Z",
     "shell.execute_reply.started": "2021-08-11T23:02:30.963970Z"
    },
    "papermill": {
     "duration": 0.024803,
     "end_time": "2021-08-11T23:19:53.121267",
     "exception": false,
     "start_time": "2021-08-11T23:19:53.096464",
     "status": "completed"
    },
    "tags": []
   },
   "outputs": [
    {
     "data": {
      "application/javascript": [
       "parent.postMessage({\"jupyterEvent\": \"custom.exercise_interaction\", \"data\": {\"outcomeType\": 1, \"valueTowardsCompletion\": 0.25, \"interactionType\": 1, \"questionType\": 2, \"questionId\": \"2_SelectPredictionData\", \"learnToolsVersion\": \"0.3.4\", \"failureMessage\": \"\", \"exceptionClass\": \"\", \"trace\": \"\"}}, \"*\")"
      ],
      "text/plain": [
       "<IPython.core.display.Javascript object>"
      ]
     },
     "metadata": {},
     "output_type": "display_data"
    },
    {
     "data": {
      "text/markdown": [
       "<span style=\"color:#33cc33\">Correct</span>"
      ],
      "text/plain": [
       "Correct"
      ]
     },
     "metadata": {},
     "output_type": "display_data"
    }
   ],
   "source": [
    "# Create the list of features below\n",
    "feature_names = ['LotArea', 'YearBuilt', '1stFlrSF', '2ndFlrSF', 'FullBath', 'BedroomAbvGr', 'TotRmsAbvGrd']\n",
    "\n",
    "# Select data corresponding to features in feature_names\n",
    "X = home_data[feature_names]\n",
    "\n",
    "# Check your answer\n",
    "step_2.check()"
   ]
  },
  {
   "cell_type": "code",
   "execution_count": 6,
   "id": "68184e84",
   "metadata": {
    "execution": {
     "iopub.execute_input": "2021-08-11T23:19:53.154823Z",
     "iopub.status.busy": "2021-08-11T23:19:53.154356Z",
     "iopub.status.idle": "2021-08-11T23:19:53.159242Z",
     "shell.execute_reply": "2021-08-11T23:19:53.159706Z",
     "shell.execute_reply.started": "2021-08-11T23:02:40.780792Z"
    },
    "papermill": {
     "duration": 0.02281,
     "end_time": "2021-08-11T23:19:53.159815",
     "exception": false,
     "start_time": "2021-08-11T23:19:53.137005",
     "status": "completed"
    },
    "tags": []
   },
   "outputs": [
    {
     "data": {
      "application/javascript": [
       "parent.postMessage({\"jupyterEvent\": \"custom.exercise_interaction\", \"data\": {\"interactionType\": 3, \"questionType\": 2, \"questionId\": \"2_SelectPredictionData\", \"learnToolsVersion\": \"0.3.4\", \"valueTowardsCompletion\": 0.0, \"failureMessage\": \"\", \"exceptionClass\": \"\", \"trace\": \"\", \"outcomeType\": 4}}, \"*\")"
      ],
      "text/plain": [
       "<IPython.core.display.Javascript object>"
      ]
     },
     "metadata": {},
     "output_type": "display_data"
    },
    {
     "data": {
      "text/markdown": [
       "<span style=\"color:#33cc99\">Solution:</span> \n",
       "```python\n",
       "feature_names = [\"LotArea\", \"YearBuilt\", \"1stFlrSF\", \"2ndFlrSF\",\n",
       "                      \"FullBath\", \"BedroomAbvGr\", \"TotRmsAbvGrd\"]\n",
       "\n",
       "X=home_data[feature_names]\n",
       "```"
      ],
      "text/plain": [
       "Solution: \n",
       "```python\n",
       "feature_names = [\"LotArea\", \"YearBuilt\", \"1stFlrSF\", \"2ndFlrSF\",\n",
       "                      \"FullBath\", \"BedroomAbvGr\", \"TotRmsAbvGrd\"]\n",
       "\n",
       "X=home_data[feature_names]\n",
       "```"
      ]
     },
     "metadata": {},
     "output_type": "display_data"
    }
   ],
   "source": [
    "# step_2.hint()\n",
    "step_2.solution()"
   ]
  },
  {
   "cell_type": "markdown",
   "id": "48678c4d",
   "metadata": {
    "papermill": {
     "duration": 0.016052,
     "end_time": "2021-08-11T23:19:53.192125",
     "exception": false,
     "start_time": "2021-08-11T23:19:53.176073",
     "status": "completed"
    },
    "tags": []
   },
   "source": [
    "## Review Data\n",
    "Before building a model, take a quick look at **X** to verify it looks sensible"
   ]
  },
  {
   "cell_type": "code",
   "execution_count": 7,
   "id": "41c26df7",
   "metadata": {
    "execution": {
     "iopub.execute_input": "2021-08-11T23:19:53.226375Z",
     "iopub.status.busy": "2021-08-11T23:19:53.225798Z",
     "iopub.status.idle": "2021-08-11T23:19:53.254189Z",
     "shell.execute_reply": "2021-08-11T23:19:53.254781Z",
     "shell.execute_reply.started": "2021-08-11T23:03:45.181942Z"
    },
    "papermill": {
     "duration": 0.046787,
     "end_time": "2021-08-11T23:19:53.254940",
     "exception": false,
     "start_time": "2021-08-11T23:19:53.208153",
     "status": "completed"
    },
    "tags": []
   },
   "outputs": [
    {
     "name": "stdout",
     "output_type": "stream",
     "text": [
      "             LotArea    YearBuilt     1stFlrSF     2ndFlrSF     FullBath  \\\n",
      "count    1460.000000  1460.000000  1460.000000  1460.000000  1460.000000   \n",
      "mean    10516.828082  1971.267808  1162.626712   346.992466     1.565068   \n",
      "std      9981.264932    30.202904   386.587738   436.528436     0.550916   \n",
      "min      1300.000000  1872.000000   334.000000     0.000000     0.000000   \n",
      "25%      7553.500000  1954.000000   882.000000     0.000000     1.000000   \n",
      "50%      9478.500000  1973.000000  1087.000000     0.000000     2.000000   \n",
      "75%     11601.500000  2000.000000  1391.250000   728.000000     2.000000   \n",
      "max    215245.000000  2010.000000  4692.000000  2065.000000     3.000000   \n",
      "\n",
      "       BedroomAbvGr  TotRmsAbvGrd  \n",
      "count   1460.000000   1460.000000  \n",
      "mean       2.866438      6.517808  \n",
      "std        0.815778      1.625393  \n",
      "min        0.000000      2.000000  \n",
      "25%        2.000000      5.000000  \n",
      "50%        3.000000      6.000000  \n",
      "75%        3.000000      7.000000  \n",
      "max        8.000000     14.000000  \n",
      "   LotArea  YearBuilt  1stFlrSF  2ndFlrSF  FullBath  BedroomAbvGr  \\\n",
      "0     8450       2003       856       854         2             3   \n",
      "1     9600       1976      1262         0         2             3   \n",
      "2    11250       2001       920       866         2             3   \n",
      "3     9550       1915       961       756         1             3   \n",
      "4    14260       2000      1145      1053         2             4   \n",
      "\n",
      "   TotRmsAbvGrd  \n",
      "0             8  \n",
      "1             6  \n",
      "2             6  \n",
      "3             7  \n",
      "4             9  \n"
     ]
    }
   ],
   "source": [
    "# Review data\n",
    "# print description or statistics from X\n",
    "print(X.describe())\n",
    "\n",
    "# print the top few lines\n",
    "print(X.head())"
   ]
  },
  {
   "cell_type": "markdown",
   "id": "700cdf7c",
   "metadata": {
    "papermill": {
     "duration": 0.01618,
     "end_time": "2021-08-11T23:19:53.289133",
     "exception": false,
     "start_time": "2021-08-11T23:19:53.272953",
     "status": "completed"
    },
    "tags": []
   },
   "source": [
    "## Step 3: Specify and Fit Model\n",
    "Create a `DecisionTreeRegressor` and save it iowa_model. Ensure you've done the relevant import from sklearn to run this command.\n",
    "\n",
    "Then fit the model you just created using the data in `X` and `y` that you saved above."
   ]
  },
  {
   "cell_type": "code",
   "execution_count": 8,
   "id": "c5e6f0ea",
   "metadata": {
    "execution": {
     "iopub.execute_input": "2021-08-11T23:19:53.324717Z",
     "iopub.status.busy": "2021-08-11T23:19:53.324210Z",
     "iopub.status.idle": "2021-08-11T23:19:53.338751Z",
     "shell.execute_reply": "2021-08-11T23:19:53.339141Z",
     "shell.execute_reply.started": "2021-08-11T23:10:12.199645Z"
    },
    "papermill": {
     "duration": 0.033528,
     "end_time": "2021-08-11T23:19:53.339272",
     "exception": false,
     "start_time": "2021-08-11T23:19:53.305744",
     "status": "completed"
    },
    "tags": []
   },
   "outputs": [
    {
     "data": {
      "application/javascript": [
       "parent.postMessage({\"jupyterEvent\": \"custom.exercise_interaction\", \"data\": {\"outcomeType\": 1, \"valueTowardsCompletion\": 0.25, \"interactionType\": 1, \"questionType\": 2, \"questionId\": \"3_CreateModel\", \"learnToolsVersion\": \"0.3.4\", \"failureMessage\": \"\", \"exceptionClass\": \"\", \"trace\": \"\"}}, \"*\")"
      ],
      "text/plain": [
       "<IPython.core.display.Javascript object>"
      ]
     },
     "metadata": {},
     "output_type": "display_data"
    },
    {
     "data": {
      "text/markdown": [
       "<span style=\"color:#33cc33\">Correct</span>"
      ],
      "text/plain": [
       "Correct"
      ]
     },
     "metadata": {},
     "output_type": "display_data"
    }
   ],
   "source": [
    "from sklearn.tree import DecisionTreeRegressor\n",
    "#specify the model. \n",
    "#For model reproducibility, set a numeric value for random_state when specifying the model\n",
    "iowa_model = DecisionTreeRegressor(random_state = 27)\n",
    "\n",
    "# Fit the model\n",
    "iowa_model.fit(X,y)\n",
    "\n",
    "# Check your answer\n",
    "step_3.check()"
   ]
  },
  {
   "cell_type": "code",
   "execution_count": 9,
   "id": "5d70bb49",
   "metadata": {
    "execution": {
     "iopub.execute_input": "2021-08-11T23:19:53.376100Z",
     "iopub.status.busy": "2021-08-11T23:19:53.375605Z",
     "iopub.status.idle": "2021-08-11T23:19:53.381093Z",
     "shell.execute_reply": "2021-08-11T23:19:53.381553Z",
     "shell.execute_reply.started": "2021-08-11T23:10:18.893089Z"
    },
    "papermill": {
     "duration": 0.025047,
     "end_time": "2021-08-11T23:19:53.381679",
     "exception": false,
     "start_time": "2021-08-11T23:19:53.356632",
     "status": "completed"
    },
    "tags": []
   },
   "outputs": [
    {
     "data": {
      "application/javascript": [
       "parent.postMessage({\"jupyterEvent\": \"custom.exercise_interaction\", \"data\": {\"interactionType\": 3, \"questionType\": 2, \"questionId\": \"3_CreateModel\", \"learnToolsVersion\": \"0.3.4\", \"valueTowardsCompletion\": 0.0, \"failureMessage\": \"\", \"exceptionClass\": \"\", \"trace\": \"\", \"outcomeType\": 4}}, \"*\")"
      ],
      "text/plain": [
       "<IPython.core.display.Javascript object>"
      ]
     },
     "metadata": {},
     "output_type": "display_data"
    },
    {
     "data": {
      "text/markdown": [
       "<span style=\"color:#33cc99\">Solution:</span> \n",
       "```python\n",
       "from sklearn.tree import DecisionTreeRegressor\n",
       "iowa_model = DecisionTreeRegressor(random_state=1)\n",
       "iowa_model.fit(X, y)\n",
       "```"
      ],
      "text/plain": [
       "Solution: \n",
       "```python\n",
       "from sklearn.tree import DecisionTreeRegressor\n",
       "iowa_model = DecisionTreeRegressor(random_state=1)\n",
       "iowa_model.fit(X, y)\n",
       "```"
      ]
     },
     "metadata": {},
     "output_type": "display_data"
    }
   ],
   "source": [
    "# step_3.hint()\n",
    "step_3.solution()"
   ]
  },
  {
   "cell_type": "markdown",
   "id": "65fd73a9",
   "metadata": {
    "papermill": {
     "duration": 0.019396,
     "end_time": "2021-08-11T23:19:53.419584",
     "exception": false,
     "start_time": "2021-08-11T23:19:53.400188",
     "status": "completed"
    },
    "tags": []
   },
   "source": [
    "## Step 4: Make Predictions\n",
    "Make predictions with the model's `predict` command using `X` as the data. Save the results to a variable called `predictions`."
   ]
  },
  {
   "cell_type": "code",
   "execution_count": 10,
   "id": "6588bbdb",
   "metadata": {
    "execution": {
     "iopub.execute_input": "2021-08-11T23:19:53.459998Z",
     "iopub.status.busy": "2021-08-11T23:19:53.459148Z",
     "iopub.status.idle": "2021-08-11T23:19:53.470892Z",
     "shell.execute_reply": "2021-08-11T23:19:53.471344Z",
     "shell.execute_reply.started": "2021-08-11T23:11:10.156125Z"
    },
    "papermill": {
     "duration": 0.033157,
     "end_time": "2021-08-11T23:19:53.471478",
     "exception": false,
     "start_time": "2021-08-11T23:19:53.438321",
     "status": "completed"
    },
    "tags": []
   },
   "outputs": [
    {
     "name": "stdout",
     "output_type": "stream",
     "text": [
      "[208500. 181500. 223500. ... 266500. 142125. 147500.]\n"
     ]
    },
    {
     "data": {
      "application/javascript": [
       "parent.postMessage({\"jupyterEvent\": \"custom.exercise_interaction\", \"data\": {\"outcomeType\": 1, \"valueTowardsCompletion\": 0.25, \"interactionType\": 1, \"questionType\": 2, \"questionId\": \"4_MakePredictions\", \"learnToolsVersion\": \"0.3.4\", \"failureMessage\": \"\", \"exceptionClass\": \"\", \"trace\": \"\"}}, \"*\")"
      ],
      "text/plain": [
       "<IPython.core.display.Javascript object>"
      ]
     },
     "metadata": {},
     "output_type": "display_data"
    },
    {
     "data": {
      "text/markdown": [
       "<span style=\"color:#33cc33\">Correct</span>"
      ],
      "text/plain": [
       "Correct"
      ]
     },
     "metadata": {},
     "output_type": "display_data"
    }
   ],
   "source": [
    "predictions = iowa_model.predict(X)\n",
    "print(predictions)\n",
    "\n",
    "# Check your answer\n",
    "step_4.check()"
   ]
  },
  {
   "cell_type": "code",
   "execution_count": 11,
   "id": "28aabf2a",
   "metadata": {
    "execution": {
     "iopub.execute_input": "2021-08-11T23:19:53.514521Z",
     "iopub.status.busy": "2021-08-11T23:19:53.513926Z",
     "iopub.status.idle": "2021-08-11T23:19:53.518414Z",
     "shell.execute_reply": "2021-08-11T23:19:53.518849Z",
     "shell.execute_reply.started": "2021-08-11T23:11:20.159666Z"
    },
    "papermill": {
     "duration": 0.027726,
     "end_time": "2021-08-11T23:19:53.518979",
     "exception": false,
     "start_time": "2021-08-11T23:19:53.491253",
     "status": "completed"
    },
    "tags": []
   },
   "outputs": [
    {
     "data": {
      "application/javascript": [
       "parent.postMessage({\"jupyterEvent\": \"custom.exercise_interaction\", \"data\": {\"interactionType\": 3, \"questionType\": 2, \"questionId\": \"4_MakePredictions\", \"learnToolsVersion\": \"0.3.4\", \"valueTowardsCompletion\": 0.0, \"failureMessage\": \"\", \"exceptionClass\": \"\", \"trace\": \"\", \"outcomeType\": 4}}, \"*\")"
      ],
      "text/plain": [
       "<IPython.core.display.Javascript object>"
      ]
     },
     "metadata": {},
     "output_type": "display_data"
    },
    {
     "data": {
      "text/markdown": [
       "<span style=\"color:#33cc99\">Solution:</span> \n",
       "```python\n",
       "iowa_model.predict(X)\n",
       "```"
      ],
      "text/plain": [
       "Solution: \n",
       "```python\n",
       "iowa_model.predict(X)\n",
       "```"
      ]
     },
     "metadata": {},
     "output_type": "display_data"
    }
   ],
   "source": [
    "# step_4.hint()\n",
    "step_4.solution()"
   ]
  },
  {
   "cell_type": "markdown",
   "id": "8db0fe2c",
   "metadata": {
    "papermill": {
     "duration": 0.019634,
     "end_time": "2021-08-11T23:19:53.559348",
     "exception": false,
     "start_time": "2021-08-11T23:19:53.539714",
     "status": "completed"
    },
    "tags": []
   },
   "source": [
    "## Think About Your Results\n",
    "\n",
    "Use the `head` method to compare the top few predictions to the actual home values (in `y`) for those same homes. Anything surprising?\n"
   ]
  },
  {
   "cell_type": "code",
   "execution_count": 12,
   "id": "821273ae",
   "metadata": {
    "execution": {
     "iopub.execute_input": "2021-08-11T23:19:53.602144Z",
     "iopub.status.busy": "2021-08-11T23:19:53.601386Z",
     "iopub.status.idle": "2021-08-11T23:19:53.607581Z",
     "shell.execute_reply": "2021-08-11T23:19:53.607991Z",
     "shell.execute_reply.started": "2021-08-11T23:12:59.201606Z"
    },
    "papermill": {
     "duration": 0.028696,
     "end_time": "2021-08-11T23:19:53.608106",
     "exception": false,
     "start_time": "2021-08-11T23:19:53.579410",
     "status": "completed"
    },
    "tags": []
   },
   "outputs": [
    {
     "name": "stdout",
     "output_type": "stream",
     "text": [
      "0       208500\n",
      "1       181500\n",
      "2       223500\n",
      "3       140000\n",
      "4       250000\n",
      "         ...  \n",
      "1455    175000\n",
      "1456    210000\n",
      "1457    266500\n",
      "1458    142125\n",
      "1459    147500\n",
      "Name: SalePrice, Length: 1460, dtype: int64\n",
      "**************************************************\n",
      "[208500. 181500. 223500. ... 266500. 142125. 147500.]\n"
     ]
    }
   ],
   "source": [
    "# You can write code in this cell\n",
    "print(y)\n",
    "print('*'*50)\n",
    "print(predictions)"
   ]
  },
  {
   "cell_type": "markdown",
   "id": "78ed2ac1",
   "metadata": {
    "papermill": {
     "duration": 0.021422,
     "end_time": "2021-08-11T23:19:53.649982",
     "exception": false,
     "start_time": "2021-08-11T23:19:53.628560",
     "status": "completed"
    },
    "tags": []
   },
   "source": [
    "It's natural to ask how accurate the model's predictions will be and how you can improve that. That will be you're next step.\n",
    "\n",
    "# Keep Going\n",
    "\n",
    "You are ready for **[Model Validation](https://www.kaggle.com/dansbecker/model-validation).**\n"
   ]
  },
  {
   "cell_type": "markdown",
   "id": "27ec0270",
   "metadata": {
    "papermill": {
     "duration": 0.024559,
     "end_time": "2021-08-11T23:19:53.700046",
     "exception": false,
     "start_time": "2021-08-11T23:19:53.675487",
     "status": "completed"
    },
    "tags": []
   },
   "source": [
    "---\n",
    "\n",
    "\n",
    "\n",
    "\n",
    "*Have questions or comments? Visit the [Learn Discussion forum](https://www.kaggle.com/learn-forum/161285) to chat with other Learners.*"
   ]
  }
 ],
 "metadata": {
  "kernelspec": {
   "display_name": "Python 3",
   "language": "python",
   "name": "python3"
  },
  "language_info": {
   "codemirror_mode": {
    "name": "ipython",
    "version": 3
   },
   "file_extension": ".py",
   "mimetype": "text/x-python",
   "name": "python",
   "nbconvert_exporter": "python",
   "pygments_lexer": "ipython3",
   "version": "3.7.10"
  },
  "papermill": {
   "default_parameters": {},
   "duration": 9.079762,
   "end_time": "2021-08-11T23:19:54.228108",
   "environment_variables": {},
   "exception": null,
   "input_path": "__notebook__.ipynb",
   "output_path": "__notebook__.ipynb",
   "parameters": {},
   "start_time": "2021-08-11T23:19:45.148346",
   "version": "2.3.3"
  }
 },
 "nbformat": 4,
 "nbformat_minor": 5
}

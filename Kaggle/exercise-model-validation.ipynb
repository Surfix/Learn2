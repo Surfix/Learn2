{
 "cells": [
  {
   "cell_type": "markdown",
   "id": "50748d9f",
   "metadata": {
    "papermill": {
     "duration": 0.016964,
     "end_time": "2021-08-11T23:44:53.978333",
     "exception": false,
     "start_time": "2021-08-11T23:44:53.961369",
     "status": "completed"
    },
    "tags": []
   },
   "source": [
    "**This notebook is an exercise in the [Introduction to Machine Learning](https://www.kaggle.com/learn/intro-to-machine-learning) course.  Youval_predictionsn reference the tutorial at [this link](https://www.kaggle.com/dansbecker/model-validation).**\n",
    "\n",
    "---\n"
   ]
  },
  {
   "cell_type": "markdown",
   "id": "bbf8b6b9",
   "metadata": {
    "papermill": {
     "duration": 0.015248,
     "end_time": "2021-08-11T23:44:54.009096",
     "exception": false,
     "start_time": "2021-08-11T23:44:53.993848",
     "status": "completed"
    },
    "tags": []
   },
   "source": [
    "## Recap\n",
    "You've built a model. In this exercise you will test how good your model is.\n",
    "\n",
    "Run the cell below to set up your coding environment where the previous exercise left off."
   ]
  },
  {
   "cell_type": "code",
   "execution_count": 1,
   "id": "693aefda",
   "metadata": {
    "execution": {
     "iopub.execute_input": "2021-08-11T23:44:54.044644Z",
     "iopub.status.busy": "2021-08-11T23:44:54.043276Z",
     "iopub.status.idle": "2021-08-11T23:44:55.348413Z",
     "shell.execute_reply": "2021-08-11T23:44:55.348975Z",
     "shell.execute_reply.started": "2021-08-11T23:42:10.133514Z"
    },
    "papermill": {
     "duration": 1.324538,
     "end_time": "2021-08-11T23:44:55.349284",
     "exception": false,
     "start_time": "2021-08-11T23:44:54.024746",
     "status": "completed"
    },
    "tags": []
   },
   "outputs": [
    {
     "name": "stdout",
     "output_type": "stream",
     "text": [
      "First in-sample predictions: [208500. 181500. 223500. 140000. 250000.]\n",
      "Actual target values for those homes: [208500, 181500, 223500, 140000, 250000]\n",
      "Setup Complete\n"
     ]
    }
   ],
   "source": [
    "# Code you have previously used to load data\n",
    "import pandas as pd\n",
    "from sklearn.tree import DecisionTreeRegressor\n",
    "\n",
    "# Path of the file to read\n",
    "iowa_file_path = '../input/home-data-for-ml-course/train.csv'\n",
    "\n",
    "home_data = pd.read_csv(iowa_file_path)\n",
    "y = home_data.SalePrice\n",
    "feature_columns = ['LotArea', 'YearBuilt', '1stFlrSF', '2ndFlrSF', 'FullBath', 'BedroomAbvGr', 'TotRmsAbvGrd']\n",
    "X = home_data[feature_columns]\n",
    "\n",
    "# Specify Model\n",
    "iowa_model = DecisionTreeRegressor()\n",
    "# Fit Model\n",
    "iowa_model.fit(X, y)\n",
    "\n",
    "print(\"First in-sample predictions:\", iowa_model.predict(X.head()))\n",
    "print(\"Actual target values for those homes:\", y.head().tolist())\n",
    "\n",
    "# Set up code checking\n",
    "from learntools.core import binder\n",
    "binder.bind(globals())\n",
    "from learntools.machine_learning.ex4 import *\n",
    "print(\"Setup Complete\")"
   ]
  },
  {
   "cell_type": "markdown",
   "id": "5254dd36",
   "metadata": {
    "papermill": {
     "duration": 0.014951,
     "end_time": "2021-08-11T23:44:55.379699",
     "exception": false,
     "start_time": "2021-08-11T23:44:55.364748",
     "status": "completed"
    },
    "tags": []
   },
   "source": [
    "# Exercises\n",
    "\n",
    "## Step 1: Split Your Data\n",
    "Use the `train_test_split` function to split up your data.\n",
    "\n",
    "Give it the argument `random_state=1` so the `check` functions know what to expect when verifying your code.\n",
    "\n",
    "Recall, your features are loaded in the DataFrame **X** and your target is loaded in **y**.\n"
   ]
  },
  {
   "cell_type": "code",
   "execution_count": 2,
   "id": "024e2afe",
   "metadata": {
    "execution": {
     "iopub.execute_input": "2021-08-11T23:44:55.414061Z",
     "iopub.status.busy": "2021-08-11T23:44:55.413295Z",
     "iopub.status.idle": "2021-08-11T23:44:55.421097Z",
     "shell.execute_reply": "2021-08-11T23:44:55.421757Z",
     "shell.execute_reply.started": "2021-08-11T23:33:23.310124Z"
    },
    "papermill": {
     "duration": 0.026807,
     "end_time": "2021-08-11T23:44:55.421932",
     "exception": false,
     "start_time": "2021-08-11T23:44:55.395125",
     "status": "completed"
    },
    "tags": []
   },
   "outputs": [
    {
     "data": {
      "text/plain": [
       "['BaseCrossValidator',\n",
       " 'GridSearchCV',\n",
       " 'GroupKFold',\n",
       " 'GroupShuffleSplit',\n",
       " 'KFold',\n",
       " 'LeaveOneGroupOut',\n",
       " 'LeaveOneOut',\n",
       " 'LeavePGroupsOut',\n",
       " 'LeavePOut',\n",
       " 'ParameterGrid',\n",
       " 'ParameterSampler',\n",
       " 'PredefinedSplit',\n",
       " 'RandomizedSearchCV',\n",
       " 'RepeatedKFold',\n",
       " 'RepeatedStratifiedKFold',\n",
       " 'ShuffleSplit',\n",
       " 'StratifiedKFold',\n",
       " 'StratifiedShuffleSplit',\n",
       " 'TimeSeriesSplit',\n",
       " '__all__',\n",
       " '__builtins__',\n",
       " '__cached__',\n",
       " '__doc__',\n",
       " '__file__',\n",
       " '__loader__',\n",
       " '__name__',\n",
       " '__package__',\n",
       " '__path__',\n",
       " '__spec__',\n",
       " '_search',\n",
       " '_split',\n",
       " '_validation',\n",
       " 'check_cv',\n",
       " 'cross_val_predict',\n",
       " 'cross_val_score',\n",
       " 'cross_validate',\n",
       " 'fit_grid_point',\n",
       " 'learning_curve',\n",
       " 'permutation_test_score',\n",
       " 'train_test_split',\n",
       " 'validation_curve']"
      ]
     },
     "execution_count": 2,
     "metadata": {},
     "output_type": "execute_result"
    }
   ],
   "source": [
    "import sklearn\n",
    "dir(sklearn.model_selection)"
   ]
  },
  {
   "cell_type": "code",
   "execution_count": 3,
   "id": "d73e82c8",
   "metadata": {
    "execution": {
     "iopub.execute_input": "2021-08-11T23:44:55.455853Z",
     "iopub.status.busy": "2021-08-11T23:44:55.455099Z",
     "iopub.status.idle": "2021-08-11T23:44:55.565566Z",
     "shell.execute_reply": "2021-08-11T23:44:55.563903Z",
     "shell.execute_reply.started": "2021-08-11T23:36:18.651349Z"
    },
    "papermill": {
     "duration": 0.128454,
     "end_time": "2021-08-11T23:44:55.565879",
     "exception": true,
     "start_time": "2021-08-11T23:44:55.437425",
     "status": "failed"
    },
    "tags": []
   },
   "outputs": [
    {
     "ename": "NameError",
     "evalue": "name 'train_test_split' is not defined",
     "output_type": "error",
     "traceback": [
      "\u001b[0;31m---------------------------------------------------------------------------\u001b[0m",
      "\u001b[0;31mNameError\u001b[0m                                 Traceback (most recent call last)",
      "\u001b[0;32m<ipython-input-3-966318ffaffd>\u001b[0m in \u001b[0;36m<module>\u001b[0;34m\u001b[0m\n\u001b[0;32m----> 1\u001b[0;31m \u001b[0mhelp\u001b[0m\u001b[0;34m(\u001b[0m\u001b[0mtrain_test_split\u001b[0m\u001b[0;34m)\u001b[0m\u001b[0;34m\u001b[0m\u001b[0;34m\u001b[0m\u001b[0m\n\u001b[0m",
      "\u001b[0;31mNameError\u001b[0m: name 'train_test_split' is not defined"
     ]
    }
   ],
   "source": [
    "help(train_test_split)"
   ]
  },
  {
   "cell_type": "code",
   "execution_count": null,
   "id": "4c47bc26",
   "metadata": {
    "execution": {
     "iopub.execute_input": "2021-08-11T23:42:25.884605Z",
     "iopub.status.busy": "2021-08-11T23:42:25.884023Z",
     "iopub.status.idle": "2021-08-11T23:42:25.922467Z",
     "shell.execute_reply": "2021-08-11T23:42:25.921489Z",
     "shell.execute_reply.started": "2021-08-11T23:42:25.884545Z"
    },
    "papermill": {
     "duration": null,
     "end_time": null,
     "exception": null,
     "start_time": null,
     "status": "pending"
    },
    "tags": []
   },
   "outputs": [],
   "source": [
    "# Import the train_test_split function and uncomment\n",
    "from sklearn.model_selection import train_test_split \n",
    "\n",
    "# fill in and uncomment\n",
    "train_X, val_X, train_y, val_y = train_test_split(X,y, random_state = 1)\n",
    "\n",
    "# Check your answer\n",
    "step_1.check()"
   ]
  },
  {
   "cell_type": "code",
   "execution_count": null,
   "id": "25263a59",
   "metadata": {
    "execution": {
     "iopub.execute_input": "2021-08-11T23:37:21.835913Z",
     "iopub.status.busy": "2021-08-11T23:37:21.835500Z",
     "iopub.status.idle": "2021-08-11T23:37:21.844240Z",
     "shell.execute_reply": "2021-08-11T23:37:21.843231Z",
     "shell.execute_reply.started": "2021-08-11T23:37:21.835882Z"
    },
    "papermill": {
     "duration": null,
     "end_time": null,
     "exception": null,
     "start_time": null,
     "status": "pending"
    },
    "tags": []
   },
   "outputs": [],
   "source": [
    "# The lines below will show you a hint or the solution.\n",
    "step_1.hint() \n",
    "# step_1.solution()\n"
   ]
  },
  {
   "cell_type": "markdown",
   "id": "07635f27",
   "metadata": {
    "papermill": {
     "duration": null,
     "end_time": null,
     "exception": null,
     "start_time": null,
     "status": "pending"
    },
    "tags": []
   },
   "source": [
    "## Step 2: Specify and Fit the Model\n",
    "\n",
    "Create a `DecisionTreeRegressor` model and fit it to the relevant data.\n",
    "Set `random_state` to 1 again when creating the model."
   ]
  },
  {
   "cell_type": "code",
   "execution_count": null,
   "id": "25823179",
   "metadata": {
    "execution": {
     "iopub.execute_input": "2021-08-11T23:42:35.638065Z",
     "iopub.status.busy": "2021-08-11T23:42:35.637655Z",
     "iopub.status.idle": "2021-08-11T23:42:35.669172Z",
     "shell.execute_reply": "2021-08-11T23:42:35.668158Z",
     "shell.execute_reply.started": "2021-08-11T23:42:35.638009Z"
    },
    "papermill": {
     "duration": null,
     "end_time": null,
     "exception": null,
     "start_time": null,
     "status": "pending"
    },
    "tags": []
   },
   "outputs": [],
   "source": [
    "# You imported DecisionTreeRegressor in your last exercise\n",
    "# and that code has been copied to the setup code above. So, no need to\n",
    "# import it again\n",
    "\n",
    "# Specify the model\n",
    "iowa_model = DecisionTreeRegressor(random_state= 1)\n",
    "\n",
    "# Fit iowa_model with the training data.\n",
    "iowa_model.fit(train_X, train_y)\n",
    "\n",
    "# Check your answer\n",
    "step_2.check()"
   ]
  },
  {
   "cell_type": "code",
   "execution_count": null,
   "id": "29b4864f",
   "metadata": {
    "papermill": {
     "duration": null,
     "end_time": null,
     "exception": null,
     "start_time": null,
     "status": "pending"
    },
    "tags": []
   },
   "outputs": [],
   "source": [
    "# step_2.hint()\n",
    "# step_2.solution()"
   ]
  },
  {
   "cell_type": "markdown",
   "id": "8e1b4434",
   "metadata": {
    "papermill": {
     "duration": null,
     "end_time": null,
     "exception": null,
     "start_time": null,
     "status": "pending"
    },
    "tags": []
   },
   "source": [
    "## Step 3: Make Predictions with Validation data\n"
   ]
  },
  {
   "cell_type": "code",
   "execution_count": null,
   "id": "61affaa8",
   "metadata": {
    "execution": {
     "iopub.execute_input": "2021-08-11T23:42:43.320755Z",
     "iopub.status.busy": "2021-08-11T23:42:43.320367Z",
     "iopub.status.idle": "2021-08-11T23:42:43.332344Z",
     "shell.execute_reply": "2021-08-11T23:42:43.331331Z",
     "shell.execute_reply.started": "2021-08-11T23:42:43.320711Z"
    },
    "papermill": {
     "duration": null,
     "end_time": null,
     "exception": null,
     "start_time": null,
     "status": "pending"
    },
    "tags": []
   },
   "outputs": [],
   "source": [
    "# Predict with all validation observations\n",
    "val_predictions = iowa_model.predict(val_X)\n",
    "\n",
    "# Check your answer\n",
    "step_3.check()"
   ]
  },
  {
   "cell_type": "code",
   "execution_count": null,
   "id": "9ffaffff",
   "metadata": {
    "papermill": {
     "duration": null,
     "end_time": null,
     "exception": null,
     "start_time": null,
     "status": "pending"
    },
    "tags": []
   },
   "outputs": [],
   "source": [
    "# step_3.hint()\n",
    "# step_3.solution()"
   ]
  },
  {
   "cell_type": "markdown",
   "id": "d3ba4263",
   "metadata": {
    "papermill": {
     "duration": null,
     "end_time": null,
     "exception": null,
     "start_time": null,
     "status": "pending"
    },
    "tags": []
   },
   "source": [
    "Inspect your predictions and actual values from validation data."
   ]
  },
  {
   "cell_type": "code",
   "execution_count": null,
   "id": "ea49821e",
   "metadata": {
    "execution": {
     "iopub.execute_input": "2021-08-11T23:42:52.896445Z",
     "iopub.status.busy": "2021-08-11T23:42:52.896018Z",
     "iopub.status.idle": "2021-08-11T23:42:52.909809Z",
     "shell.execute_reply": "2021-08-11T23:42:52.909041Z",
     "shell.execute_reply.started": "2021-08-11T23:42:52.896410Z"
    },
    "papermill": {
     "duration": null,
     "end_time": null,
     "exception": null,
     "start_time": null,
     "status": "pending"
    },
    "tags": []
   },
   "outputs": [],
   "source": [
    "# print the top few validation predictions\n",
    "print(val_predictions)\n",
    "# print the top few actual prices from validation data\n",
    "print('*'*50)\n",
    "print(val_y)"
   ]
  },
  {
   "cell_type": "markdown",
   "id": "c676f19c",
   "metadata": {
    "papermill": {
     "duration": null,
     "end_time": null,
     "exception": null,
     "start_time": null,
     "status": "pending"
    },
    "tags": []
   },
   "source": [
    "What do you notice that is different from what you saw with in-sample predictions (which are printed after the top code cell in this page).\n",
    "\n",
    "Do you remember why validation predictions differ from in-sample (or training) predictions? This is an important idea from the last lesson.\n",
    "\n",
    "## Step 4: Calculate the Mean Absolute Error in Validation Data\n"
   ]
  },
  {
   "cell_type": "code",
   "execution_count": null,
   "id": "bf8a9c7a",
   "metadata": {
    "execution": {
     "iopub.execute_input": "2021-08-11T23:43:40.972495Z",
     "iopub.status.busy": "2021-08-11T23:43:40.971978Z",
     "iopub.status.idle": "2021-08-11T23:43:40.981015Z",
     "shell.execute_reply": "2021-08-11T23:43:40.980131Z",
     "shell.execute_reply.started": "2021-08-11T23:43:40.972460Z"
    },
    "papermill": {
     "duration": null,
     "end_time": null,
     "exception": null,
     "start_time": null,
     "status": "pending"
    },
    "tags": []
   },
   "outputs": [],
   "source": [
    "from sklearn.metrics import mean_absolute_error\n",
    "val_mae = mean_absolute_error(val_predictions, val_y)\n",
    "\n",
    "# uncomment following line to see the validation_mae\n",
    "print(val_mae)\n",
    "\n",
    "# Check your answer\n",
    "step_4.check()"
   ]
  },
  {
   "cell_type": "code",
   "execution_count": null,
   "id": "28207d18",
   "metadata": {
    "execution": {
     "iopub.execute_input": "2021-08-11T23:43:46.843471Z",
     "iopub.status.busy": "2021-08-11T23:43:46.843100Z",
     "iopub.status.idle": "2021-08-11T23:43:46.851693Z",
     "shell.execute_reply": "2021-08-11T23:43:46.850515Z",
     "shell.execute_reply.started": "2021-08-11T23:43:46.843439Z"
    },
    "papermill": {
     "duration": null,
     "end_time": null,
     "exception": null,
     "start_time": null,
     "status": "pending"
    },
    "tags": []
   },
   "outputs": [],
   "source": [
    "step_4.hint()\n",
    "# step_4.solution()"
   ]
  },
  {
   "cell_type": "markdown",
   "id": "5a79b1e0",
   "metadata": {
    "papermill": {
     "duration": null,
     "end_time": null,
     "exception": null,
     "start_time": null,
     "status": "pending"
    },
    "tags": []
   },
   "source": [
    "Is that MAE good?  There isn't a general rule for what values are good that applies across applications. But you'll see how to use (and improve) this number in the next step.\n",
    "\n",
    "# Keep Going\n",
    "\n",
    "You are ready for **[Underfitting and Overfitting](https://www.kaggle.com/dansbecker/underfitting-and-overfitting).**\n"
   ]
  },
  {
   "cell_type": "markdown",
   "id": "7ce1e947",
   "metadata": {
    "papermill": {
     "duration": null,
     "end_time": null,
     "exception": null,
     "start_time": null,
     "status": "pending"
    },
    "tags": []
   },
   "source": [
    "---\n",
    "\n",
    "\n",
    "\n",
    "\n",
    "*Have questions or comments? Visit the [Learn Discussion forum](https://www.kaggle.com/learn-forum/161285) to chat with other Learners.*"
   ]
  }
 ],
 "metadata": {
  "kernelspec": {
   "display_name": "Python 3",
   "language": "python",
   "name": "python3"
  },
  "language_info": {
   "codemirror_mode": {
    "name": "ipython",
    "version": 3
   },
   "file_extension": ".py",
   "mimetype": "text/x-python",
   "name": "python",
   "nbconvert_exporter": "python",
   "pygments_lexer": "ipython3",
   "version": "3.7.10"
  },
  "papermill": {
   "default_parameters": {},
   "duration": 10.573144,
   "end_time": "2021-08-11T23:44:56.292389",
   "environment_variables": {},
   "exception": true,
   "input_path": "__notebook__.ipynb",
   "output_path": "__notebook__.ipynb",
   "parameters": {},
   "start_time": "2021-08-11T23:44:45.719245",
   "version": "2.3.3"
  }
 },
 "nbformat": 4,
 "nbformat_minor": 5
}

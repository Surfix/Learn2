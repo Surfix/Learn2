{
 "cells": [
  {
   "cell_type": "markdown",
   "id": "metric-access",
   "metadata": {},
   "source": [
    "## Introduction"
   ]
  },
  {
   "cell_type": "markdown",
   "id": "crazy-blocking",
   "metadata": {},
   "source": [
    "Data visualization is at the heart of data science! It is an essential task in data exploration and analysis. Making the proper visualization is vital to understand the data, uncover pattern and communicate insights. \n",
    "\n",
    "Mathplotlib is a popular and widely used python plotting library.  It is possibly the easiest way to plot data in python. It also provides some interative features such as zoom, pan and update. The functionality of matplotlib can also be extended with many third party packages such as Cartopy, Seaborn. Matplotlib is very powerful for creating aesthetics and publication quality plots but the figures are usually static.\n",
    "\n",
    "Plotly is a python library for interactive plotting. The significance of interactive data visualization is apparent when analyzing large datasets with numerous features. Another advantage of plotly over matplotlib is that aestheically pleaseing plots can be created with few lines of codes. With plotly, over 40 beautiful interactive web-based visualizations can be displayed in jupyter notebook or saved to HTML files.\n",
    "\n",
    "This notebook provides a code-base examples of how to create interactive plotting using plotly.  "
   ]
  },
  {
   "cell_type": "markdown",
   "id": "rubber-currency",
   "metadata": {},
   "source": [
    "## Dataset\n"
   ]
  },
  {
   "cell_type": "markdown",
   "id": "entitled-essence",
   "metadata": {},
   "source": [
    "We will be using the insitu snow depth data collected during the SnowEx 2020 Intensive Operation Period (IOP) in Grand Mesa, Colorado. Snow depth was measured using one of three instruments - Magnaprobe, Mesa 2, or pit ruler. Pit ruler data were collected from 150 snow pits identified for the Grand Mesa IOP. Check the [SnowEx20 Depth Probe Landing Page](https://nsidc.org/data/SNEX20_SD/versions/1) and the [User’s Guide](https://nsidc.org/sites/nsidc.org/files/SNEX20_SD-V001-UserGuide_1.pdf) for more info."
   ]
  },
  {
   "cell_type": "markdown",
   "id": "consolidated-witness",
   "metadata": {},
   "source": [
    "## Prep Data for Analysis"
   ]
  },
  {
   "cell_type": "code",
   "execution_count": 13,
   "id": "laden-blogger",
   "metadata": {},
   "outputs": [],
   "source": [
    "# import necessary packages\n",
    "\n",
    "import pandas as pd\n",
    "import plotly.express as px"
   ]
  },
  {
   "cell_type": "code",
   "execution_count": 26,
   "id": "fewer-secret",
   "metadata": {},
   "outputs": [],
   "source": [
    "# Read data\n",
    "\n",
    "snowDepth = pd.read_csv('SnowEx2020_SnowDepths_COGM_alldepths_v01.csv')"
   ]
  },
  {
   "cell_type": "markdown",
   "id": "protected-extent",
   "metadata": {},
   "source": [
    "The data has 37921 records of snow depth and 13 columns. Let's check the data types.\n"
   ]
  },
  {
   "cell_type": "code",
   "execution_count": 27,
   "id": "hungry-ivory",
   "metadata": {},
   "outputs": [
    {
     "data": {
      "text/html": [
       "<div>\n",
       "<style scoped>\n",
       "    .dataframe tbody tr th:only-of-type {\n",
       "        vertical-align: middle;\n",
       "    }\n",
       "\n",
       "    .dataframe tbody tr th {\n",
       "        vertical-align: top;\n",
       "    }\n",
       "\n",
       "    .dataframe thead th {\n",
       "        text-align: right;\n",
       "    }\n",
       "</style>\n",
       "<table border=\"1\" class=\"dataframe\">\n",
       "  <thead>\n",
       "    <tr style=\"text-align: right;\">\n",
       "      <th></th>\n",
       "      <th>Tool</th>\n",
       "      <th>ID</th>\n",
       "      <th>Date (yyyymmdd)</th>\n",
       "      <th>Time (hh:mm, local, MST)</th>\n",
       "      <th>PitID</th>\n",
       "      <th>Longitude</th>\n",
       "      <th>Latitude</th>\n",
       "      <th>Easting</th>\n",
       "      <th>Northing</th>\n",
       "      <th>Depth (cm)</th>\n",
       "      <th>elevation (m)</th>\n",
       "      <th>equipment</th>\n",
       "      <th>Version Number</th>\n",
       "    </tr>\n",
       "  </thead>\n",
       "  <tbody>\n",
       "    <tr>\n",
       "      <th>0</th>\n",
       "      <td>MP</td>\n",
       "      <td>100000</td>\n",
       "      <td>20200128</td>\n",
       "      <td>11:48</td>\n",
       "      <td>8N58</td>\n",
       "      <td>-108.13515</td>\n",
       "      <td>39.03045</td>\n",
       "      <td>747987.62</td>\n",
       "      <td>4324061.71</td>\n",
       "      <td>94</td>\n",
       "      <td>3148.200000</td>\n",
       "      <td>CRREL_B</td>\n",
       "      <td>1</td>\n",
       "    </tr>\n",
       "    <tr>\n",
       "      <th>1</th>\n",
       "      <td>MP</td>\n",
       "      <td>100001</td>\n",
       "      <td>20200128</td>\n",
       "      <td>11:48</td>\n",
       "      <td>8N58</td>\n",
       "      <td>-108.13516</td>\n",
       "      <td>39.03045</td>\n",
       "      <td>747986.75</td>\n",
       "      <td>4324061.68</td>\n",
       "      <td>74</td>\n",
       "      <td>3148.300000</td>\n",
       "      <td>CRREL_B</td>\n",
       "      <td>1</td>\n",
       "    </tr>\n",
       "    <tr>\n",
       "      <th>2</th>\n",
       "      <td>MP</td>\n",
       "      <td>100002</td>\n",
       "      <td>20200128</td>\n",
       "      <td>11:48</td>\n",
       "      <td>8N58</td>\n",
       "      <td>-108.13517</td>\n",
       "      <td>39.03045</td>\n",
       "      <td>747985.89</td>\n",
       "      <td>4324061.65</td>\n",
       "      <td>90</td>\n",
       "      <td>3148.200000</td>\n",
       "      <td>CRREL_B</td>\n",
       "      <td>1</td>\n",
       "    </tr>\n",
       "    <tr>\n",
       "      <th>3</th>\n",
       "      <td>MP</td>\n",
       "      <td>100003</td>\n",
       "      <td>20200128</td>\n",
       "      <td>11:48</td>\n",
       "      <td>8N58</td>\n",
       "      <td>-108.13519</td>\n",
       "      <td>39.03044</td>\n",
       "      <td>747984.19</td>\n",
       "      <td>4324060.49</td>\n",
       "      <td>87</td>\n",
       "      <td>3148.600000</td>\n",
       "      <td>CRREL_B</td>\n",
       "      <td>1</td>\n",
       "    </tr>\n",
       "    <tr>\n",
       "      <th>4</th>\n",
       "      <td>MP</td>\n",
       "      <td>100004</td>\n",
       "      <td>20200128</td>\n",
       "      <td>11:48</td>\n",
       "      <td>8N58</td>\n",
       "      <td>-108.13519</td>\n",
       "      <td>39.03042</td>\n",
       "      <td>747984.26</td>\n",
       "      <td>4324058.27</td>\n",
       "      <td>90</td>\n",
       "      <td>3150.100000</td>\n",
       "      <td>CRREL_B</td>\n",
       "      <td>1</td>\n",
       "    </tr>\n",
       "    <tr>\n",
       "      <th>...</th>\n",
       "      <td>...</td>\n",
       "      <td>...</td>\n",
       "      <td>...</td>\n",
       "      <td>...</td>\n",
       "      <td>...</td>\n",
       "      <td>...</td>\n",
       "      <td>...</td>\n",
       "      <td>...</td>\n",
       "      <td>...</td>\n",
       "      <td>...</td>\n",
       "      <td>...</td>\n",
       "      <td>...</td>\n",
       "      <td>...</td>\n",
       "    </tr>\n",
       "    <tr>\n",
       "      <th>37916</th>\n",
       "      <td>PR</td>\n",
       "      <td>300162</td>\n",
       "      <td>20200204</td>\n",
       "      <td>13:40</td>\n",
       "      <td>5S29</td>\n",
       "      <td>-108.16532</td>\n",
       "      <td>39.01801</td>\n",
       "      <td>745419.00</td>\n",
       "      <td>4322599.00</td>\n",
       "      <td>110</td>\n",
       "      <td>3094.260010</td>\n",
       "      <td>ruler</td>\n",
       "      <td>1</td>\n",
       "    </tr>\n",
       "    <tr>\n",
       "      <th>37917</th>\n",
       "      <td>PR</td>\n",
       "      <td>300163</td>\n",
       "      <td>20200129</td>\n",
       "      <td>14:00</td>\n",
       "      <td>6S19</td>\n",
       "      <td>-108.18073</td>\n",
       "      <td>39.01846</td>\n",
       "      <td>744083.00</td>\n",
       "      <td>4322607.00</td>\n",
       "      <td>139</td>\n",
       "      <td>3051.560059</td>\n",
       "      <td>ruler</td>\n",
       "      <td>1</td>\n",
       "    </tr>\n",
       "    <tr>\n",
       "      <th>37918</th>\n",
       "      <td>PR</td>\n",
       "      <td>300164</td>\n",
       "      <td>20200211</td>\n",
       "      <td>15:04</td>\n",
       "      <td>1N5</td>\n",
       "      <td>-108.21137</td>\n",
       "      <td>39.03618</td>\n",
       "      <td>741369.00</td>\n",
       "      <td>4324492.00</td>\n",
       "      <td>88</td>\n",
       "      <td>3031.800049</td>\n",
       "      <td>ruler</td>\n",
       "      <td>1</td>\n",
       "    </tr>\n",
       "    <tr>\n",
       "      <th>37919</th>\n",
       "      <td>PR</td>\n",
       "      <td>300165</td>\n",
       "      <td>20200201</td>\n",
       "      <td>8:40</td>\n",
       "      <td>2S37</td>\n",
       "      <td>-108.15929</td>\n",
       "      <td>39.01926</td>\n",
       "      <td>745936.51</td>\n",
       "      <td>4322753.96</td>\n",
       "      <td>104</td>\n",
       "      <td>3102.780029</td>\n",
       "      <td>ruler</td>\n",
       "      <td>1</td>\n",
       "    </tr>\n",
       "    <tr>\n",
       "      <th>37920</th>\n",
       "      <td>PR</td>\n",
       "      <td>300166</td>\n",
       "      <td>20200208</td>\n",
       "      <td>13:25</td>\n",
       "      <td>3N26</td>\n",
       "      <td>-108.18423</td>\n",
       "      <td>39.03341</td>\n",
       "      <td>743728.00</td>\n",
       "      <td>4324258.00</td>\n",
       "      <td>107</td>\n",
       "      <td>3066.909912</td>\n",
       "      <td>ruler</td>\n",
       "      <td>1</td>\n",
       "    </tr>\n",
       "  </tbody>\n",
       "</table>\n",
       "<p>37921 rows × 13 columns</p>\n",
       "</div>"
      ],
      "text/plain": [
       "      Tool      ID  Date (yyyymmdd) Time (hh:mm, local, MST) PitID  Longitude  \\\n",
       "0       MP  100000         20200128                    11:48  8N58 -108.13515   \n",
       "1       MP  100001         20200128                    11:48  8N58 -108.13516   \n",
       "2       MP  100002         20200128                    11:48  8N58 -108.13517   \n",
       "3       MP  100003         20200128                    11:48  8N58 -108.13519   \n",
       "4       MP  100004         20200128                    11:48  8N58 -108.13519   \n",
       "...    ...     ...              ...                      ...   ...        ...   \n",
       "37916   PR  300162         20200204                    13:40  5S29 -108.16532   \n",
       "37917   PR  300163         20200129                    14:00  6S19 -108.18073   \n",
       "37918   PR  300164         20200211                    15:04   1N5 -108.21137   \n",
       "37919   PR  300165         20200201                     8:40  2S37 -108.15929   \n",
       "37920   PR  300166         20200208                    13:25  3N26 -108.18423   \n",
       "\n",
       "       Latitude    Easting    Northing  Depth (cm)  elevation (m) equipment  \\\n",
       "0      39.03045  747987.62  4324061.71          94    3148.200000   CRREL_B   \n",
       "1      39.03045  747986.75  4324061.68          74    3148.300000   CRREL_B   \n",
       "2      39.03045  747985.89  4324061.65          90    3148.200000   CRREL_B   \n",
       "3      39.03044  747984.19  4324060.49          87    3148.600000   CRREL_B   \n",
       "4      39.03042  747984.26  4324058.27          90    3150.100000   CRREL_B   \n",
       "...         ...        ...         ...         ...            ...       ...   \n",
       "37916  39.01801  745419.00  4322599.00         110    3094.260010     ruler   \n",
       "37917  39.01846  744083.00  4322607.00         139    3051.560059     ruler   \n",
       "37918  39.03618  741369.00  4324492.00          88    3031.800049     ruler   \n",
       "37919  39.01926  745936.51  4322753.96         104    3102.780029     ruler   \n",
       "37920  39.03341  743728.00  4324258.00         107    3066.909912     ruler   \n",
       "\n",
       "       Version Number  \n",
       "0                   1  \n",
       "1                   1  \n",
       "2                   1  \n",
       "3                   1  \n",
       "4                   1  \n",
       "...               ...  \n",
       "37916               1  \n",
       "37917               1  \n",
       "37918               1  \n",
       "37919               1  \n",
       "37920               1  \n",
       "\n",
       "[37921 rows x 13 columns]"
      ]
     },
     "execution_count": 27,
     "metadata": {},
     "output_type": "execute_result"
    }
   ],
   "source": [
    "# rename some columns\n",
    "snowDepth.rename(columns= {'Measurement Tool (MP = Magnaprobe; M2 = Mesa 2; PR = Pit Ruler)': 'Tool'}, inplace = True)\n",
    "snowDepth"
   ]
  },
  {
   "cell_type": "code",
   "execution_count": 28,
   "id": "suspended-shaft",
   "metadata": {},
   "outputs": [
    {
     "name": "stdout",
     "output_type": "stream",
     "text": [
      "<class 'pandas.core.frame.DataFrame'>\n",
      "RangeIndex: 37921 entries, 0 to 37920\n",
      "Data columns (total 13 columns):\n",
      " #   Column                    Non-Null Count  Dtype  \n",
      "---  ------                    --------------  -----  \n",
      " 0   Tool                      37921 non-null  object \n",
      " 1   ID                        37921 non-null  int64  \n",
      " 2   Date (yyyymmdd)           37921 non-null  int64  \n",
      " 3   Time (hh:mm, local, MST)  37921 non-null  object \n",
      " 4   PitID                     37921 non-null  object \n",
      " 5   Longitude                 37921 non-null  float64\n",
      " 6   Latitude                  37921 non-null  float64\n",
      " 7   Easting                   37921 non-null  float64\n",
      " 8   Northing                  37921 non-null  float64\n",
      " 9   Depth (cm)                37921 non-null  int64  \n",
      " 10  elevation (m)             37921 non-null  float64\n",
      " 11  equipment                 37921 non-null  object \n",
      " 12  Version Number            37921 non-null  int64  \n",
      "dtypes: float64(5), int64(4), object(4)\n",
      "memory usage: 3.8+ MB\n"
     ]
    }
   ],
   "source": [
    "snowDepth.info()"
   ]
  },
  {
   "cell_type": "markdown",
   "id": "arabic-holiday",
   "metadata": {},
   "source": [
    "The snow depth data measurement of 150 snow pits measured with pit ruler. The other two mearement tool were used to collect snow depth along spiral tracks moving outwards from snow pit location. Let's check the number of records for each tools."
   ]
  },
  {
   "cell_type": "code",
   "execution_count": null,
   "id": "right-territory",
   "metadata": {},
   "outputs": [],
   "source": []
  },
  {
   "cell_type": "code",
   "execution_count": null,
   "id": "sunrise-cycling",
   "metadata": {},
   "outputs": [],
   "source": [
    "# Select records associated with a Pit ruler\n",
    "pit_ruler_depth = SnowDepth[SnowDepth['Measurement Tool'] == 'PR']"
   ]
  },
  {
   "cell_type": "markdown",
   "id": "dress-workshop",
   "metadata": {},
   "source": [
    "## Line Plots"
   ]
  },
  {
   "cell_type": "markdown",
   "id": "prescribed-nashville",
   "metadata": {},
   "source": [
    "## Scatter Plots"
   ]
  },
  {
   "cell_type": "markdown",
   "id": "waiting-property",
   "metadata": {},
   "source": [
    "## Pie Charts"
   ]
  },
  {
   "cell_type": "markdown",
   "id": "japanese-segment",
   "metadata": {},
   "source": [
    "## Colormaps"
   ]
  },
  {
   "cell_type": "markdown",
   "id": "built-pharmacy",
   "metadata": {},
   "source": [
    "## Histograms"
   ]
  },
  {
   "cell_type": "markdown",
   "id": "elegant-tyler",
   "metadata": {},
   "source": [
    "## Boxplots"
   ]
  },
  {
   "cell_type": "markdown",
   "id": "protected-poison",
   "metadata": {},
   "source": [
    "## Violin Plots"
   ]
  },
  {
   "cell_type": "markdown",
   "id": "photographic-dining",
   "metadata": {},
   "source": [
    "## Density Heatmap"
   ]
  },
  {
   "cell_type": "markdown",
   "id": "reliable-classification",
   "metadata": {},
   "source": [
    "## 3D Scatter Plots"
   ]
  },
  {
   "cell_type": "markdown",
   "id": "requested-workplace",
   "metadata": {},
   "source": [
    "## 3D Line Plots"
   ]
  },
  {
   "cell_type": "markdown",
   "id": "comparative-martial",
   "metadata": {},
   "source": [
    "## Scatter Matrix"
   ]
  },
  {
   "cell_type": "markdown",
   "id": "clinical-alignment",
   "metadata": {},
   "source": [
    "## Map Scatter Plot"
   ]
  },
  {
   "cell_type": "markdown",
   "id": "specific-prototype",
   "metadata": {},
   "source": [
    "## Chloropleth Maps"
   ]
  },
  {
   "cell_type": "markdown",
   "id": "simple-movement",
   "metadata": {},
   "source": [
    "## Polar Chart"
   ]
  },
  {
   "cell_type": "markdown",
   "id": "novel-arthritis",
   "metadata": {},
   "source": [
    "## Ternary Plot"
   ]
  },
  {
   "cell_type": "markdown",
   "id": "designing-testimony",
   "metadata": {},
   "source": [
    "## Facets"
   ]
  },
  {
   "cell_type": "markdown",
   "id": "critical-refund",
   "metadata": {},
   "source": [
    "## Animated Plots"
   ]
  },
  {
   "cell_type": "code",
   "execution_count": null,
   "id": "prospective-zoning",
   "metadata": {},
   "outputs": [],
   "source": []
  }
 ],
 "metadata": {
  "kernelspec": {
   "display_name": "Python 3",
   "language": "python",
   "name": "python3"
  },
  "language_info": {
   "codemirror_mode": {
    "name": "ipython",
    "version": 3
   },
   "file_extension": ".py",
   "mimetype": "text/x-python",
   "name": "python",
   "nbconvert_exporter": "python",
   "pygments_lexer": "ipython3",
   "version": "3.8.8"
  },
  "toc": {
   "base_numbering": 1,
   "nav_menu": {},
   "number_sections": true,
   "sideBar": true,
   "skip_h1_title": false,
   "title_cell": "Table of Contents",
   "title_sidebar": "Contents",
   "toc_cell": false,
   "toc_position": {},
   "toc_section_display": true,
   "toc_window_display": false
  }
 },
 "nbformat": 4,
 "nbformat_minor": 5
}

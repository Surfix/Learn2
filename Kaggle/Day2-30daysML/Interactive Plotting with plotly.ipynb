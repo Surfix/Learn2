{
 "cells": [
  {
   "cell_type": "markdown",
   "id": "fitting-subsection",
   "metadata": {},
   "source": [
    "## Introduction"
   ]
  },
  {
   "cell_type": "markdown",
   "id": "impressive-handling",
   "metadata": {},
   "source": [
    "Data visualization is at the heart of data science! It is an essential task in data exploration and analysis. Making the proper visualization is vital to understand the data, uncover pattern and communicate insights. \n",
    "\n",
    "Mathplotlib is a popular and widely used python plotting library.  It is possibly the easiest way to plot data in python. It also provides some interative features such as zoom, pan and update. The functionality of matplotlib can also be extended with many third party packages such as Cartopy, Seaborn. Matplotlib is very powerful for creating aesthetics and publication quality plots but the figures are usually static.\n",
    "\n",
    "Plotly is a python library for interactive plotting. The significance of interactive data visualization is apparent when analyzing large datasets with numerous features. Another advantage of plotly over matplotlib is that aestheically pleaseing plots can be created with few lines of codes. With plotly, over 40 beautiful interactive web-based visualizations can be displayed in jupyter notebook or saved to HTML files.\n",
    "\n",
    "This notebook provides a code-base examples of how to create interactive plotting using plotly.  \n",
    "\n",
    "The image below describes some fundamental types of plots for data visualization\n",
    "\n",
    "![](https://i.redd.it/mkbu3ujj91y21.jpg)\n"
   ]
  },
  {
   "cell_type": "markdown",
   "id": "guided-caution",
   "metadata": {},
   "source": [
    "## Dataset\n"
   ]
  },
  {
   "cell_type": "markdown",
   "id": "ideal-wildlife",
   "metadata": {},
   "source": [
    "We will be using the insitu snow depth data collected during the SnowEx 2020 Intensive Operation Period (IOP) in Grand Mesa, Colorado. Snow depth was measured using one of three instruments - Magnaprobe, Mesa 2, or pit ruler. Pit ruler data were collected from 150 snow pits identified for the Grand Mesa IOP. Check the [SnowEx20 Depth Probe Landing Page](https://nsidc.org/data/SNEX20_SD/versions/1) and the [User’s Guide](https://nsidc.org/sites/nsidc.org/files/SNEX20_SD-V001-UserGuide_1.pdf) for more info."
   ]
  },
  {
   "cell_type": "markdown",
   "id": "leading-knife",
   "metadata": {},
   "source": [
    "## Prep Data for Analysis"
   ]
  },
  {
   "cell_type": "code",
   "execution_count": 42,
   "id": "adaptive-leone",
   "metadata": {},
   "outputs": [],
   "source": [
    "# import necessary packages\n",
    "\n",
    "import matplotlib.pyplot as plt\n",
    "import pandas as pd\n",
    "import plotly.express as px\n"
   ]
  },
  {
   "cell_type": "code",
   "execution_count": 31,
   "id": "exposed-membrane",
   "metadata": {},
   "outputs": [],
   "source": [
    "# Read data\n",
    "\n",
    "snowDepth = pd.read_csv('SnowEx2020_SnowDepths_COGM_alldepths_v01.csv', parse_dates= {'Datetime': [2,3]})"
   ]
  },
  {
   "cell_type": "markdown",
   "id": "growing-monroe",
   "metadata": {},
   "source": [
    "The data has 37921 records of snow depth and 13 columns. Let's check the data types.\n"
   ]
  },
  {
   "cell_type": "code",
   "execution_count": 32,
   "id": "discrete-mongolia",
   "metadata": {},
   "outputs": [
    {
     "data": {
      "text/html": [
       "<div>\n",
       "<style scoped>\n",
       "    .dataframe tbody tr th:only-of-type {\n",
       "        vertical-align: middle;\n",
       "    }\n",
       "\n",
       "    .dataframe tbody tr th {\n",
       "        vertical-align: top;\n",
       "    }\n",
       "\n",
       "    .dataframe thead th {\n",
       "        text-align: right;\n",
       "    }\n",
       "</style>\n",
       "<table border=\"1\" class=\"dataframe\">\n",
       "  <thead>\n",
       "    <tr style=\"text-align: right;\">\n",
       "      <th></th>\n",
       "      <th>Datetime</th>\n",
       "      <th>Tool</th>\n",
       "      <th>ID</th>\n",
       "      <th>PitID</th>\n",
       "      <th>Longitude</th>\n",
       "      <th>Latitude</th>\n",
       "      <th>Easting</th>\n",
       "      <th>Northing</th>\n",
       "      <th>Depth (cm)</th>\n",
       "      <th>elevation (m)</th>\n",
       "      <th>equipment</th>\n",
       "      <th>Version Number</th>\n",
       "    </tr>\n",
       "  </thead>\n",
       "  <tbody>\n",
       "    <tr>\n",
       "      <th>0</th>\n",
       "      <td>2020-01-28 11:48:00</td>\n",
       "      <td>MP</td>\n",
       "      <td>100000</td>\n",
       "      <td>8N58</td>\n",
       "      <td>-108.13515</td>\n",
       "      <td>39.03045</td>\n",
       "      <td>747987.62</td>\n",
       "      <td>4324061.71</td>\n",
       "      <td>94</td>\n",
       "      <td>3148.200000</td>\n",
       "      <td>CRREL_B</td>\n",
       "      <td>1</td>\n",
       "    </tr>\n",
       "    <tr>\n",
       "      <th>1</th>\n",
       "      <td>2020-01-28 11:48:00</td>\n",
       "      <td>MP</td>\n",
       "      <td>100001</td>\n",
       "      <td>8N58</td>\n",
       "      <td>-108.13516</td>\n",
       "      <td>39.03045</td>\n",
       "      <td>747986.75</td>\n",
       "      <td>4324061.68</td>\n",
       "      <td>74</td>\n",
       "      <td>3148.300000</td>\n",
       "      <td>CRREL_B</td>\n",
       "      <td>1</td>\n",
       "    </tr>\n",
       "    <tr>\n",
       "      <th>2</th>\n",
       "      <td>2020-01-28 11:48:00</td>\n",
       "      <td>MP</td>\n",
       "      <td>100002</td>\n",
       "      <td>8N58</td>\n",
       "      <td>-108.13517</td>\n",
       "      <td>39.03045</td>\n",
       "      <td>747985.89</td>\n",
       "      <td>4324061.65</td>\n",
       "      <td>90</td>\n",
       "      <td>3148.200000</td>\n",
       "      <td>CRREL_B</td>\n",
       "      <td>1</td>\n",
       "    </tr>\n",
       "    <tr>\n",
       "      <th>3</th>\n",
       "      <td>2020-01-28 11:48:00</td>\n",
       "      <td>MP</td>\n",
       "      <td>100003</td>\n",
       "      <td>8N58</td>\n",
       "      <td>-108.13519</td>\n",
       "      <td>39.03044</td>\n",
       "      <td>747984.19</td>\n",
       "      <td>4324060.49</td>\n",
       "      <td>87</td>\n",
       "      <td>3148.600000</td>\n",
       "      <td>CRREL_B</td>\n",
       "      <td>1</td>\n",
       "    </tr>\n",
       "    <tr>\n",
       "      <th>4</th>\n",
       "      <td>2020-01-28 11:48:00</td>\n",
       "      <td>MP</td>\n",
       "      <td>100004</td>\n",
       "      <td>8N58</td>\n",
       "      <td>-108.13519</td>\n",
       "      <td>39.03042</td>\n",
       "      <td>747984.26</td>\n",
       "      <td>4324058.27</td>\n",
       "      <td>90</td>\n",
       "      <td>3150.100000</td>\n",
       "      <td>CRREL_B</td>\n",
       "      <td>1</td>\n",
       "    </tr>\n",
       "    <tr>\n",
       "      <th>...</th>\n",
       "      <td>...</td>\n",
       "      <td>...</td>\n",
       "      <td>...</td>\n",
       "      <td>...</td>\n",
       "      <td>...</td>\n",
       "      <td>...</td>\n",
       "      <td>...</td>\n",
       "      <td>...</td>\n",
       "      <td>...</td>\n",
       "      <td>...</td>\n",
       "      <td>...</td>\n",
       "      <td>...</td>\n",
       "    </tr>\n",
       "    <tr>\n",
       "      <th>37916</th>\n",
       "      <td>2020-02-04 13:40:00</td>\n",
       "      <td>PR</td>\n",
       "      <td>300162</td>\n",
       "      <td>5S29</td>\n",
       "      <td>-108.16532</td>\n",
       "      <td>39.01801</td>\n",
       "      <td>745419.00</td>\n",
       "      <td>4322599.00</td>\n",
       "      <td>110</td>\n",
       "      <td>3094.260010</td>\n",
       "      <td>ruler</td>\n",
       "      <td>1</td>\n",
       "    </tr>\n",
       "    <tr>\n",
       "      <th>37917</th>\n",
       "      <td>2020-01-29 14:00:00</td>\n",
       "      <td>PR</td>\n",
       "      <td>300163</td>\n",
       "      <td>6S19</td>\n",
       "      <td>-108.18073</td>\n",
       "      <td>39.01846</td>\n",
       "      <td>744083.00</td>\n",
       "      <td>4322607.00</td>\n",
       "      <td>139</td>\n",
       "      <td>3051.560059</td>\n",
       "      <td>ruler</td>\n",
       "      <td>1</td>\n",
       "    </tr>\n",
       "    <tr>\n",
       "      <th>37918</th>\n",
       "      <td>2020-02-11 15:04:00</td>\n",
       "      <td>PR</td>\n",
       "      <td>300164</td>\n",
       "      <td>1N5</td>\n",
       "      <td>-108.21137</td>\n",
       "      <td>39.03618</td>\n",
       "      <td>741369.00</td>\n",
       "      <td>4324492.00</td>\n",
       "      <td>88</td>\n",
       "      <td>3031.800049</td>\n",
       "      <td>ruler</td>\n",
       "      <td>1</td>\n",
       "    </tr>\n",
       "    <tr>\n",
       "      <th>37919</th>\n",
       "      <td>2020-02-01 08:40:00</td>\n",
       "      <td>PR</td>\n",
       "      <td>300165</td>\n",
       "      <td>2S37</td>\n",
       "      <td>-108.15929</td>\n",
       "      <td>39.01926</td>\n",
       "      <td>745936.51</td>\n",
       "      <td>4322753.96</td>\n",
       "      <td>104</td>\n",
       "      <td>3102.780029</td>\n",
       "      <td>ruler</td>\n",
       "      <td>1</td>\n",
       "    </tr>\n",
       "    <tr>\n",
       "      <th>37920</th>\n",
       "      <td>2020-02-08 13:25:00</td>\n",
       "      <td>PR</td>\n",
       "      <td>300166</td>\n",
       "      <td>3N26</td>\n",
       "      <td>-108.18423</td>\n",
       "      <td>39.03341</td>\n",
       "      <td>743728.00</td>\n",
       "      <td>4324258.00</td>\n",
       "      <td>107</td>\n",
       "      <td>3066.909912</td>\n",
       "      <td>ruler</td>\n",
       "      <td>1</td>\n",
       "    </tr>\n",
       "  </tbody>\n",
       "</table>\n",
       "<p>37921 rows × 12 columns</p>\n",
       "</div>"
      ],
      "text/plain": [
       "                 Datetime Tool      ID PitID  Longitude  Latitude    Easting  \\\n",
       "0     2020-01-28 11:48:00   MP  100000  8N58 -108.13515  39.03045  747987.62   \n",
       "1     2020-01-28 11:48:00   MP  100001  8N58 -108.13516  39.03045  747986.75   \n",
       "2     2020-01-28 11:48:00   MP  100002  8N58 -108.13517  39.03045  747985.89   \n",
       "3     2020-01-28 11:48:00   MP  100003  8N58 -108.13519  39.03044  747984.19   \n",
       "4     2020-01-28 11:48:00   MP  100004  8N58 -108.13519  39.03042  747984.26   \n",
       "...                   ...  ...     ...   ...        ...       ...        ...   \n",
       "37916 2020-02-04 13:40:00   PR  300162  5S29 -108.16532  39.01801  745419.00   \n",
       "37917 2020-01-29 14:00:00   PR  300163  6S19 -108.18073  39.01846  744083.00   \n",
       "37918 2020-02-11 15:04:00   PR  300164   1N5 -108.21137  39.03618  741369.00   \n",
       "37919 2020-02-01 08:40:00   PR  300165  2S37 -108.15929  39.01926  745936.51   \n",
       "37920 2020-02-08 13:25:00   PR  300166  3N26 -108.18423  39.03341  743728.00   \n",
       "\n",
       "         Northing  Depth (cm)  elevation (m) equipment  Version Number  \n",
       "0      4324061.71          94    3148.200000   CRREL_B               1  \n",
       "1      4324061.68          74    3148.300000   CRREL_B               1  \n",
       "2      4324061.65          90    3148.200000   CRREL_B               1  \n",
       "3      4324060.49          87    3148.600000   CRREL_B               1  \n",
       "4      4324058.27          90    3150.100000   CRREL_B               1  \n",
       "...           ...         ...            ...       ...             ...  \n",
       "37916  4322599.00         110    3094.260010     ruler               1  \n",
       "37917  4322607.00         139    3051.560059     ruler               1  \n",
       "37918  4324492.00          88    3031.800049     ruler               1  \n",
       "37919  4322753.96         104    3102.780029     ruler               1  \n",
       "37920  4324258.00         107    3066.909912     ruler               1  \n",
       "\n",
       "[37921 rows x 12 columns]"
      ]
     },
     "execution_count": 32,
     "metadata": {},
     "output_type": "execute_result"
    }
   ],
   "source": [
    "# rename some columns\n",
    "snowDepth.rename(columns= {'Measurement Tool (MP = Magnaprobe; M2 = Mesa 2; PR = Pit Ruler)': 'Tool'}, inplace = True)\n",
    "snowDepth"
   ]
  },
  {
   "cell_type": "code",
   "execution_count": 33,
   "id": "enclosed-forest",
   "metadata": {},
   "outputs": [
    {
     "name": "stdout",
     "output_type": "stream",
     "text": [
      "<class 'pandas.core.frame.DataFrame'>\n",
      "RangeIndex: 37921 entries, 0 to 37920\n",
      "Data columns (total 12 columns):\n",
      " #   Column          Non-Null Count  Dtype         \n",
      "---  ------          --------------  -----         \n",
      " 0   Datetime        37921 non-null  datetime64[ns]\n",
      " 1   Tool            37921 non-null  object        \n",
      " 2   ID              37921 non-null  int64         \n",
      " 3   PitID           37921 non-null  object        \n",
      " 4   Longitude       37921 non-null  float64       \n",
      " 5   Latitude        37921 non-null  float64       \n",
      " 6   Easting         37921 non-null  float64       \n",
      " 7   Northing        37921 non-null  float64       \n",
      " 8   Depth (cm)      37921 non-null  int64         \n",
      " 9   elevation (m)   37921 non-null  float64       \n",
      " 10  equipment       37921 non-null  object        \n",
      " 11  Version Number  37921 non-null  int64         \n",
      "dtypes: datetime64[ns](1), float64(5), int64(3), object(3)\n",
      "memory usage: 3.5+ MB\n"
     ]
    }
   ],
   "source": [
    "snowDepth.info()"
   ]
  },
  {
   "cell_type": "code",
   "execution_count": 35,
   "id": "asian-catch",
   "metadata": {},
   "outputs": [
    {
     "data": {
      "text/html": [
       "<div>\n",
       "<style scoped>\n",
       "    .dataframe tbody tr th:only-of-type {\n",
       "        vertical-align: middle;\n",
       "    }\n",
       "\n",
       "    .dataframe tbody tr th {\n",
       "        vertical-align: top;\n",
       "    }\n",
       "\n",
       "    .dataframe thead th {\n",
       "        text-align: right;\n",
       "    }\n",
       "</style>\n",
       "<table border=\"1\" class=\"dataframe\">\n",
       "  <thead>\n",
       "    <tr style=\"text-align: right;\">\n",
       "      <th></th>\n",
       "      <th>Datetime</th>\n",
       "      <th>Tool</th>\n",
       "      <th>ID</th>\n",
       "      <th>PitID</th>\n",
       "      <th>Longitude</th>\n",
       "      <th>Latitude</th>\n",
       "      <th>Easting</th>\n",
       "      <th>Northing</th>\n",
       "      <th>Depth (cm)</th>\n",
       "      <th>elevation (m)</th>\n",
       "      <th>equipment</th>\n",
       "      <th>Version Number</th>\n",
       "    </tr>\n",
       "  </thead>\n",
       "  <tbody>\n",
       "    <tr>\n",
       "      <th>0</th>\n",
       "      <td>2020-01-28 11:48:00</td>\n",
       "      <td>MP</td>\n",
       "      <td>100000</td>\n",
       "      <td>8N58</td>\n",
       "      <td>-108.13515</td>\n",
       "      <td>39.03045</td>\n",
       "      <td>747987.62</td>\n",
       "      <td>4324061.71</td>\n",
       "      <td>94</td>\n",
       "      <td>3148.200000</td>\n",
       "      <td>CRREL_B</td>\n",
       "      <td>1</td>\n",
       "    </tr>\n",
       "    <tr>\n",
       "      <th>1</th>\n",
       "      <td>2020-01-28 11:48:00</td>\n",
       "      <td>MP</td>\n",
       "      <td>100001</td>\n",
       "      <td>8N58</td>\n",
       "      <td>-108.13516</td>\n",
       "      <td>39.03045</td>\n",
       "      <td>747986.75</td>\n",
       "      <td>4324061.68</td>\n",
       "      <td>74</td>\n",
       "      <td>3148.300000</td>\n",
       "      <td>CRREL_B</td>\n",
       "      <td>1</td>\n",
       "    </tr>\n",
       "    <tr>\n",
       "      <th>2</th>\n",
       "      <td>2020-01-28 11:48:00</td>\n",
       "      <td>MP</td>\n",
       "      <td>100002</td>\n",
       "      <td>8N58</td>\n",
       "      <td>-108.13517</td>\n",
       "      <td>39.03045</td>\n",
       "      <td>747985.89</td>\n",
       "      <td>4324061.65</td>\n",
       "      <td>90</td>\n",
       "      <td>3148.200000</td>\n",
       "      <td>CRREL_B</td>\n",
       "      <td>1</td>\n",
       "    </tr>\n",
       "    <tr>\n",
       "      <th>3</th>\n",
       "      <td>2020-01-28 11:48:00</td>\n",
       "      <td>MP</td>\n",
       "      <td>100003</td>\n",
       "      <td>8N58</td>\n",
       "      <td>-108.13519</td>\n",
       "      <td>39.03044</td>\n",
       "      <td>747984.19</td>\n",
       "      <td>4324060.49</td>\n",
       "      <td>87</td>\n",
       "      <td>3148.600000</td>\n",
       "      <td>CRREL_B</td>\n",
       "      <td>1</td>\n",
       "    </tr>\n",
       "    <tr>\n",
       "      <th>4</th>\n",
       "      <td>2020-01-28 11:48:00</td>\n",
       "      <td>MP</td>\n",
       "      <td>100004</td>\n",
       "      <td>8N58</td>\n",
       "      <td>-108.13519</td>\n",
       "      <td>39.03042</td>\n",
       "      <td>747984.26</td>\n",
       "      <td>4324058.27</td>\n",
       "      <td>90</td>\n",
       "      <td>3150.100000</td>\n",
       "      <td>CRREL_B</td>\n",
       "      <td>1</td>\n",
       "    </tr>\n",
       "    <tr>\n",
       "      <th>...</th>\n",
       "      <td>...</td>\n",
       "      <td>...</td>\n",
       "      <td>...</td>\n",
       "      <td>...</td>\n",
       "      <td>...</td>\n",
       "      <td>...</td>\n",
       "      <td>...</td>\n",
       "      <td>...</td>\n",
       "      <td>...</td>\n",
       "      <td>...</td>\n",
       "      <td>...</td>\n",
       "      <td>...</td>\n",
       "    </tr>\n",
       "    <tr>\n",
       "      <th>37916</th>\n",
       "      <td>2020-02-04 13:40:00</td>\n",
       "      <td>PR</td>\n",
       "      <td>300162</td>\n",
       "      <td>5S29</td>\n",
       "      <td>-108.16532</td>\n",
       "      <td>39.01801</td>\n",
       "      <td>745419.00</td>\n",
       "      <td>4322599.00</td>\n",
       "      <td>110</td>\n",
       "      <td>3094.260010</td>\n",
       "      <td>ruler</td>\n",
       "      <td>1</td>\n",
       "    </tr>\n",
       "    <tr>\n",
       "      <th>37917</th>\n",
       "      <td>2020-01-29 14:00:00</td>\n",
       "      <td>PR</td>\n",
       "      <td>300163</td>\n",
       "      <td>6S19</td>\n",
       "      <td>-108.18073</td>\n",
       "      <td>39.01846</td>\n",
       "      <td>744083.00</td>\n",
       "      <td>4322607.00</td>\n",
       "      <td>139</td>\n",
       "      <td>3051.560059</td>\n",
       "      <td>ruler</td>\n",
       "      <td>1</td>\n",
       "    </tr>\n",
       "    <tr>\n",
       "      <th>37918</th>\n",
       "      <td>2020-02-11 15:04:00</td>\n",
       "      <td>PR</td>\n",
       "      <td>300164</td>\n",
       "      <td>1N5</td>\n",
       "      <td>-108.21137</td>\n",
       "      <td>39.03618</td>\n",
       "      <td>741369.00</td>\n",
       "      <td>4324492.00</td>\n",
       "      <td>88</td>\n",
       "      <td>3031.800049</td>\n",
       "      <td>ruler</td>\n",
       "      <td>1</td>\n",
       "    </tr>\n",
       "    <tr>\n",
       "      <th>37919</th>\n",
       "      <td>2020-02-01 08:40:00</td>\n",
       "      <td>PR</td>\n",
       "      <td>300165</td>\n",
       "      <td>2S37</td>\n",
       "      <td>-108.15929</td>\n",
       "      <td>39.01926</td>\n",
       "      <td>745936.51</td>\n",
       "      <td>4322753.96</td>\n",
       "      <td>104</td>\n",
       "      <td>3102.780029</td>\n",
       "      <td>ruler</td>\n",
       "      <td>1</td>\n",
       "    </tr>\n",
       "    <tr>\n",
       "      <th>37920</th>\n",
       "      <td>2020-02-08 13:25:00</td>\n",
       "      <td>PR</td>\n",
       "      <td>300166</td>\n",
       "      <td>3N26</td>\n",
       "      <td>-108.18423</td>\n",
       "      <td>39.03341</td>\n",
       "      <td>743728.00</td>\n",
       "      <td>4324258.00</td>\n",
       "      <td>107</td>\n",
       "      <td>3066.909912</td>\n",
       "      <td>ruler</td>\n",
       "      <td>1</td>\n",
       "    </tr>\n",
       "  </tbody>\n",
       "</table>\n",
       "<p>36388 rows × 12 columns</p>\n",
       "</div>"
      ],
      "text/plain": [
       "                 Datetime Tool      ID PitID  Longitude  Latitude    Easting  \\\n",
       "0     2020-01-28 11:48:00   MP  100000  8N58 -108.13515  39.03045  747987.62   \n",
       "1     2020-01-28 11:48:00   MP  100001  8N58 -108.13516  39.03045  747986.75   \n",
       "2     2020-01-28 11:48:00   MP  100002  8N58 -108.13517  39.03045  747985.89   \n",
       "3     2020-01-28 11:48:00   MP  100003  8N58 -108.13519  39.03044  747984.19   \n",
       "4     2020-01-28 11:48:00   MP  100004  8N58 -108.13519  39.03042  747984.26   \n",
       "...                   ...  ...     ...   ...        ...       ...        ...   \n",
       "37916 2020-02-04 13:40:00   PR  300162  5S29 -108.16532  39.01801  745419.00   \n",
       "37917 2020-01-29 14:00:00   PR  300163  6S19 -108.18073  39.01846  744083.00   \n",
       "37918 2020-02-11 15:04:00   PR  300164   1N5 -108.21137  39.03618  741369.00   \n",
       "37919 2020-02-01 08:40:00   PR  300165  2S37 -108.15929  39.01926  745936.51   \n",
       "37920 2020-02-08 13:25:00   PR  300166  3N26 -108.18423  39.03341  743728.00   \n",
       "\n",
       "         Northing  Depth (cm)  elevation (m) equipment  Version Number  \n",
       "0      4324061.71          94    3148.200000   CRREL_B               1  \n",
       "1      4324061.68          74    3148.300000   CRREL_B               1  \n",
       "2      4324061.65          90    3148.200000   CRREL_B               1  \n",
       "3      4324060.49          87    3148.600000   CRREL_B               1  \n",
       "4      4324058.27          90    3150.100000   CRREL_B               1  \n",
       "...           ...         ...            ...       ...             ...  \n",
       "37916  4322599.00         110    3094.260010     ruler               1  \n",
       "37917  4322607.00         139    3051.560059     ruler               1  \n",
       "37918  4324492.00          88    3031.800049     ruler               1  \n",
       "37919  4322753.96         104    3102.780029     ruler               1  \n",
       "37920  4324258.00         107    3066.909912     ruler               1  \n",
       "\n",
       "[36388 rows x 12 columns]"
      ]
     },
     "execution_count": 35,
     "metadata": {},
     "output_type": "execute_result"
    }
   ],
   "source": [
    "# Select records within the the period of GM IOP campaign\n",
    "GMP_SnowDepth = snowDepth[(snowDepth['Datetime']>='1/28/2020') & (snowDepth['Datetime'] <='2/12/2020')]\n",
    "GMP_SnowDepth"
   ]
  },
  {
   "cell_type": "markdown",
   "id": "selective-satellite",
   "metadata": {},
   "source": [
    "The snow depth data measurement of 150 snow pits measured with pit ruler. The other two mearement tool were used to collect snow depth along spiral tracks moving outwards from snow pit location. Let's check the number of records for each tools."
   ]
  },
  {
   "cell_type": "code",
   "execution_count": 36,
   "id": "spectacular-fitness",
   "metadata": {},
   "outputs": [
    {
     "data": {
      "text/plain": [
       "MP    31850\n",
       "M2     4390\n",
       "PR      148\n",
       "Name: Tool, dtype: int64"
      ]
     },
     "execution_count": 36,
     "metadata": {},
     "output_type": "execute_result"
    }
   ],
   "source": [
    "GMP_SnowDepth.Tool.value_counts()"
   ]
  },
  {
   "cell_type": "markdown",
   "id": "mature-chain",
   "metadata": {},
   "source": [
    "It appears there are 148 snow pits not 150. well, nsidc platforms says there are 150.  Let's select the Pit Ruler (PR) records"
   ]
  },
  {
   "cell_type": "code",
   "execution_count": 41,
   "id": "extended-purpose",
   "metadata": {},
   "outputs": [
    {
     "data": {
      "text/html": [
       "<div>\n",
       "<style scoped>\n",
       "    .dataframe tbody tr th:only-of-type {\n",
       "        vertical-align: middle;\n",
       "    }\n",
       "\n",
       "    .dataframe tbody tr th {\n",
       "        vertical-align: top;\n",
       "    }\n",
       "\n",
       "    .dataframe thead th {\n",
       "        text-align: right;\n",
       "    }\n",
       "</style>\n",
       "<table border=\"1\" class=\"dataframe\">\n",
       "  <thead>\n",
       "    <tr style=\"text-align: right;\">\n",
       "      <th></th>\n",
       "      <th>Datetime</th>\n",
       "      <th>Tool</th>\n",
       "      <th>ID</th>\n",
       "      <th>PitID</th>\n",
       "      <th>Longitude</th>\n",
       "      <th>Latitude</th>\n",
       "      <th>Easting</th>\n",
       "      <th>Northing</th>\n",
       "      <th>Depth (cm)</th>\n",
       "      <th>elevation (m)</th>\n",
       "      <th>equipment</th>\n",
       "      <th>Version Number</th>\n",
       "    </tr>\n",
       "  </thead>\n",
       "  <tbody>\n",
       "    <tr>\n",
       "      <th>37755</th>\n",
       "      <td>2020-01-30 11:24:00</td>\n",
       "      <td>PR</td>\n",
       "      <td>300001</td>\n",
       "      <td>7C15</td>\n",
       "      <td>-108.19593</td>\n",
       "      <td>39.04563</td>\n",
       "      <td>742673.94</td>\n",
       "      <td>4325582.37</td>\n",
       "      <td>100</td>\n",
       "      <td>3048.699951</td>\n",
       "      <td>ruler</td>\n",
       "      <td>1</td>\n",
       "    </tr>\n",
       "    <tr>\n",
       "      <th>37756</th>\n",
       "      <td>2020-01-29 15:00:00</td>\n",
       "      <td>PR</td>\n",
       "      <td>300002</td>\n",
       "      <td>6C37</td>\n",
       "      <td>-108.14791</td>\n",
       "      <td>39.00760</td>\n",
       "      <td>746962.00</td>\n",
       "      <td>4321491.00</td>\n",
       "      <td>117</td>\n",
       "      <td>3087.709961</td>\n",
       "      <td>ruler</td>\n",
       "      <td>1</td>\n",
       "    </tr>\n",
       "    <tr>\n",
       "      <th>37757</th>\n",
       "      <td>2020-02-09 12:30:00</td>\n",
       "      <td>PR</td>\n",
       "      <td>300003</td>\n",
       "      <td>8C31</td>\n",
       "      <td>-108.16401</td>\n",
       "      <td>39.02144</td>\n",
       "      <td>745520.00</td>\n",
       "      <td>4322983.00</td>\n",
       "      <td>98</td>\n",
       "      <td>3099.639893</td>\n",
       "      <td>ruler</td>\n",
       "      <td>1</td>\n",
       "    </tr>\n",
       "    <tr>\n",
       "      <th>37758</th>\n",
       "      <td>2020-01-28 09:13:00</td>\n",
       "      <td>PR</td>\n",
       "      <td>300004</td>\n",
       "      <td>6N18</td>\n",
       "      <td>-108.19103</td>\n",
       "      <td>39.03404</td>\n",
       "      <td>743137.23</td>\n",
       "      <td>4324309.43</td>\n",
       "      <td>92</td>\n",
       "      <td>3055.590088</td>\n",
       "      <td>ruler</td>\n",
       "      <td>1</td>\n",
       "    </tr>\n",
       "    <tr>\n",
       "      <th>37760</th>\n",
       "      <td>2020-02-10 10:30:00</td>\n",
       "      <td>PR</td>\n",
       "      <td>300006</td>\n",
       "      <td>8S41</td>\n",
       "      <td>-108.14962</td>\n",
       "      <td>39.01659</td>\n",
       "      <td>746783.00</td>\n",
       "      <td>4322484.00</td>\n",
       "      <td>95</td>\n",
       "      <td>3113.870117</td>\n",
       "      <td>ruler</td>\n",
       "      <td>1</td>\n",
       "    </tr>\n",
       "    <tr>\n",
       "      <th>...</th>\n",
       "      <td>...</td>\n",
       "      <td>...</td>\n",
       "      <td>...</td>\n",
       "      <td>...</td>\n",
       "      <td>...</td>\n",
       "      <td>...</td>\n",
       "      <td>...</td>\n",
       "      <td>...</td>\n",
       "      <td>...</td>\n",
       "      <td>...</td>\n",
       "      <td>...</td>\n",
       "      <td>...</td>\n",
       "    </tr>\n",
       "    <tr>\n",
       "      <th>37916</th>\n",
       "      <td>2020-02-04 13:40:00</td>\n",
       "      <td>PR</td>\n",
       "      <td>300162</td>\n",
       "      <td>5S29</td>\n",
       "      <td>-108.16532</td>\n",
       "      <td>39.01801</td>\n",
       "      <td>745419.00</td>\n",
       "      <td>4322599.00</td>\n",
       "      <td>110</td>\n",
       "      <td>3094.260010</td>\n",
       "      <td>ruler</td>\n",
       "      <td>1</td>\n",
       "    </tr>\n",
       "    <tr>\n",
       "      <th>37917</th>\n",
       "      <td>2020-01-29 14:00:00</td>\n",
       "      <td>PR</td>\n",
       "      <td>300163</td>\n",
       "      <td>6S19</td>\n",
       "      <td>-108.18073</td>\n",
       "      <td>39.01846</td>\n",
       "      <td>744083.00</td>\n",
       "      <td>4322607.00</td>\n",
       "      <td>139</td>\n",
       "      <td>3051.560059</td>\n",
       "      <td>ruler</td>\n",
       "      <td>1</td>\n",
       "    </tr>\n",
       "    <tr>\n",
       "      <th>37918</th>\n",
       "      <td>2020-02-11 15:04:00</td>\n",
       "      <td>PR</td>\n",
       "      <td>300164</td>\n",
       "      <td>1N5</td>\n",
       "      <td>-108.21137</td>\n",
       "      <td>39.03618</td>\n",
       "      <td>741369.00</td>\n",
       "      <td>4324492.00</td>\n",
       "      <td>88</td>\n",
       "      <td>3031.800049</td>\n",
       "      <td>ruler</td>\n",
       "      <td>1</td>\n",
       "    </tr>\n",
       "    <tr>\n",
       "      <th>37919</th>\n",
       "      <td>2020-02-01 08:40:00</td>\n",
       "      <td>PR</td>\n",
       "      <td>300165</td>\n",
       "      <td>2S37</td>\n",
       "      <td>-108.15929</td>\n",
       "      <td>39.01926</td>\n",
       "      <td>745936.51</td>\n",
       "      <td>4322753.96</td>\n",
       "      <td>104</td>\n",
       "      <td>3102.780029</td>\n",
       "      <td>ruler</td>\n",
       "      <td>1</td>\n",
       "    </tr>\n",
       "    <tr>\n",
       "      <th>37920</th>\n",
       "      <td>2020-02-08 13:25:00</td>\n",
       "      <td>PR</td>\n",
       "      <td>300166</td>\n",
       "      <td>3N26</td>\n",
       "      <td>-108.18423</td>\n",
       "      <td>39.03341</td>\n",
       "      <td>743728.00</td>\n",
       "      <td>4324258.00</td>\n",
       "      <td>107</td>\n",
       "      <td>3066.909912</td>\n",
       "      <td>ruler</td>\n",
       "      <td>1</td>\n",
       "    </tr>\n",
       "  </tbody>\n",
       "</table>\n",
       "<p>148 rows × 12 columns</p>\n",
       "</div>"
      ],
      "text/plain": [
       "                 Datetime Tool      ID PitID  Longitude  Latitude    Easting  \\\n",
       "37755 2020-01-30 11:24:00   PR  300001  7C15 -108.19593  39.04563  742673.94   \n",
       "37756 2020-01-29 15:00:00   PR  300002  6C37 -108.14791  39.00760  746962.00   \n",
       "37757 2020-02-09 12:30:00   PR  300003  8C31 -108.16401  39.02144  745520.00   \n",
       "37758 2020-01-28 09:13:00   PR  300004  6N18 -108.19103  39.03404  743137.23   \n",
       "37760 2020-02-10 10:30:00   PR  300006  8S41 -108.14962  39.01659  746783.00   \n",
       "...                   ...  ...     ...   ...        ...       ...        ...   \n",
       "37916 2020-02-04 13:40:00   PR  300162  5S29 -108.16532  39.01801  745419.00   \n",
       "37917 2020-01-29 14:00:00   PR  300163  6S19 -108.18073  39.01846  744083.00   \n",
       "37918 2020-02-11 15:04:00   PR  300164   1N5 -108.21137  39.03618  741369.00   \n",
       "37919 2020-02-01 08:40:00   PR  300165  2S37 -108.15929  39.01926  745936.51   \n",
       "37920 2020-02-08 13:25:00   PR  300166  3N26 -108.18423  39.03341  743728.00   \n",
       "\n",
       "         Northing  Depth (cm)  elevation (m) equipment  Version Number  \n",
       "37755  4325582.37         100    3048.699951     ruler               1  \n",
       "37756  4321491.00         117    3087.709961     ruler               1  \n",
       "37757  4322983.00          98    3099.639893     ruler               1  \n",
       "37758  4324309.43          92    3055.590088     ruler               1  \n",
       "37760  4322484.00          95    3113.870117     ruler               1  \n",
       "...           ...         ...            ...       ...             ...  \n",
       "37916  4322599.00         110    3094.260010     ruler               1  \n",
       "37917  4322607.00         139    3051.560059     ruler               1  \n",
       "37918  4324492.00          88    3031.800049     ruler               1  \n",
       "37919  4322753.96         104    3102.780029     ruler               1  \n",
       "37920  4324258.00         107    3066.909912     ruler               1  \n",
       "\n",
       "[148 rows x 12 columns]"
      ]
     },
     "execution_count": 41,
     "metadata": {},
     "output_type": "execute_result"
    }
   ],
   "source": [
    "# Select records associated with a Pit ruler\n",
    "pit_ruler_depth = GMP_SnowDepth[GMP_SnowDepth['Tool'] == 'PR']\n",
    "pit_ruler_depth"
   ]
  },
  {
   "cell_type": "markdown",
   "id": "nominated-hundred",
   "metadata": {},
   "source": [
    "Let's see what plotting with the plot method of dataframe and matplotlib look like. Let's recall the types of data visualization charts"
   ]
  },
  {
   "cell_type": "code",
   "execution_count": 46,
   "id": "fatal-mercy",
   "metadata": {},
   "outputs": [
    {
     "data": {
      "image/png": "[encoded data removed]",
      "text/plain": [
       "<Figure size 720x432 with 2 Axes>"
      ]
     },
     "metadata": {
      "needs_background": "light"
     },
     "output_type": "display_data"
    }
   ],
   "source": [
    "\n",
    "ax = pit_ruler_depth.plot(x='Easting', y='Northing', \n",
    "                          c='Depth (cm)', kind='scatter', alpha=0.7, \n",
    "                          colorbar=True, colormap='PuBu', legend=True,\n",
    "                          figsize=(10,6))\n",
    "ax.set_title('Grand Mesa Pit Ruler Depths')\n",
    "ax.set_xlabel('Easting [m]')\n",
    "ax.set_ylabel('Northing [m]')\n",
    "plt.show()"
   ]
  },
  {
   "cell_type": "code",
   "execution_count": 45,
   "id": "simplified-gateway",
   "metadata": {},
   "outputs": [
    {
     "data": {
      "image/png": "[encoded data removed]",
      "text/plain": [
       "<Figure size 720x432 with 1 Axes>"
      ]
     },
     "metadata": {
      "needs_background": "light"
     },
     "output_type": "display_data"
    }
   ],
   "source": [
    "f, ax = plt.subplots(figsize = (10,6))\n",
    "\n",
    "ax.scatter(pit_ruler_depth.Easting, pit_ruler_depth.Northing, c= pit_ruler_depth['Depth (cm)'], alpha=0.7, cmap= 'Reds')\n",
    "ax.set(title = 'Grand Mesa Pit Ruler Depths', xlabel = 'Easting \\n(m)', ylabel = 'Northing \\n (m)')\n",
    "plt.show()"
   ]
  },
  {
   "cell_type": "markdown",
   "id": "particular-pearl",
   "metadata": {},
   "source": [
    "As we can see in the above plots, there is no way to interactively check the value of each depth plotted. At least four lines of codes are required to produce the plots. Let's see what we can do with plotly"
   ]
  },
  {
   "cell_type": "markdown",
   "id": "traditional-princeton",
   "metadata": {},
   "source": [
    "## Line Plots\n",
    "\n"
   ]
  },
  {
   "cell_type": "markdown",
   "id": "packed-queensland",
   "metadata": {},
   "source": [
    "## Scatter Plots"
   ]
  },
  {
   "cell_type": "code",
   "execution_count": 59,
   "id": "contemporary-dubai",
   "metadata": {},
   "outputs": [
    {
     "data": {
      "application/vnd.plotly.v1+json": {
       "config": {
        "plotlyServerURL": "https://plot.ly"
       },
       "data": [
        {
         "hovertemplate": "Easting=%{x}<br>Northing=%{y}<br>Depth (cm)=%{marker.color}<extra></extra>",
         "legendgroup": "",
         "marker": {
          "color": [
           100,
           117,
           98,
           92,
           95,
           104,
           67,
           97,
           109,
           112,
           102,
           101,
           90,
           85,
           92,
           97,
           84,
           95,
           103,
           67,
           66,
           101,
           62,
           108,
           76,
           82,
           83,
           74,
           108,
           108,
           95,
           77,
           60,
           67,
           112,
           91,
           94,
           102,
           120,
           88,
           109,
           100,
           104,
           85,
           103,
           103,
           120,
           70,
           83,
           97,
           91,
           98,
           70,
           100,
           68,
           72,
           89,
           70,
           105,
           105,
           86,
           88,
           76,
           100,
           78,
           103,
           95,
           85,
           81,
           77,
           117,
           81,
           104,
           101,
           112,
           101,
           70,
           93,
           107,
           92,
           117,
           119,
           115,
           113,
           108,
           92,
           35,
           101,
           102,
           115,
           99,
           89,
           119,
           89,
           101,
           75,
           87,
           87,
           74,
           110,
           96,
           75,
           83,
           139,
           121,
           96,
           80,
           98,
           83,
           81,
           112,
           101,
           111,
           98,
           67,
           111,
           94,
           95,
           114,
           63,
           90,
           100,
           95,
           143,
           102,
           88,
           80,
           114,
           91,
           86,
           98,
           83,
           119,
           92,
           70,
           103,
           98,
           70,
           85,
           96,
           113,
           110,
           99,
           110,
           139,
           88,
           104,
           107
          ],
          "coloraxis": "coloraxis",
          "symbol": "circle"
         },
         "mode": "markers",
         "name": "",
         "orientation": "v",
         "showlegend": false,
         "type": "scatter",
         "x": [
          742673.94,
          746962,
          745520,
          743137.23,
          746783,
          746350,
          740502,
          746553,
          742581,
          745458,
          745529,
          742375,
          743265,
          746145,
          745598,
          745093,
          741866,
          741580,
          745161,
          740759,
          742155,
          745516.34,
          748321,
          743228,
          746373,
          747055,
          740508,
          742607,
          746149,
          745263.81,
          745711,
          743076,
          746929,
          747430,
          743402,
          745586,
          747987,
          743219,
          744955,
          746873,
          746546,
          743509,
          747070,
          747670,
          745477,
          745010,
          744281,
          745660,
          741920,
          746802,
          747316,
          744668,
          740765,
          743109,
          743548,
          744548,
          741935,
          745251,
          744477,
          744913,
          741493,
          740838.5,
          740541,
          743619,
          744396,
          743466,
          746602,
          742378,
          742453,
          740506,
          745650,
          747535,
          744862,
          744889,
          740660,
          748950,
          747792,
          744816,
          743817,
          744458,
          741960,
          744436,
          745644,
          748086,
          742531,
          741510,
          743281,
          746227.76,
          747487,
          759386,
          742466,
          747466,
          745437,
          742602,
          747643,
          742605,
          744493,
          740652,
          742304,
          747305,
          741132,
          743040,
          746303.4,
          742684.96,
          743099,
          742849.5,
          745304.92,
          743446,
          743277,
          747066,
          744757,
          744072,
          747771,
          745787,
          744913,
          744087,
          743950,
          745296.02,
          745121,
          742330,
          743884,
          748777,
          746800,
          745842,
          744625,
          747120,
          742115,
          745340,
          743158,
          740811,
          743987,
          744864,
          743103,
          743856,
          743083,
          743652,
          742378,
          748150,
          742054,
          741378,
          743059,
          744561,
          745678,
          745419,
          744083,
          741369,
          745936.51,
          743728
         ],
         "xaxis": "x",
         "y": [
          4325582.37,
          4321491,
          4322983,
          4324309.43,
          4322484,
          4321976,
          4324293,
          4323759,
          4325429,
          4322762,
          4322471,
          4324185,
          4324606,
          4321822,
          4323988,
          4322617,
          4324050,
          4326713,
          4322395,
          4324208,
          4322840,
          4324012.17,
          4322631,
          4324943,
          4321595,
          4323916,
          4327577,
          4322917,
          4322488,
          4324165.76,
          4322356,
          4322689,
          4322662,
          4324075,
          4324736,
          4322879,
          4324056,
          4324260,
          4324190,
          4322409,
          4324066,
          4324117,
          4322511,
          4322397,
          4322480,
          4323372,
          4324245,
          4322361,
          4322845,
          4324222,
          4322396,
          4323404,
          4327379,
          4322924,
          4324077,
          4323646,
          4326488,
          4322588,
          4323731,
          4324095,
          4326833,
          4327344.72,
          4324500,
          4324416,
          4323540,
          4324104,
          4324147,
          4324184,
          4325752,
          4327589,
          4324097,
          4323888,
          4323250,
          4322806,
          4324274,
          4322498,
          4323957,
          4323284,
          4324185,
          4322697,
          4326644,
          4323989,
          4324255,
          4323972,
          4322632,
          4324472,
          4324005,
          4322670.61,
          4322259,
          4325399,
          4324372,
          4322453,
          4322453,
          4322943,
          4324124,
          4322584,
          4323689,
          4327445,
          4322496,
          4323912,
          4327061,
          4324967,
          4322571.29,
          4324286.68,
          4324022,
          4324220.81,
          4323986.4,
          4324827,
          4322508,
          4324128,
          4323667,
          4322442,
          4322500,
          4322066,
          4322546,
          4324155,
          4322638,
          4324038.79,
          4324175,
          4324014,
          4324477,
          4322533,
          4323946,
          4323805,
          4323947,
          4324068,
          4322712,
          4322754,
          4322557,
          4324488,
          4322748,
          4323923,
          4324384,
          4322407,
          4322876,
          4322680,
          4324465,
          4322220,
          4324454,
          4326992,
          4324276,
          4322721,
          4322446,
          4322599,
          4322607,
          4324492,
          4322753.96,
          4324258
         ],
         "yaxis": "y"
        }
       ],
       "layout": {
        "coloraxis": {
         "colorbar": {
          "title": {
           "text": "Depth (cm)"
          }
         },
         "colorscale": [
          [
           0,
           "#0d0887"
          ],
          [
           0.1111111111111111,
           "#46039f"
          ],
          [
           0.2222222222222222,
           "#7201a8"
          ],
          [
           0.3333333333333333,
           "#9c179e"
          ],
          [
           0.4444444444444444,
           "#bd3786"
          ],
          [
           0.5555555555555556,
           "#d8576b"
          ],
          [
           0.6666666666666666,
           "#ed7953"
          ],
          [
           0.7777777777777778,
           "#fb9f3a"
          ],
          [
           0.8888888888888888,
           "#fdca26"
          ],
          [
           1,
           "#f0f921"
          ]
         ]
        },
        "legend": {
         "tracegroupgap": 0
        },
        "margin": {
         "t": 60
        },
        "template": {
         "data": {
          "bar": [
           {
            "error_x": {
             "color": "#2a3f5f"
            },
            "error_y": {
             "color": "#2a3f5f"
            },
            "marker": {
             "line": {
              "color": "#E5ECF6",
              "width": 0.5
             },
             "pattern": {
              "fillmode": "overlay",
              "size": 10,
              "solidity": 0.2
             }
            },
            "type": "bar"
           }
          ],
          "barpolar": [
           {
            "marker": {
             "line": {
              "color": "#E5ECF6",
              "width": 0.5
             },
             "pattern": {
              "fillmode": "overlay",
              "size": 10,
              "solidity": 0.2
             }
            },
            "type": "barpolar"
           }
          ],
          "carpet": [
           {
            "aaxis": {
             "endlinecolor": "#2a3f5f",
             "gridcolor": "white",
             "linecolor": "white",
             "minorgridcolor": "white",
             "startlinecolor": "#2a3f5f"
            },
            "baxis": {
             "endlinecolor": "#2a3f5f",
             "gridcolor": "white",
             "linecolor": "white",
             "minorgridcolor": "white",
             "startlinecolor": "#2a3f5f"
            },
            "type": "carpet"
           }
          ],
          "choropleth": [
           {
            "colorbar": {
             "outlinewidth": 0,
             "ticks": ""
            },
            "type": "choropleth"
           }
          ],
          "contour": [
           {
            "colorbar": {
             "outlinewidth": 0,
             "ticks": ""
            },
            "colorscale": [
             [
              0,
              "#0d0887"
             ],
             [
              0.1111111111111111,
              "#46039f"
             ],
             [
              0.2222222222222222,
              "#7201a8"
             ],
             [
              0.3333333333333333,
              "#9c179e"
             ],
             [
              0.4444444444444444,
              "#bd3786"
             ],
             [
              0.5555555555555556,
              "#d8576b"
             ],
             [
              0.6666666666666666,
              "#ed7953"
             ],
             [
              0.7777777777777778,
              "#fb9f3a"
             ],
             [
              0.8888888888888888,
              "#fdca26"
             ],
             [
              1,
              "#f0f921"
             ]
            ],
            "type": "contour"
           }
          ],
          "contourcarpet": [
           {
            "colorbar": {
             "outlinewidth": 0,
             "ticks": ""
            },
            "type": "contourcarpet"
           }
          ],
          "heatmap": [
           {
            "colorbar": {
             "outlinewidth": 0,
             "ticks": ""
            },
            "colorscale": [
             [
              0,
              "#0d0887"
             ],
             [
              0.1111111111111111,
              "#46039f"
             ],
             [
              0.2222222222222222,
              "#7201a8"
             ],
             [
              0.3333333333333333,
              "#9c179e"
             ],
             [
              0.4444444444444444,
              "#bd3786"
             ],
             [
              0.5555555555555556,
              "#d8576b"
             ],
             [
              0.6666666666666666,
              "#ed7953"
             ],
             [
              0.7777777777777778,
              "#fb9f3a"
             ],
             [
              0.8888888888888888,
              "#fdca26"
             ],
             [
              1,
              "#f0f921"
             ]
            ],
            "type": "heatmap"
           }
          ],
          "heatmapgl": [
           {
            "colorbar": {
             "outlinewidth": 0,
             "ticks": ""
            },
            "colorscale": [
             [
              0,
              "#0d0887"
             ],
             [
              0.1111111111111111,
              "#46039f"
             ],
             [
              0.2222222222222222,
              "#7201a8"
             ],
             [
              0.3333333333333333,
              "#9c179e"
             ],
             [
              0.4444444444444444,
              "#bd3786"
             ],
             [
              0.5555555555555556,
              "#d8576b"
             ],
             [
              0.6666666666666666,
              "#ed7953"
             ],
             [
              0.7777777777777778,
              "#fb9f3a"
             ],
             [
              0.8888888888888888,
              "#fdca26"
             ],
             [
              1,
              "#f0f921"
             ]
            ],
            "type": "heatmapgl"
           }
          ],
          "histogram": [
           {
            "marker": {
             "pattern": {
              "fillmode": "overlay",
              "size": 10,
              "solidity": 0.2
             }
            },
            "type": "histogram"
           }
          ],
          "histogram2d": [
           {
            "colorbar": {
             "outlinewidth": 0,
             "ticks": ""
            },
            "colorscale": [
             [
              0,
              "#0d0887"
             ],
             [
              0.1111111111111111,
              "#46039f"
             ],
             [
              0.2222222222222222,
              "#7201a8"
             ],
             [
              0.3333333333333333,
              "#9c179e"
             ],
             [
              0.4444444444444444,
              "#bd3786"
             ],
             [
              0.5555555555555556,
              "#d8576b"
             ],
             [
              0.6666666666666666,
              "#ed7953"
             ],
             [
              0.7777777777777778,
              "#fb9f3a"
             ],
             [
              0.8888888888888888,
              "#fdca26"
             ],
             [
              1,
              "#f0f921"
             ]
            ],
            "type": "histogram2d"
           }
          ],
          "histogram2dcontour": [
           {
            "colorbar": {
             "outlinewidth": 0,
             "ticks": ""
            },
            "colorscale": [
             [
              0,
              "#0d0887"
             ],
             [
              0.1111111111111111,
              "#46039f"
             ],
             [
              0.2222222222222222,
              "#7201a8"
             ],
             [
              0.3333333333333333,
              "#9c179e"
             ],
             [
              0.4444444444444444,
              "#bd3786"
             ],
             [
              0.5555555555555556,
              "#d8576b"
             ],
             [
              0.6666666666666666,
              "#ed7953"
             ],
             [
              0.7777777777777778,
              "#fb9f3a"
             ],
             [
              0.8888888888888888,
              "#fdca26"
             ],
             [
              1,
              "#f0f921"
             ]
            ],
            "type": "histogram2dcontour"
           }
          ],
          "mesh3d": [
           {
            "colorbar": {
             "outlinewidth": 0,
             "ticks": ""
            },
            "type": "mesh3d"
           }
          ],
          "parcoords": [
           {
            "line": {
             "colorbar": {
              "outlinewidth": 0,
              "ticks": ""
             }
            },
            "type": "parcoords"
           }
          ],
          "pie": [
           {
            "automargin": true,
            "type": "pie"
           }
          ],
          "scatter": [
           {
            "marker": {
             "colorbar": {
              "outlinewidth": 0,
              "ticks": ""
             }
            },
            "type": "scatter"
           }
          ],
          "scatter3d": [
           {
            "line": {
             "colorbar": {
              "outlinewidth": 0,
              "ticks": ""
             }
            },
            "marker": {
             "colorbar": {
              "outlinewidth": 0,
              "ticks": ""
             }
            },
            "type": "scatter3d"
           }
          ],
          "scattercarpet": [
           {
            "marker": {
             "colorbar": {
              "outlinewidth": 0,
              "ticks": ""
             }
            },
            "type": "scattercarpet"
           }
          ],
          "scattergeo": [
           {
            "marker": {
             "colorbar": {
              "outlinewidth": 0,
              "ticks": ""
             }
            },
            "type": "scattergeo"
           }
          ],
          "scattergl": [
           {
            "marker": {
             "colorbar": {
              "outlinewidth": 0,
              "ticks": ""
             }
            },
            "type": "scattergl"
           }
          ],
          "scattermapbox": [
           {
            "marker": {
             "colorbar": {
              "outlinewidth": 0,
              "ticks": ""
             }
            },
            "type": "scattermapbox"
           }
          ],
          "scatterpolar": [
           {
            "marker": {
             "colorbar": {
              "outlinewidth": 0,
              "ticks": ""
             }
            },
            "type": "scatterpolar"
           }
          ],
          "scatterpolargl": [
           {
            "marker": {
             "colorbar": {
              "outlinewidth": 0,
              "ticks": ""
             }
            },
            "type": "scatterpolargl"
           }
          ],
          "scatterternary": [
           {
            "marker": {
             "colorbar": {
              "outlinewidth": 0,
              "ticks": ""
             }
            },
            "type": "scatterternary"
           }
          ],
          "surface": [
           {
            "colorbar": {
             "outlinewidth": 0,
             "ticks": ""
            },
            "colorscale": [
             [
              0,
              "#0d0887"
             ],
             [
              0.1111111111111111,
              "#46039f"
             ],
             [
              0.2222222222222222,
              "#7201a8"
             ],
             [
              0.3333333333333333,
              "#9c179e"
             ],
             [
              0.4444444444444444,
              "#bd3786"
             ],
             [
              0.5555555555555556,
              "#d8576b"
             ],
             [
              0.6666666666666666,
              "#ed7953"
             ],
             [
              0.7777777777777778,
              "#fb9f3a"
             ],
             [
              0.8888888888888888,
              "#fdca26"
             ],
             [
              1,
              "#f0f921"
             ]
            ],
            "type": "surface"
           }
          ],
          "table": [
           {
            "cells": {
             "fill": {
              "color": "#EBF0F8"
             },
             "line": {
              "color": "white"
             }
            },
            "header": {
             "fill": {
              "color": "#C8D4E3"
             },
             "line": {
              "color": "white"
             }
            },
            "type": "table"
           }
          ]
         },
         "layout": {
          "annotationdefaults": {
           "arrowcolor": "#2a3f5f",
           "arrowhead": 0,
           "arrowwidth": 1
          },
          "autotypenumbers": "strict",
          "coloraxis": {
           "colorbar": {
            "outlinewidth": 0,
            "ticks": ""
           }
          },
          "colorscale": {
           "diverging": [
            [
             0,
             "#8e0152"
            ],
            [
             0.1,
             "#c51b7d"
            ],
            [
             0.2,
             "#de77ae"
            ],
            [
             0.3,
             "#f1b6da"
            ],
            [
             0.4,
             "#fde0ef"
            ],
            [
             0.5,
             "#f7f7f7"
            ],
            [
             0.6,
             "#e6f5d0"
            ],
            [
             0.7,
             "#b8e186"
            ],
            [
             0.8,
             "#7fbc41"
            ],
            [
             0.9,
             "#4d9221"
            ],
            [
             1,
             "#276419"
            ]
           ],
           "sequential": [
            [
             0,
             "#0d0887"
            ],
            [
             0.1111111111111111,
             "#46039f"
            ],
            [
             0.2222222222222222,
             "#7201a8"
            ],
            [
             0.3333333333333333,
             "#9c179e"
            ],
            [
             0.4444444444444444,
             "#bd3786"
            ],
            [
             0.5555555555555556,
             "#d8576b"
            ],
            [
             0.6666666666666666,
             "#ed7953"
            ],
            [
             0.7777777777777778,
             "#fb9f3a"
            ],
            [
             0.8888888888888888,
             "#fdca26"
            ],
            [
             1,
             "#f0f921"
            ]
           ],
           "sequentialminus": [
            [
             0,
             "#0d0887"
            ],
            [
             0.1111111111111111,
             "#46039f"
            ],
            [
             0.2222222222222222,
             "#7201a8"
            ],
            [
             0.3333333333333333,
             "#9c179e"
            ],
            [
             0.4444444444444444,
             "#bd3786"
            ],
            [
             0.5555555555555556,
             "#d8576b"
            ],
            [
             0.6666666666666666,
             "#ed7953"
            ],
            [
             0.7777777777777778,
             "#fb9f3a"
            ],
            [
             0.8888888888888888,
             "#fdca26"
            ],
            [
             1,
             "#f0f921"
            ]
           ]
          },
          "colorway": [
           "#636efa",
           "#EF553B",
           "#00cc96",
           "#ab63fa",
           "#FFA15A",
           "#19d3f3",
           "#FF6692",
           "#B6E880",
           "#FF97FF",
           "#FECB52"
          ],
          "font": {
           "color": "#2a3f5f"
          },
          "geo": {
           "bgcolor": "white",
           "lakecolor": "white",
           "landcolor": "#E5ECF6",
           "showlakes": true,
           "showland": true,
           "subunitcolor": "white"
          },
          "hoverlabel": {
           "align": "left"
          },
          "hovermode": "closest",
          "mapbox": {
           "style": "light"
          },
          "paper_bgcolor": "white",
          "plot_bgcolor": "#E5ECF6",
          "polar": {
           "angularaxis": {
            "gridcolor": "white",
            "linecolor": "white",
            "ticks": ""
           },
           "bgcolor": "#E5ECF6",
           "radialaxis": {
            "gridcolor": "white",
            "linecolor": "white",
            "ticks": ""
           }
          },
          "scene": {
           "xaxis": {
            "backgroundcolor": "#E5ECF6",
            "gridcolor": "white",
            "gridwidth": 2,
            "linecolor": "white",
            "showbackground": true,
            "ticks": "",
            "zerolinecolor": "white"
           },
           "yaxis": {
            "backgroundcolor": "#E5ECF6",
            "gridcolor": "white",
            "gridwidth": 2,
            "linecolor": "white",
            "showbackground": true,
            "ticks": "",
            "zerolinecolor": "white"
           },
           "zaxis": {
            "backgroundcolor": "#E5ECF6",
            "gridcolor": "white",
            "gridwidth": 2,
            "linecolor": "white",
            "showbackground": true,
            "ticks": "",
            "zerolinecolor": "white"
           }
          },
          "shapedefaults": {
           "line": {
            "color": "#2a3f5f"
           }
          },
          "ternary": {
           "aaxis": {
            "gridcolor": "white",
            "linecolor": "white",
            "ticks": ""
           },
           "baxis": {
            "gridcolor": "white",
            "linecolor": "white",
            "ticks": ""
           },
           "bgcolor": "#E5ECF6",
           "caxis": {
            "gridcolor": "white",
            "linecolor": "white",
            "ticks": ""
           }
          },
          "title": {
           "x": 0.05
          },
          "xaxis": {
           "automargin": true,
           "gridcolor": "white",
           "linecolor": "white",
           "ticks": "",
           "title": {
            "standoff": 15
           },
           "zerolinecolor": "white",
           "zerolinewidth": 2
          },
          "yaxis": {
           "automargin": true,
           "gridcolor": "white",
           "linecolor": "white",
           "ticks": "",
           "title": {
            "standoff": 15
           },
           "zerolinecolor": "white",
           "zerolinewidth": 2
          }
         }
        },
        "xaxis": {
         "anchor": "y",
         "domain": [
          0,
          1
         ],
         "title": {
          "text": "Easting"
         }
        },
        "yaxis": {
         "anchor": "x",
         "domain": [
          0,
          1
         ],
         "title": {
          "text": "Northing"
         }
        }
       }
      },
      "text/html": [
       "<div>                            <div id=\"4a2b3b4e-028d-4900-8aa4-6194122f5398\" class=\"plotly-graph-div\" style=\"height:525px; width:100%;\"></div>            <script type=\"text/javascript\">                require([\"plotly\"], function(Plotly) {                    window.PLOTLYENV=window.PLOTLYENV || {};                                    if (document.getElementById(\"4a2b3b4e-028d-4900-8aa4-6194122f5398\")) {                    Plotly.newPlot(                        \"4a2b3b4e-028d-4900-8aa4-6194122f5398\",                        [{\"hovertemplate\":\"Easting=%{x}<br>Northing=%{y}<br>Depth (cm)=%{marker.color}<extra></extra>\",\"legendgroup\":\"\",\"marker\":{\"color\":[100,117,98,92,95,104,67,97,109,112,102,101,90,85,92,97,84,95,103,67,66,101,62,108,76,82,83,74,108,108,95,77,60,67,112,91,94,102,120,88,109,100,104,85,103,103,120,70,83,97,91,98,70,100,68,72,89,70,105,105,86,88,76,100,78,103,95,85,81,77,117,81,104,101,112,101,70,93,107,92,117,119,115,113,108,92,35,101,102,115,99,89,119,89,101,75,87,87,74,110,96,75,83,139,121,96,80,98,83,81,112,101,111,98,67,111,94,95,114,63,90,100,95,143,102,88,80,114,91,86,98,83,119,92,70,103,98,70,85,96,113,110,99,110,139,88,104,107],\"coloraxis\":\"coloraxis\",\"symbol\":\"circle\"},\"mode\":\"markers\",\"name\":\"\",\"orientation\":\"v\",\"showlegend\":false,\"type\":\"scatter\",\"x\":[742673.94,746962.0,745520.0,743137.23,746783.0,746350.0,740502.0,746553.0,742581.0,745458.0,745529.0,742375.0,743265.0,746145.0,745598.0,745093.0,741866.0,741580.0,745161.0,740759.0,742155.0,745516.34,748321.0,743228.0,746373.0,747055.0,740508.0,742607.0,746149.0,745263.81,745711.0,743076.0,746929.0,747430.0,743402.0,745586.0,747987.0,743219.0,744955.0,746873.0,746546.0,743509.0,747070.0,747670.0,745477.0,745010.0,744281.0,745660.0,741920.0,746802.0,747316.0,744668.0,740765.0,743109.0,743548.0,744548.0,741935.0,745251.0,744477.0,744913.0,741493.0,740838.5,740541.0,743619.0,744396.0,743466.0,746602.0,742378.0,742453.0,740506.0,745650.0,747535.0,744862.0,744889.0,740660.0,748950.0,747792.0,744816.0,743817.0,744458.0,741960.0,744436.0,745644.0,748086.0,742531.0,741510.0,743281.0,746227.76,747487.0,759386.0,742466.0,747466.0,745437.0,742602.0,747643.0,742605.0,744493.0,740652.0,742304.0,747305.0,741132.0,743040.0,746303.4,742684.96,743099.0,742849.5,745304.92,743446.0,743277.0,747066.0,744757.0,744072.0,747771.0,745787.0,744913.0,744087.0,743950.0,745296.02,745121.0,742330.0,743884.0,748777.0,746800.0,745842.0,744625.0,747120.0,742115.0,745340.0,743158.0,740811.0,743987.0,744864.0,743103.0,743856.0,743083.0,743652.0,742378.0,748150.0,742054.0,741378.0,743059.0,744561.0,745678.0,745419.0,744083.0,741369.0,745936.51,743728.0],\"xaxis\":\"x\",\"y\":[4325582.37,4321491.0,4322983.0,4324309.43,4322484.0,4321976.0,4324293.0,4323759.0,4325429.0,4322762.0,4322471.0,4324185.0,4324606.0,4321822.0,4323988.0,4322617.0,4324050.0,4326713.0,4322395.0,4324208.0,4322840.0,4324012.17,4322631.0,4324943.0,4321595.0,4323916.0,4327577.0,4322917.0,4322488.0,4324165.76,4322356.0,4322689.0,4322662.0,4324075.0,4324736.0,4322879.0,4324056.0,4324260.0,4324190.0,4322409.0,4324066.0,4324117.0,4322511.0,4322397.0,4322480.0,4323372.0,4324245.0,4322361.0,4322845.0,4324222.0,4322396.0,4323404.0,4327379.0,4322924.0,4324077.0,4323646.0,4326488.0,4322588.0,4323731.0,4324095.0,4326833.0,4327344.72,4324500.0,4324416.0,4323540.0,4324104.0,4324147.0,4324184.0,4325752.0,4327589.0,4324097.0,4323888.0,4323250.0,4322806.0,4324274.0,4322498.0,4323957.0,4323284.0,4324185.0,4322697.0,4326644.0,4323989.0,4324255.0,4323972.0,4322632.0,4324472.0,4324005.0,4322670.61,4322259.0,4325399.0,4324372.0,4322453.0,4322453.0,4322943.0,4324124.0,4322584.0,4323689.0,4327445.0,4322496.0,4323912.0,4327061.0,4324967.0,4322571.29,4324286.68,4324022.0,4324220.81,4323986.4,4324827.0,4322508.0,4324128.0,4323667.0,4322442.0,4322500.0,4322066.0,4322546.0,4324155.0,4322638.0,4324038.79,4324175.0,4324014.0,4324477.0,4322533.0,4323946.0,4323805.0,4323947.0,4324068.0,4322712.0,4322754.0,4322557.0,4324488.0,4322748.0,4323923.0,4324384.0,4322407.0,4322876.0,4322680.0,4324465.0,4322220.0,4324454.0,4326992.0,4324276.0,4322721.0,4322446.0,4322599.0,4322607.0,4324492.0,4322753.96,4324258.0],\"yaxis\":\"y\"}],                        {\"coloraxis\":{\"colorbar\":{\"title\":{\"text\":\"Depth (cm)\"}},\"colorscale\":[[0.0,\"#0d0887\"],[0.1111111111111111,\"#46039f\"],[0.2222222222222222,\"#7201a8\"],[0.3333333333333333,\"#9c179e\"],[0.4444444444444444,\"#bd3786\"],[0.5555555555555556,\"#d8576b\"],[0.6666666666666666,\"#ed7953\"],[0.7777777777777778,\"#fb9f3a\"],[0.8888888888888888,\"#fdca26\"],[1.0,\"#f0f921\"]]},\"legend\":{\"tracegroupgap\":0},\"margin\":{\"t\":60},\"template\":{\"data\":{\"bar\":[{\"error_x\":{\"color\":\"#2a3f5f\"},\"error_y\":{\"color\":\"#2a3f5f\"},\"marker\":{\"line\":{\"color\":\"#E5ECF6\",\"width\":0.5},\"pattern\":{\"fillmode\":\"overlay\",\"size\":10,\"solidity\":0.2}},\"type\":\"bar\"}],\"barpolar\":[{\"marker\":{\"line\":{\"color\":\"#E5ECF6\",\"width\":0.5},\"pattern\":{\"fillmode\":\"overlay\",\"size\":10,\"solidity\":0.2}},\"type\":\"barpolar\"}],\"carpet\":[{\"aaxis\":{\"endlinecolor\":\"#2a3f5f\",\"gridcolor\":\"white\",\"linecolor\":\"white\",\"minorgridcolor\":\"white\",\"startlinecolor\":\"#2a3f5f\"},\"baxis\":{\"endlinecolor\":\"#2a3f5f\",\"gridcolor\":\"white\",\"linecolor\":\"white\",\"minorgridcolor\":\"white\",\"startlinecolor\":\"#2a3f5f\"},\"type\":\"carpet\"}],\"choropleth\":[{\"colorbar\":{\"outlinewidth\":0,\"ticks\":\"\"},\"type\":\"choropleth\"}],\"contour\":[{\"colorbar\":{\"outlinewidth\":0,\"ticks\":\"\"},\"colorscale\":[[0.0,\"#0d0887\"],[0.1111111111111111,\"#46039f\"],[0.2222222222222222,\"#7201a8\"],[0.3333333333333333,\"#9c179e\"],[0.4444444444444444,\"#bd3786\"],[0.5555555555555556,\"#d8576b\"],[0.6666666666666666,\"#ed7953\"],[0.7777777777777778,\"#fb9f3a\"],[0.8888888888888888,\"#fdca26\"],[1.0,\"#f0f921\"]],\"type\":\"contour\"}],\"contourcarpet\":[{\"colorbar\":{\"outlinewidth\":0,\"ticks\":\"\"},\"type\":\"contourcarpet\"}],\"heatmap\":[{\"colorbar\":{\"outlinewidth\":0,\"ticks\":\"\"},\"colorscale\":[[0.0,\"#0d0887\"],[0.1111111111111111,\"#46039f\"],[0.2222222222222222,\"#7201a8\"],[0.3333333333333333,\"#9c179e\"],[0.4444444444444444,\"#bd3786\"],[0.5555555555555556,\"#d8576b\"],[0.6666666666666666,\"#ed7953\"],[0.7777777777777778,\"#fb9f3a\"],[0.8888888888888888,\"#fdca26\"],[1.0,\"#f0f921\"]],\"type\":\"heatmap\"}],\"heatmapgl\":[{\"colorbar\":{\"outlinewidth\":0,\"ticks\":\"\"},\"colorscale\":[[0.0,\"#0d0887\"],[0.1111111111111111,\"#46039f\"],[0.2222222222222222,\"#7201a8\"],[0.3333333333333333,\"#9c179e\"],[0.4444444444444444,\"#bd3786\"],[0.5555555555555556,\"#d8576b\"],[0.6666666666666666,\"#ed7953\"],[0.7777777777777778,\"#fb9f3a\"],[0.8888888888888888,\"#fdca26\"],[1.0,\"#f0f921\"]],\"type\":\"heatmapgl\"}],\"histogram\":[{\"marker\":{\"pattern\":{\"fillmode\":\"overlay\",\"size\":10,\"solidity\":0.2}},\"type\":\"histogram\"}],\"histogram2d\":[{\"colorbar\":{\"outlinewidth\":0,\"ticks\":\"\"},\"colorscale\":[[0.0,\"#0d0887\"],[0.1111111111111111,\"#46039f\"],[0.2222222222222222,\"#7201a8\"],[0.3333333333333333,\"#9c179e\"],[0.4444444444444444,\"#bd3786\"],[0.5555555555555556,\"#d8576b\"],[0.6666666666666666,\"#ed7953\"],[0.7777777777777778,\"#fb9f3a\"],[0.8888888888888888,\"#fdca26\"],[1.0,\"#f0f921\"]],\"type\":\"histogram2d\"}],\"histogram2dcontour\":[{\"colorbar\":{\"outlinewidth\":0,\"ticks\":\"\"},\"colorscale\":[[0.0,\"#0d0887\"],[0.1111111111111111,\"#46039f\"],[0.2222222222222222,\"#7201a8\"],[0.3333333333333333,\"#9c179e\"],[0.4444444444444444,\"#bd3786\"],[0.5555555555555556,\"#d8576b\"],[0.6666666666666666,\"#ed7953\"],[0.7777777777777778,\"#fb9f3a\"],[0.8888888888888888,\"#fdca26\"],[1.0,\"#f0f921\"]],\"type\":\"histogram2dcontour\"}],\"mesh3d\":[{\"colorbar\":{\"outlinewidth\":0,\"ticks\":\"\"},\"type\":\"mesh3d\"}],\"parcoords\":[{\"line\":{\"colorbar\":{\"outlinewidth\":0,\"ticks\":\"\"}},\"type\":\"parcoords\"}],\"pie\":[{\"automargin\":true,\"type\":\"pie\"}],\"scatter\":[{\"marker\":{\"colorbar\":{\"outlinewidth\":0,\"ticks\":\"\"}},\"type\":\"scatter\"}],\"scatter3d\":[{\"line\":{\"colorbar\":{\"outlinewidth\":0,\"ticks\":\"\"}},\"marker\":{\"colorbar\":{\"outlinewidth\":0,\"ticks\":\"\"}},\"type\":\"scatter3d\"}],\"scattercarpet\":[{\"marker\":{\"colorbar\":{\"outlinewidth\":0,\"ticks\":\"\"}},\"type\":\"scattercarpet\"}],\"scattergeo\":[{\"marker\":{\"colorbar\":{\"outlinewidth\":0,\"ticks\":\"\"}},\"type\":\"scattergeo\"}],\"scattergl\":[{\"marker\":{\"colorbar\":{\"outlinewidth\":0,\"ticks\":\"\"}},\"type\":\"scattergl\"}],\"scattermapbox\":[{\"marker\":{\"colorbar\":{\"outlinewidth\":0,\"ticks\":\"\"}},\"type\":\"scattermapbox\"}],\"scatterpolar\":[{\"marker\":{\"colorbar\":{\"outlinewidth\":0,\"ticks\":\"\"}},\"type\":\"scatterpolar\"}],\"scatterpolargl\":[{\"marker\":{\"colorbar\":{\"outlinewidth\":0,\"ticks\":\"\"}},\"type\":\"scatterpolargl\"}],\"scatterternary\":[{\"marker\":{\"colorbar\":{\"outlinewidth\":0,\"ticks\":\"\"}},\"type\":\"scatterternary\"}],\"surface\":[{\"colorbar\":{\"outlinewidth\":0,\"ticks\":\"\"},\"colorscale\":[[0.0,\"#0d0887\"],[0.1111111111111111,\"#46039f\"],[0.2222222222222222,\"#7201a8\"],[0.3333333333333333,\"#9c179e\"],[0.4444444444444444,\"#bd3786\"],[0.5555555555555556,\"#d8576b\"],[0.6666666666666666,\"#ed7953\"],[0.7777777777777778,\"#fb9f3a\"],[0.8888888888888888,\"#fdca26\"],[1.0,\"#f0f921\"]],\"type\":\"surface\"}],\"table\":[{\"cells\":{\"fill\":{\"color\":\"#EBF0F8\"},\"line\":{\"color\":\"white\"}},\"header\":{\"fill\":{\"color\":\"#C8D4E3\"},\"line\":{\"color\":\"white\"}},\"type\":\"table\"}]},\"layout\":{\"annotationdefaults\":{\"arrowcolor\":\"#2a3f5f\",\"arrowhead\":0,\"arrowwidth\":1},\"autotypenumbers\":\"strict\",\"coloraxis\":{\"colorbar\":{\"outlinewidth\":0,\"ticks\":\"\"}},\"colorscale\":{\"diverging\":[[0,\"#8e0152\"],[0.1,\"#c51b7d\"],[0.2,\"#de77ae\"],[0.3,\"#f1b6da\"],[0.4,\"#fde0ef\"],[0.5,\"#f7f7f7\"],[0.6,\"#e6f5d0\"],[0.7,\"#b8e186\"],[0.8,\"#7fbc41\"],[0.9,\"#4d9221\"],[1,\"#276419\"]],\"sequential\":[[0.0,\"#0d0887\"],[0.1111111111111111,\"#46039f\"],[0.2222222222222222,\"#7201a8\"],[0.3333333333333333,\"#9c179e\"],[0.4444444444444444,\"#bd3786\"],[0.5555555555555556,\"#d8576b\"],[0.6666666666666666,\"#ed7953\"],[0.7777777777777778,\"#fb9f3a\"],[0.8888888888888888,\"#fdca26\"],[1.0,\"#f0f921\"]],\"sequentialminus\":[[0.0,\"#0d0887\"],[0.1111111111111111,\"#46039f\"],[0.2222222222222222,\"#7201a8\"],[0.3333333333333333,\"#9c179e\"],[0.4444444444444444,\"#bd3786\"],[0.5555555555555556,\"#d8576b\"],[0.6666666666666666,\"#ed7953\"],[0.7777777777777778,\"#fb9f3a\"],[0.8888888888888888,\"#fdca26\"],[1.0,\"#f0f921\"]]},\"colorway\":[\"#636efa\",\"#EF553B\",\"#00cc96\",\"#ab63fa\",\"#FFA15A\",\"#19d3f3\",\"#FF6692\",\"#B6E880\",\"#FF97FF\",\"#FECB52\"],\"font\":{\"color\":\"#2a3f5f\"},\"geo\":{\"bgcolor\":\"white\",\"lakecolor\":\"white\",\"landcolor\":\"#E5ECF6\",\"showlakes\":true,\"showland\":true,\"subunitcolor\":\"white\"},\"hoverlabel\":{\"align\":\"left\"},\"hovermode\":\"closest\",\"mapbox\":{\"style\":\"light\"},\"paper_bgcolor\":\"white\",\"plot_bgcolor\":\"#E5ECF6\",\"polar\":{\"angularaxis\":{\"gridcolor\":\"white\",\"linecolor\":\"white\",\"ticks\":\"\"},\"bgcolor\":\"#E5ECF6\",\"radialaxis\":{\"gridcolor\":\"white\",\"linecolor\":\"white\",\"ticks\":\"\"}},\"scene\":{\"xaxis\":{\"backgroundcolor\":\"#E5ECF6\",\"gridcolor\":\"white\",\"gridwidth\":2,\"linecolor\":\"white\",\"showbackground\":true,\"ticks\":\"\",\"zerolinecolor\":\"white\"},\"yaxis\":{\"backgroundcolor\":\"#E5ECF6\",\"gridcolor\":\"white\",\"gridwidth\":2,\"linecolor\":\"white\",\"showbackground\":true,\"ticks\":\"\",\"zerolinecolor\":\"white\"},\"zaxis\":{\"backgroundcolor\":\"#E5ECF6\",\"gridcolor\":\"white\",\"gridwidth\":2,\"linecolor\":\"white\",\"showbackground\":true,\"ticks\":\"\",\"zerolinecolor\":\"white\"}},\"shapedefaults\":{\"line\":{\"color\":\"#2a3f5f\"}},\"ternary\":{\"aaxis\":{\"gridcolor\":\"white\",\"linecolor\":\"white\",\"ticks\":\"\"},\"baxis\":{\"gridcolor\":\"white\",\"linecolor\":\"white\",\"ticks\":\"\"},\"bgcolor\":\"#E5ECF6\",\"caxis\":{\"gridcolor\":\"white\",\"linecolor\":\"white\",\"ticks\":\"\"}},\"title\":{\"x\":0.05},\"xaxis\":{\"automargin\":true,\"gridcolor\":\"white\",\"linecolor\":\"white\",\"ticks\":\"\",\"title\":{\"standoff\":15},\"zerolinecolor\":\"white\",\"zerolinewidth\":2},\"yaxis\":{\"automargin\":true,\"gridcolor\":\"white\",\"linecolor\":\"white\",\"ticks\":\"\",\"title\":{\"standoff\":15},\"zerolinecolor\":\"white\",\"zerolinewidth\":2}}},\"xaxis\":{\"anchor\":\"y\",\"domain\":[0.0,1.0],\"title\":{\"text\":\"Easting\"}},\"yaxis\":{\"anchor\":\"x\",\"domain\":[0.0,1.0],\"title\":{\"text\":\"Northing\"}}},                        {\"responsive\": true}                    ).then(function(){\n",
       "                            \n",
       "var gd = document.getElementById('4a2b3b4e-028d-4900-8aa4-6194122f5398');\n",
       "var x = new MutationObserver(function (mutations, observer) {{\n",
       "        var display = window.getComputedStyle(gd).display;\n",
       "        if (!display || display === 'none') {{\n",
       "            console.log([gd, 'removed!']);\n",
       "            Plotly.purge(gd);\n",
       "            observer.disconnect();\n",
       "        }}\n",
       "}});\n",
       "\n",
       "// Listen for the removal of the full notebook cells\n",
       "var notebookContainer = gd.closest('#notebook-container');\n",
       "if (notebookContainer) {{\n",
       "    x.observe(notebookContainer, {childList: true});\n",
       "}}\n",
       "\n",
       "// Listen for the clearing of the current output cell\n",
       "var outputEl = gd.closest('.output');\n",
       "if (outputEl) {{\n",
       "    x.observe(outputEl, {childList: true});\n",
       "}}\n",
       "\n",
       "                        })                };                });            </script>        </div>"
      ]
     },
     "metadata": {},
     "output_type": "display_data"
    }
   ],
   "source": [
    "fig = px.scatter(pit_ruler_depth, x = pit_ruler_depth.Easting, y = pit_ruler_depth.Northing, color = 'Depth (cm)')\n",
    "fig.show()"
   ]
  },
  {
   "cell_type": "markdown",
   "id": "grave-drove",
   "metadata": {},
   "source": [
    "As we can from the cell above, an aesthetic interactive plot is produced with just two lines of code. We can add also change the hover name"
   ]
  },
  {
   "cell_type": "markdown",
   "id": "ruled-links",
   "metadata": {},
   "source": [
    "## Pie Charts"
   ]
  },
  {
   "cell_type": "markdown",
   "id": "virgin-needle",
   "metadata": {},
   "source": [
    "## Colormaps"
   ]
  },
  {
   "cell_type": "markdown",
   "id": "necessary-rates",
   "metadata": {},
   "source": [
    "## Histograms"
   ]
  },
  {
   "cell_type": "markdown",
   "id": "tight-beach",
   "metadata": {},
   "source": [
    "## Boxplots"
   ]
  },
  {
   "cell_type": "markdown",
   "id": "imperial-honey",
   "metadata": {},
   "source": [
    "## Violin Plots"
   ]
  },
  {
   "cell_type": "markdown",
   "id": "living-committee",
   "metadata": {},
   "source": [
    "## Density Heatmap"
   ]
  },
  {
   "cell_type": "markdown",
   "id": "equipped-cincinnati",
   "metadata": {},
   "source": [
    "## 3D Scatter Plots"
   ]
  },
  {
   "cell_type": "markdown",
   "id": "foster-rough",
   "metadata": {},
   "source": [
    "## 3D Line Plots"
   ]
  },
  {
   "cell_type": "markdown",
   "id": "starting-austin",
   "metadata": {},
   "source": [
    "## Scatter Matrix"
   ]
  },
  {
   "cell_type": "markdown",
   "id": "sticky-grade",
   "metadata": {},
   "source": [
    "## Map Scatter Plot"
   ]
  },
  {
   "cell_type": "markdown",
   "id": "recognized-albania",
   "metadata": {},
   "source": [
    "## Chloropleth Maps"
   ]
  },
  {
   "cell_type": "markdown",
   "id": "neither-peace",
   "metadata": {},
   "source": [
    "## Polar Chart"
   ]
  },
  {
   "cell_type": "markdown",
   "id": "introductory-substance",
   "metadata": {},
   "source": [
    "## Ternary Plot"
   ]
  },
  {
   "cell_type": "markdown",
   "id": "honey-wallpaper",
   "metadata": {},
   "source": [
    "## Facets"
   ]
  },
  {
   "cell_type": "markdown",
   "id": "magnetic-breakdown",
   "metadata": {},
   "source": [
    "## Animated Plots"
   ]
  },
  {
   "cell_type": "code",
   "execution_count": null,
   "id": "secondary-nashville",
   "metadata": {},
   "outputs": [],
   "source": []
  }
 ],
 "metadata": {
  "kernelspec": {
   "display_name": "Python 3",
   "language": "python",
   "name": "python3"
  },
  "language_info": {
   "codemirror_mode": {
    "name": "ipython",
    "version": 3
   },
   "file_extension": ".py",
   "mimetype": "text/x-python",
   "name": "python",
   "nbconvert_exporter": "python",
   "pygments_lexer": "ipython3",
   "version": "3.8.8"
  },
  "toc": {
   "base_numbering": 1,
   "nav_menu": {},
   "number_sections": true,
   "sideBar": true,
   "skip_h1_title": false,
   "title_cell": "Table of Contents",
   "title_sidebar": "Contents",
   "toc_cell": false,
   "toc_position": {},
   "toc_section_display": true,
   "toc_window_display": false
  }
 },
 "nbformat": 4,
 "nbformat_minor": 5
}

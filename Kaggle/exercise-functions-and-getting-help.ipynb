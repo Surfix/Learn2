{
 "cells": [
  {
   "cell_type": "markdown",
   "id": "4d33c3a5",
   "metadata": {
    "papermill": {
     "duration": 0.014916,
     "end_time": "2021-08-05T03:33:00.029264",
     "exception": false,
     "start_time": "2021-08-05T03:33:00.014348",
     "status": "completed"
    },
    "tags": []
   },
   "source": [
    "**This notebook is an exercise in the [Python](https://www.kaggle.com/learn/python) course.  You can reference the tutorial at [this link](https://www.kaggle.com/colinmorris/functions-and-getting-help).**\n",
    "\n",
    "---\n"
   ]
  },
  {
   "cell_type": "markdown",
   "id": "07ea0ca6",
   "metadata": {
    "papermill": {
     "duration": 0.013862,
     "end_time": "2021-08-05T03:33:00.057643",
     "exception": false,
     "start_time": "2021-08-05T03:33:00.043781",
     "status": "completed"
    },
    "tags": []
   },
   "source": [
    "Functions are powerful. Try writing some yourself.\n",
    "\n",
    "As before, don't forget to run the setup code below before jumping into question 1."
   ]
  },
  {
   "cell_type": "code",
   "execution_count": 1,
   "id": "b1fb6c35",
   "metadata": {
    "_kg_hide-input": true,
    "_kg_hide-output": true,
    "execution": {
     "iopub.execute_input": "2021-08-05T03:33:00.090525Z",
     "iopub.status.busy": "2021-08-05T03:33:00.089298Z",
     "iopub.status.idle": "2021-08-05T03:33:00.229992Z",
     "shell.execute_reply": "2021-08-05T03:33:00.230573Z",
     "shell.execute_reply.started": "2021-08-05T03:26:00.210400Z"
    },
    "papermill": {
     "duration": 0.159357,
     "end_time": "2021-08-05T03:33:00.230929",
     "exception": false,
     "start_time": "2021-08-05T03:33:00.071572",
     "status": "completed"
    },
    "tags": []
   },
   "outputs": [
    {
     "name": "stdout",
     "output_type": "stream",
     "text": [
      "Setup complete.\n"
     ]
    }
   ],
   "source": [
    "# SETUP. You don't need to worry for now about what this code does or how it works.\n",
    "from learntools.core import binder; binder.bind(globals())\n",
    "from learntools.python.ex2 import *\n",
    "print('Setup complete.')"
   ]
  },
  {
   "cell_type": "markdown",
   "id": "cf8c7014",
   "metadata": {
    "papermill": {
     "duration": 0.014082,
     "end_time": "2021-08-05T03:33:00.260584",
     "exception": false,
     "start_time": "2021-08-05T03:33:00.246502",
     "status": "completed"
    },
    "tags": []
   },
   "source": [
    "# 1.\n",
    "\n",
    "Complete the body of the following function according to its docstring.\n",
    "\n",
    "HINT: Python has a built-in function `round`."
   ]
  },
  {
   "cell_type": "code",
   "execution_count": 2,
   "id": "0793269e",
   "metadata": {
    "execution": {
     "iopub.execute_input": "2021-08-05T03:33:00.298399Z",
     "iopub.status.busy": "2021-08-05T03:33:00.297645Z",
     "iopub.status.idle": "2021-08-05T03:33:00.301824Z",
     "shell.execute_reply": "2021-08-05T03:33:00.302324Z",
     "shell.execute_reply.started": "2021-08-05T03:26:36.621883Z"
    },
    "papermill": {
     "duration": 0.027593,
     "end_time": "2021-08-05T03:33:00.302508",
     "exception": false,
     "start_time": "2021-08-05T03:33:00.274915",
     "status": "completed"
    },
    "tags": []
   },
   "outputs": [
    {
     "data": {
      "application/javascript": [
       "parent.postMessage({\"jupyterEvent\": \"custom.exercise_interaction\", \"data\": {\"outcomeType\": 1, \"valueTowardsCompletion\": 0.16666666666666666, \"interactionType\": 1, \"questionType\": 2, \"questionId\": \"1_RoundFunctionProblem\", \"learnToolsVersion\": \"0.3.4\", \"failureMessage\": \"\", \"exceptionClass\": \"\", \"trace\": \"\"}}, \"*\")"
      ],
      "text/plain": [
       "<IPython.core.display.Javascript object>"
      ]
     },
     "metadata": {},
     "output_type": "display_data"
    },
    {
     "data": {
      "text/markdown": [
       "<span style=\"color:#33cc33\">Correct</span>"
      ],
      "text/plain": [
       "Correct"
      ]
     },
     "metadata": {},
     "output_type": "display_data"
    }
   ],
   "source": [
    "def round_to_two_places(num):\n",
    "    \"\"\"Return the given number rounded to two decimal places. \n",
    "    \n",
    "    >>> round_to_two_places(3.14159)\n",
    "    3.14\n",
    "    \"\"\"\n",
    "    # Replace this body with your own code.\n",
    "    # (\"pass\" is a keyword that does literally nothing. We used it as a placeholder\n",
    "    # because after we begin a code block, Python requires at least one line of code)\n",
    "    return round(num, 2)\n",
    "\n",
    "# Check your answer\n",
    "q1.check()"
   ]
  },
  {
   "cell_type": "code",
   "execution_count": 3,
   "id": "54fd29e9",
   "metadata": {
    "execution": {
     "iopub.execute_input": "2021-08-05T03:33:00.336502Z",
     "iopub.status.busy": "2021-08-05T03:33:00.335811Z",
     "iopub.status.idle": "2021-08-05T03:33:00.338990Z",
     "shell.execute_reply": "2021-08-05T03:33:00.339529Z"
    },
    "papermill": {
     "duration": 0.021766,
     "end_time": "2021-08-05T03:33:00.339701",
     "exception": false,
     "start_time": "2021-08-05T03:33:00.317935",
     "status": "completed"
    },
    "tags": []
   },
   "outputs": [],
   "source": [
    "# Uncomment the following for a hint\n",
    "#q1.hint()\n",
    "# Or uncomment the following to peek at the solution\n",
    "#q1.solution()"
   ]
  },
  {
   "cell_type": "markdown",
   "id": "df8313a8",
   "metadata": {
    "papermill": {
     "duration": 0.014846,
     "end_time": "2021-08-05T03:33:00.369942",
     "exception": false,
     "start_time": "2021-08-05T03:33:00.355096",
     "status": "completed"
    },
    "tags": []
   },
   "source": [
    "# 2.\n",
    "The help for `round` says that `ndigits` (the second argument) may be negative.\n",
    "What do you think will happen when it is? Try some examples in the following cell."
   ]
  },
  {
   "cell_type": "code",
   "execution_count": 4,
   "id": "11d6412e",
   "metadata": {
    "execution": {
     "iopub.execute_input": "2021-08-05T03:33:00.404847Z",
     "iopub.status.busy": "2021-08-05T03:33:00.404120Z",
     "iopub.status.idle": "2021-08-05T03:33:00.410324Z",
     "shell.execute_reply": "2021-08-05T03:33:00.409631Z",
     "shell.execute_reply.started": "2021-08-05T03:28:08.266717Z"
    },
    "papermill": {
     "duration": 0.024847,
     "end_time": "2021-08-05T03:33:00.410483",
     "exception": false,
     "start_time": "2021-08-05T03:33:00.385636",
     "status": "completed"
    },
    "tags": []
   },
   "outputs": [
    {
     "data": {
      "text/plain": [
       "300.0"
      ]
     },
     "execution_count": 4,
     "metadata": {},
     "output_type": "execute_result"
    }
   ],
   "source": [
    "round(343.567, -2)"
   ]
  },
  {
   "cell_type": "markdown",
   "id": "4f4444a5",
   "metadata": {
    "papermill": {
     "duration": 0.015297,
     "end_time": "2021-08-05T03:33:00.441827",
     "exception": false,
     "start_time": "2021-08-05T03:33:00.426530",
     "status": "completed"
    },
    "tags": []
   },
   "source": [
    "Can you think of a case where this would be useful?  Once you're ready, run the code cell below to see the answer and to receive credit for completing the problem."
   ]
  },
  {
   "cell_type": "code",
   "execution_count": 5,
   "id": "7473398b",
   "metadata": {
    "execution": {
     "iopub.execute_input": "2021-08-05T03:33:00.477255Z",
     "iopub.status.busy": "2021-08-05T03:33:00.476581Z",
     "iopub.status.idle": "2021-08-05T03:33:00.483654Z",
     "shell.execute_reply": "2021-08-05T03:33:00.483113Z",
     "shell.execute_reply.started": "2021-08-05T03:27:44.543821Z"
    },
    "papermill": {
     "duration": 0.026203,
     "end_time": "2021-08-05T03:33:00.483801",
     "exception": false,
     "start_time": "2021-08-05T03:33:00.457598",
     "status": "completed"
    },
    "tags": []
   },
   "outputs": [
    {
     "data": {
      "application/javascript": [
       "parent.postMessage({\"jupyterEvent\": \"custom.exercise_interaction\", \"data\": {\"interactionType\": 3, \"questionType\": 4, \"questionId\": \"2_RoundNdigitsProblem\", \"learnToolsVersion\": \"0.3.4\", \"valueTowardsCompletion\": 0.0, \"failureMessage\": \"\", \"exceptionClass\": \"\", \"trace\": \"\", \"outcomeType\": 4}}, \"*\")"
      ],
      "text/plain": [
       "<IPython.core.display.Javascript object>"
      ]
     },
     "metadata": {},
     "output_type": "display_data"
    },
    {
     "data": {
      "text/markdown": [
       "<span style=\"color:#33cc99\">Solution:</span> As you've seen, `ndigits=-1` rounds to the nearest 10, `ndigits=-2` rounds to the nearest 100 and so on. Where might this be useful? Suppose we're dealing with large numbers:\n",
       "\n",
       "> The area of Finland is 338,424 km²  \n",
       "> The area of Greenland is 2,166,086 km²\n",
       "\n",
       "We probably don't care whether it's really 338,424, or 338,425, or 338,177. All those digits of accuracy are just distracting. We can chop them off by calling `round()` with `ndigits=-3`:\n",
       "\n",
       "> The area of Finland is 338,000 km²  \n",
       "> The area of Greenland is 2,166,000 km²\n",
       "\n",
       "(We'll talk about how we would get the commas later when we talk about string formatting :))\n"
      ],
      "text/plain": [
       "Solution: As you've seen, `ndigits=-1` rounds to the nearest 10, `ndigits=-2` rounds to the nearest 100 and so on. Where might this be useful? Suppose we're dealing with large numbers:\n",
       "\n",
       "> The area of Finland is 338,424 km²  \n",
       "> The area of Greenland is 2,166,086 km²\n",
       "\n",
       "We probably don't care whether it's really 338,424, or 338,425, or 338,177. All those digits of accuracy are just distracting. We can chop them off by calling `round()` with `ndigits=-3`:\n",
       "\n",
       "> The area of Finland is 338,000 km²  \n",
       "> The area of Greenland is 2,166,000 km²\n",
       "\n",
       "(We'll talk about how we would get the commas later when we talk about string formatting :))"
      ]
     },
     "metadata": {},
     "output_type": "display_data"
    }
   ],
   "source": [
    "# Check your answer (Run this code cell to receive credit!)\n",
    "q2.solution()"
   ]
  },
  {
   "cell_type": "markdown",
   "id": "2b498e06",
   "metadata": {
    "papermill": {
     "duration": 0.020855,
     "end_time": "2021-08-05T03:33:00.527042",
     "exception": false,
     "start_time": "2021-08-05T03:33:00.506187",
     "status": "completed"
    },
    "tags": []
   },
   "source": [
    "# 3.\n",
    "\n",
    "In the previous exercise, the candy-sharing friends Alice, Bob and Carol tried to split candies evenly. For the sake of their friendship, any candies left over would be smashed. For example, if they collectively bring home 91 candies, they'll take 30 each and smash 1.\n",
    "\n",
    "Below is a simple function that will calculate the number of candies to smash for *any* number of total candies.\n",
    "\n",
    "Modify it so that it optionally takes a second argument representing the number of friends the candies are being split between. If no second argument is provided, it should assume 3 friends, as before.\n",
    "\n",
    "Update the docstring to reflect this new behaviour."
   ]
  },
  {
   "cell_type": "code",
   "execution_count": 6,
   "id": "f0f11191",
   "metadata": {
    "execution": {
     "iopub.execute_input": "2021-08-05T03:33:00.583071Z",
     "iopub.status.busy": "2021-08-05T03:33:00.582071Z",
     "iopub.status.idle": "2021-08-05T03:33:00.589814Z",
     "shell.execute_reply": "2021-08-05T03:33:00.588903Z",
     "shell.execute_reply.started": "2021-08-05T03:29:46.199568Z"
    },
    "papermill": {
     "duration": 0.035434,
     "end_time": "2021-08-05T03:33:00.589995",
     "exception": false,
     "start_time": "2021-08-05T03:33:00.554561",
     "status": "completed"
    },
    "tags": []
   },
   "outputs": [
    {
     "data": {
      "application/javascript": [
       "parent.postMessage({\"jupyterEvent\": \"custom.exercise_interaction\", \"data\": {\"outcomeType\": 1, \"valueTowardsCompletion\": 0.16666666666666666, \"interactionType\": 1, \"questionType\": 2, \"questionId\": \"3_CandySmashingFunctionProblem\", \"learnToolsVersion\": \"0.3.4\", \"failureMessage\": \"\", \"exceptionClass\": \"\", \"trace\": \"\"}}, \"*\")"
      ],
      "text/plain": [
       "<IPython.core.display.Javascript object>"
      ]
     },
     "metadata": {},
     "output_type": "display_data"
    },
    {
     "data": {
      "text/markdown": [
       "<span style=\"color:#33cc33\">Correct</span>"
      ],
      "text/plain": [
       "Correct"
      ]
     },
     "metadata": {},
     "output_type": "display_data"
    }
   ],
   "source": [
    "def to_smash(total_candies, n = 3):\n",
    "    \"\"\"Return the number of leftover candies that must be smashed after distributing\n",
    "    the given number of candies evenly between 3 friends.\n",
    "    \n",
    "    >>> to_smash(91)\n",
    "    1\n",
    "    \"\"\"\n",
    "    return total_candies % n\n",
    "\n",
    "# Check your answer\n",
    "q3.check()"
   ]
  },
  {
   "cell_type": "code",
   "execution_count": 7,
   "id": "26d535ed",
   "metadata": {
    "execution": {
     "iopub.execute_input": "2021-08-05T03:33:00.634312Z",
     "iopub.status.busy": "2021-08-05T03:33:00.633545Z",
     "iopub.status.idle": "2021-08-05T03:33:00.636112Z",
     "shell.execute_reply": "2021-08-05T03:33:00.636705Z"
    },
    "papermill": {
     "duration": 0.025706,
     "end_time": "2021-08-05T03:33:00.637028",
     "exception": false,
     "start_time": "2021-08-05T03:33:00.611322",
     "status": "completed"
    },
    "tags": []
   },
   "outputs": [],
   "source": [
    "#q3.hint()"
   ]
  },
  {
   "cell_type": "code",
   "execution_count": 8,
   "id": "dbf62eb7",
   "metadata": {
    "execution": {
     "iopub.execute_input": "2021-08-05T03:33:00.676425Z",
     "iopub.status.busy": "2021-08-05T03:33:00.675703Z",
     "iopub.status.idle": "2021-08-05T03:33:00.679036Z",
     "shell.execute_reply": "2021-08-05T03:33:00.679541Z"
    },
    "papermill": {
     "duration": 0.02484,
     "end_time": "2021-08-05T03:33:00.679734",
     "exception": false,
     "start_time": "2021-08-05T03:33:00.654894",
     "status": "completed"
    },
    "tags": []
   },
   "outputs": [],
   "source": [
    "#q3.solution()"
   ]
  },
  {
   "cell_type": "markdown",
   "id": "70c59ec8",
   "metadata": {
    "papermill": {
     "duration": 0.018413,
     "end_time": "2021-08-05T03:33:00.717447",
     "exception": false,
     "start_time": "2021-08-05T03:33:00.699034",
     "status": "completed"
    },
    "tags": []
   },
   "source": [
    "# 4. (Optional)\n",
    "\n",
    "It may not be fun, but reading and understanding error messages will be an important part of your Python career.\n",
    "\n",
    "Each code cell below contains some commented buggy code. For each cell...\n",
    "\n",
    "1. Read the code and predict what you think will happen when it's run.\n",
    "2. Then uncomment the code and run it to see what happens. (**Tip**: In the kernel editor, you can highlight several lines and press `ctrl`+`/` to toggle commenting.)\n",
    "3. Fix the code (so that it accomplishes its intended purpose without throwing an exception)\n",
    "\n",
    "<!-- TODO: should this be autochecked? Delta is probably pretty small. -->"
   ]
  },
  {
   "cell_type": "code",
   "execution_count": 9,
   "id": "70b469f9",
   "metadata": {
    "execution": {
     "iopub.execute_input": "2021-08-05T03:33:00.756858Z",
     "iopub.status.busy": "2021-08-05T03:33:00.756208Z",
     "iopub.status.idle": "2021-08-05T03:33:00.824590Z",
     "shell.execute_reply": "2021-08-05T03:33:00.822700Z",
     "shell.execute_reply.started": "2021-08-05T03:31:20.154523Z"
    },
    "papermill": {
     "duration": 0.08947,
     "end_time": "2021-08-05T03:33:00.824891",
     "exception": true,
     "start_time": "2021-08-05T03:33:00.735421",
     "status": "failed"
    },
    "tags": []
   },
   "outputs": [
    {
     "ename": "NameError",
     "evalue": "name 'ruound_to_two_places' is not defined",
     "output_type": "error",
     "traceback": [
      "\u001b[0;31m---------------------------------------------------------------------------\u001b[0m",
      "\u001b[0;31mNameError\u001b[0m                                 Traceback (most recent call last)",
      "\u001b[0;32m<ipython-input-9-c6fedd2edf24>\u001b[0m in \u001b[0;36m<module>\u001b[0;34m\u001b[0m\n\u001b[0;32m----> 1\u001b[0;31m \u001b[0mruound_to_two_places\u001b[0m\u001b[0;34m(\u001b[0m\u001b[0;36m9.9999\u001b[0m\u001b[0;34m)\u001b[0m\u001b[0;34m\u001b[0m\u001b[0;34m\u001b[0m\u001b[0m\n\u001b[0m",
      "\u001b[0;31mNameError\u001b[0m: name 'ruound_to_two_places' is not defined"
     ]
    }
   ],
   "source": [
    "ruound_to_two_places(9.9999)"
   ]
  },
  {
   "cell_type": "code",
   "execution_count": null,
   "id": "fe8566fd",
   "metadata": {
    "execution": {
     "iopub.execute_input": "2021-08-05T03:32:02.064188Z",
     "iopub.status.busy": "2021-08-05T03:32:02.063802Z",
     "iopub.status.idle": "2021-08-05T03:32:02.080789Z",
     "shell.execute_reply": "2021-08-05T03:32:02.079112Z",
     "shell.execute_reply.started": "2021-08-05T03:32:02.064152Z"
    },
    "papermill": {
     "duration": null,
     "end_time": null,
     "exception": null,
     "start_time": null,
     "status": "pending"
    },
    "tags": []
   },
   "outputs": [],
   "source": [
    "x = -10\n",
    "y = 5\n",
    "# Which of the two variables above has the smallest absolute value?\n",
    "smallest_abs = min(abs(x, y))"
   ]
  },
  {
   "cell_type": "code",
   "execution_count": null,
   "id": "bae189c8",
   "metadata": {
    "papermill": {
     "duration": null,
     "end_time": null,
     "exception": null,
     "start_time": null,
     "status": "pending"
    },
    "tags": []
   },
   "outputs": [],
   "source": [
    "# def f(x):\n",
    "#     y = abs(x)\n",
    "# return y\n",
    "\n",
    "# print(f(5))"
   ]
  },
  {
   "cell_type": "markdown",
   "id": "7b89cb04",
   "metadata": {
    "papermill": {
     "duration": null,
     "end_time": null,
     "exception": null,
     "start_time": null,
     "status": "pending"
    },
    "tags": []
   },
   "source": [
    "# Keep Going\n",
    "\n",
    "Nice job with the code. Next up, you'll learn about *conditionals*, which you'll need to **[write interesting programs](https://www.kaggle.com/colinmorris/booleans-and-conditionals)**. "
   ]
  },
  {
   "cell_type": "markdown",
   "id": "107cf727",
   "metadata": {
    "papermill": {
     "duration": null,
     "end_time": null,
     "exception": null,
     "start_time": null,
     "status": "pending"
    },
    "tags": []
   },
   "source": [
    "---\n",
    "\n",
    "\n",
    "\n",
    "\n",
    "*Have questions or comments? Visit the [Learn Discussion forum](https://www.kaggle.com/learn-forum/161283) to chat with other Learners.*"
   ]
  }
 ],
 "metadata": {
  "kernelspec": {
   "display_name": "Python 3",
   "language": "python",
   "name": "python3"
  },
  "language_info": {
   "codemirror_mode": {
    "name": "ipython",
    "version": 3
   },
   "file_extension": ".py",
   "mimetype": "text/x-python",
   "name": "python",
   "nbconvert_exporter": "python",
   "pygments_lexer": "ipython3",
   "version": "3.7.10"
  },
  "papermill": {
   "default_parameters": {},
   "duration": 10.863151,
   "end_time": "2021-08-05T03:33:02.386703",
   "environment_variables": {},
   "exception": true,
   "input_path": "__notebook__.ipynb",
   "output_path": "__notebook__.ipynb",
   "parameters": {},
   "start_time": "2021-08-05T03:32:51.523552",
   "version": "2.3.3"
  }
 },
 "nbformat": 4,
 "nbformat_minor": 5
}
